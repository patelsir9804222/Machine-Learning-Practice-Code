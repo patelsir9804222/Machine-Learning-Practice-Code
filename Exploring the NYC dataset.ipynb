{
 "cells": [
  {
   "cell_type": "code",
   "execution_count": 1,
   "id": "f58a00fd-1260-45df-a2bb-0ba61d044929",
   "metadata": {},
   "outputs": [],
   "source": [
    "%matplotlib inline\n",
    "import numpy as np\n",
    "import pandas as pd\n",
    "from datetime import timedelta\n",
    "import matplotlib.pyplot as plt\n",
    "import seaborn as sns\n",
    "from sklearn.model_selection import train_test_split\n",
    "import warnings\n",
    "warnings.filterwarnings('ignore')"
   ]
  },
  {
   "cell_type": "code",
   "execution_count": 2,
   "id": "dc55f392-53cf-4cf5-a8ef-75242ed23347",
   "metadata": {},
   "outputs": [],
   "source": [
    "df=pd.read_csv(\"Data/nyc_taxi_trip_duration.csv\")"
   ]
  },
  {
   "cell_type": "code",
   "execution_count": 3,
   "id": "fd3ab69f-4bc0-407e-a65f-e88602305136",
   "metadata": {},
   "outputs": [
    {
     "name": "stdout",
     "output_type": "stream",
     "text": [
      "We have 729322 rows.\n",
      "We have 11 columns\n"
     ]
    },
    {
     "data": {
      "text/plain": [
       "id                              id0889885\n",
       "vendor_id                               1\n",
       "pickup_datetime       2016-03-11 23:35:37\n",
       "dropoff_datetime      2016-03-11 23:53:57\n",
       "passenger_count                         2\n",
       "pickup_longitude               -73.988312\n",
       "pickup_latitude                 40.731743\n",
       "dropoff_longitude              -73.994751\n",
       "dropoff_latitude                40.694931\n",
       "store_and_fwd_flag                      N\n",
       "trip_duration                        1100\n",
       "Name: 1, dtype: object"
      ]
     },
     "execution_count": 3,
     "metadata": {},
     "output_type": "execute_result"
    }
   ],
   "source": [
    "print('We have {} rows.'.format(df.shape[0]))\n",
    "print('We have {} columns'.format(df.shape[1]))\n",
    "df.iloc[1,:]"
   ]
  },
  {
   "cell_type": "code",
   "execution_count": 4,
   "id": "95076026-7e5a-40ed-851d-ee272c77277e",
   "metadata": {},
   "outputs": [
    {
     "data": {
      "text/plain": [
       "id                    0\n",
       "vendor_id             0\n",
       "pickup_datetime       0\n",
       "dropoff_datetime      0\n",
       "passenger_count       0\n",
       "pickup_longitude      0\n",
       "pickup_latitude       0\n",
       "dropoff_longitude     0\n",
       "dropoff_latitude      0\n",
       "store_and_fwd_flag    0\n",
       "trip_duration         0\n",
       "dtype: int64"
      ]
     },
     "execution_count": 4,
     "metadata": {},
     "output_type": "execute_result"
    }
   ],
   "source": [
    "np.sum(pd.isnull(df))"
   ]
  },
  {
   "cell_type": "code",
   "execution_count": 5,
   "id": "da16839f-94fa-4a75-8ebd-2efbe0894b81",
   "metadata": {},
   "outputs": [
    {
     "data": {
      "text/plain": [
       "(0, 12)"
      ]
     },
     "execution_count": 5,
     "metadata": {},
     "output_type": "execute_result"
    }
   ],
   "source": [
    "df['pickup_datetime']=pd.to_datetime(df.pickup_datetime)\n",
    "df['dropoff_datetime']=pd.to_datetime(df.dropoff_datetime)\n",
    "df['store_and_fwd_flag']=1*(df.store_and_fwd_flag.values=='y')\n",
    "df['check_trip_duration']=(df['dropoff_datetime']-df['pickup_datetime']).map(lambda x:x.total_seconds())\n",
    "duration_difference=df[np.abs(df['check_trip_duration'].values-df['trip_duration'].values)>1]\n",
    "duration_difference.shape"
   ]
  },
  {
   "cell_type": "code",
   "execution_count": 6,
   "id": "0b23d774-b950-453a-ab29-d2ae341964d6",
   "metadata": {},
   "outputs": [
    {
     "data": {
      "text/plain": [
       "count    2025.894444\n",
       "mean        2.645081\n",
       "std        10.735073\n",
       "min         0.002778\n",
       "25%         1.102778\n",
       "50%         1.841667\n",
       "75%         2.986111\n",
       "max      5388.155556\n",
       "Name: trip_duration, dtype: float64"
      ]
     },
     "execution_count": 6,
     "metadata": {},
     "output_type": "execute_result"
    }
   ],
   "source": [
    "df['trip_duration'].describe()/360"
   ]
  },
  {
   "cell_type": "code",
   "execution_count": 7,
   "id": "b3ffe3c7-d249-4fdd-be83-da442a7d0a04",
   "metadata": {},
   "outputs": [
    {
     "data": {
      "image/png": "[encoded data removed]",
      "text/plain": [
       "<Figure size 640x480 with 1 Axes>"
      ]
     },
     "metadata": {},
     "output_type": "display_data"
    }
   ],
   "source": [
    "df['log_trip_duration'] = np.log(df['trip_duration'].values + 1)\n",
    "sns.distplot(df['log_trip_duration'], kde = False, bins = 200)\n",
    "plt.show()"
   ]
  },
  {
   "cell_type": "code",
   "execution_count": null,
   "id": "4ab17837-7263-4cee-98bc-42d469a6218c",
   "metadata": {},
   "outputs": [],
   "source": [
    "# Binary Features\n",
    "plt.figure(figsize=(18, 6))\n",
    "#fig, axs = plt.subplot(ncols=2)\n",
    "\n",
    "# Passenger Count\n",
    "plt.subplot(131)\n",
    "sns.countplot(df['passenger_count'])\n",
    "plt.xlabel('Passenger Count')\n",
    "plt.ylabel('Frequency')\n",
    "\n",
    "# vendor_id\n",
    "plt.subplot(132)\n",
    "sns.countplot(df['vendor_id'])\n",
    "plt.xlabel('vendor_id')\n",
    "plt.ylabel('Frequency')\n",
    "\n",
    "# store_and_fwd_flag\n",
    "plt.subplot(133)\n",
    "sns.countplot(df['store_and_fwd_flag'])\n",
    "plt.xlabel('store_and_fwd_flag')\n",
    "plt.ylabel('Frequency')"
   ]
  },
  {
   "cell_type": "code",
   "execution_count": null,
   "id": "7db09392-606f-4d72-8c80-c0c940fbae2b",
   "metadata": {},
   "outputs": [],
   "source": [
    "df['pickup_datetime'].min(), df['pickup_datetime'].max()"
   ]
  },
  {
   "cell_type": "code",
   "execution_count": null,
   "id": "b3ccf0fb-60a0-4fa3-8991-6c2363058fac",
   "metadata": {},
   "outputs": [],
   "source": [
    "df['day_of_week'] = df['pickup_datetime'].dt.weekday\n",
    "df['hour_of_day'] = df['pickup_datetime'].dt.hour"
   ]
  },
  {
   "cell_type": "code",
   "execution_count": null,
   "id": "68d72960-8893-498b-a02e-04b5cfe60298",
   "metadata": {},
   "outputs": [],
   "source": [
    "plt.figure(figsize=(18, 6))\n",
    "\n",
    "# Passenger Count\n",
    "plt.subplot(121)\n",
    "sns.countplot(df['day_of_week'])\n",
    "plt.xlabel('Week Day')\n",
    "plt.ylabel('Total Number of pickups')\n",
    "\n",
    "# vendor_id\n",
    "plt.subplot(122)\n",
    "sns.countplot(df['hour_of_day'])\n",
    "plt.xlabel('Hour of Day')\n",
    "plt.ylabel('Total number of pickups')"
   ]
  },
  {
   "cell_type": "code",
   "execution_count": null,
   "id": "e2e86837-58b3-478c-a211-ea271336f779",
   "metadata": {},
   "outputs": [],
   "source": [
    "sns.set(style=\"white\", palette=\"muted\", color_codes=True)\n",
    "f, axes = plt.subplots(2,2,figsize=(10, 10), sharex=False, sharey = False)\n",
    "sns.despine(left=True)\n",
    "sns.distplot(df['pickup_latitude'].values, label = 'pickup_latitude',color=\"b\",bins = 100, ax=axes[0,0])\n",
    "sns.distplot(df['pickup_longitude'].values, label = 'pickup_longitude',color=\"r\",bins =100, ax=axes[1,0])\n",
    "sns.distplot(df['dropoff_latitude'].values, label = 'dropoff_latitude',color=\"b\",bins =100, ax=axes[0,1])\n",
    "sns.distplot(df['dropoff_longitude'].values, label = 'dropoff_longitude',color=\"r\",bins =100, ax=axes[1,1])\n",
    "plt.setp(axes, yticks=[])\n",
    "plt.tight_layout()\n",
    "plt.show()"
   ]
  },
  {
   "cell_type": "code",
   "execution_count": null,
   "id": "1d0c6d0f-fdc4-4091-b405-4a7d59527378",
   "metadata": {},
   "outputs": [],
   "source": [
    "df = df.loc[(df.pickup_latitude > 40.6) & (df.pickup_latitude < 40.9)]\n",
    "df = df.loc[(df.dropoff_latitude>40.6) & (df.dropoff_latitude < 40.9)]\n",
    "df = df.loc[(df.dropoff_longitude > -74.05) & (df.dropoff_longitude < -73.7)]\n",
    "df = df.loc[(df.pickup_longitude > -74.05) & (df.pickup_longitude < -73.7)]\n",
    "df_data_new = df.copy()\n",
    "sns.set(style=\"white\", palette=\"muted\", color_codes=True)\n",
    "f, axes = plt.subplots(2,2,figsize=(10, 10), sharex=False, sharey = False)#\n",
    "sns.despine(left=True)\n",
    "sns.distplot(df_data_new['pickup_latitude'].values, label = 'pickup_latitude',color=\"b\",bins = 100, ax=axes[0,0])\n",
    "sns.distplot(df_data_new['pickup_longitude'].values, label = 'pickup_longitude',color=\"r\",bins =100, ax=axes[0,1])\n",
    "sns.distplot(df_data_new['dropoff_latitude'].values, label = 'dropoff_latitude',color=\"b\",bins =100, ax=axes[1, 0])\n",
    "sns.distplot(df_data_new['dropoff_longitude'].values, label = 'dropoff_longitude',color=\"r\",bins =100, ax=axes[1, 1])\n",
    "plt.setp(axes, yticks=[])\n",
    "plt.tight_layout()\n",
    "\n",
    "plt.show()"
   ]
  },
  {
   "cell_type": "code",
   "execution_count": null,
   "id": "e4eae712-4a7f-48ef-b705-305cca3bd493",
   "metadata": {},
   "outputs": [],
   "source": [
    "df.columns"
   ]
  },
  {
   "cell_type": "code",
   "execution_count": null,
   "id": "da0ed512-4b5e-4088-9198-5f70e696a9dc",
   "metadata": {},
   "outputs": [],
   "source": [
    "summary_wdays_avg_duration = pd.DataFrame(df.groupby(['day_of_week'])['trip_duration'].median())\n",
    "summary_wdays_avg_duration.reset_index(inplace = True)\n",
    "summary_wdays_avg_duration['unit']=1\n",
    "\n",
    "sns.set(style=\"white\", palette=\"muted\", color_codes=True)\n",
    "sns.set_context(\"poster\")\n",
    "sns.tsplot(data=summary_wdays_avg_duration, time=\"day_of_week\", unit = \"unit\", value=\"trip_duration\")\n",
    "sns.despine(bottom = False)"
   ]
  },
  {
   "cell_type": "code",
   "execution_count": null,
   "id": "ef376936-4aec-47ae-9327-2031a4fcdc4e",
   "metadata": {},
   "outputs": [],
   "source": [
    "summary_hourly_avg_duration = pd.DataFrame(df.groupby(['hour_of_day'])['trip_duration'].median())\n",
    "summary_hourly_avg_duration.reset_index(inplace = True)\n",
    "summary_hourly_avg_duration['unit']=1\n",
    "\n",
    "sns.set(style=\"white\", palette=\"muted\", color_codes=True)\n",
    "sns.set_context(\"poster\")\n",
    "sns.tsplot(data=summary_hourly_avg_duration, time=\"hour_of_day\", unit = \"unit\", value=\"trip_duration\")\n",
    "sns.despine(bottom = False)"
   ]
  },
  {
   "cell_type": "code",
   "execution_count": null,
   "id": "07592b40-0924-4ad2-8b0e-8fa1c10a8ef8",
   "metadata": {},
   "outputs": [],
   "source": [
    "plt.figure(figsize=(22, 6))\n",
    "sns.boxplot(x=\"vendor_id\", y=\"trip_duration\", data=df)\n",
    "plt.show()"
   ]
  },
  {
   "cell_type": "code",
   "execution_count": null,
   "id": "02941e81-8ecd-4280-b8e2-a1602cd97ba1",
   "metadata": {},
   "outputs": [],
   "source": [
    "plt.figure(figsize=(22, 6))\n",
    "df_sub = df[df['trip_duration'] < 50000]\n",
    "sns.boxplot(x=\"vendor_id\", y=\"trip_duration\", data=df_sub)\n",
    "plt.show()"
   ]
  },
  {
   "cell_type": "code",
   "execution_count": null,
   "id": "41124fdf-1d44-42ad-8141-ee39e2327b25",
   "metadata": {},
   "outputs": [],
   "source": [
    "summary_wdays_avg_duration = pd.DataFrame(df.groupby(['vendor_id','day_of_week'])['trip_duration'].mean())\n",
    "summary_wdays_avg_duration.reset_index(inplace = True)\n",
    "summary_wdays_avg_duration['unit']=1\n",
    "\n",
    "sns.set(style=\"white\", palette=\"muted\", color_codes=True)\n",
    "sns.set_context(\"poster\")\n",
    "sns.tsplot(data=summary_wdays_avg_duration, time=\"day_of_week\", unit = \"unit\", condition=\"vendor_id\", value=\"trip_duration\")\n",
    "sns.despine(bottom = False)"
   ]
  },
  {
   "cell_type": "code",
   "execution_count": null,
   "id": "e3f5ba49-a319-446d-ab43-f0a5527b13d7",
   "metadata": {},
   "outputs": [],
   "source": [
    "summary_wdays_avg_duration = pd.DataFrame(df.groupby(['vendor_id','day_of_week'])['trip_duration'].median())\n",
    "summary_wdays_avg_duration.reset_index(inplace = True)\n",
    "summary_wdays_avg_duration['unit']=1\n",
    "\n",
    "sns.set(style=\"white\", palette=\"muted\", color_codes=True)\n",
    "sns.set_context(\"poster\")\n",
    "sns.tsplot(data=summary_wdays_avg_duration, time=\"day_of_week\", unit = \"unit\", condition=\"vendor_id\", value=\"trip_duration\")\n",
    "sns.despine(bottom = False)"
   ]
  },
  {
   "cell_type": "code",
   "execution_count": null,
   "id": "36ae482a-56f0-4e6d-a785-bd51b1f7f756",
   "metadata": {},
   "outputs": [],
   "source": [
    "df.passenger_count.value_counts()"
   ]
  },
  {
   "cell_type": "code",
   "execution_count": null,
   "id": "0e3be4ce-fdb9-4300-b917-c604d99befa1",
   "metadata": {},
   "outputs": [],
   "source": [
    "df.passenger_count.value_counts()\n",
    "plt.figure(figsize=(22, 6))\n",
    "df_sub = df[df['trip_duration'] < 10000]\n",
    "sns.boxplot(x=\"passenger_count\", y=\"trip_duration\", data=df_sub)\n",
    "plt.show()"
   ]
  },
  {
   "cell_type": "code",
   "execution_count": null,
   "id": "b7c1c466-9e1f-4fef-917e-36de1605a521",
   "metadata": {},
   "outputs": [],
   "source": [
    "rgb = np.zeros((3000, 3500, 3), dtype=np.uint8)\n",
    "rgb[..., 0] = 0\n",
    "rgb[..., 1] = 0\n",
    "rgb[..., 2] = 0\n",
    "df_data_new['pick_lat_new'] = list(map(int, (df['pickup_latitude'] - (40.6000))*10000))\n",
    "df_data_new['drop_lat_new'] = list(map(int, (df['dropoff_latitude'] - (40.6000))*10000))\n",
    "df_data_new['pick_lon_new'] = list(map(int, (df['pickup_longitude'] - (-74.050))*10000))\n",
    "df_data_new['drop_lon_new'] = list(map(int,(df['dropoff_longitude'] - (-74.050))*10000))\n",
    "\n",
    "summary_plot = pd.DataFrame(df_data_new.groupby(['pick_lat_new', 'pick_lon_new'])['id'].count())\n",
    "\n",
    "summary_plot.reset_index(inplace = True)\n",
    "summary_plot.head(120)\n",
    "lat_list = summary_plot['pick_lat_new'].unique()\n",
    "for i in lat_list:\n",
    "    lon_list = summary_plot.loc[summary_plot['pick_lat_new']==i]['pick_lon_new'].tolist()\n",
    "    unit = summary_plot.loc[summary_plot['pick_lat_new']==i]['id'].tolist()\n",
    "    for j in lon_list:\n",
    "        a = unit[lon_list.index(j)]\n",
    "        if (a//25) >0:\n",
    "            rgb[i][j][0] = 255\n",
    "            rgb[i,j, 1] = 0\n",
    "            rgb[i,j, 2] = 0\n",
    "        elif (a//10)>0:\n",
    "            rgb[i,j, 0] = 0\n",
    "            rgb[i,j, 1] = 255\n",
    "            rgb[i,j, 2] = 0\n",
    "        else:\n",
    "            rgb[i,j, 0] = 255\n",
    "            rgb[i,j, 1] = 255\n",
    "            rgb[i,j, 2] = 255\n",
    "fig, ax = plt.subplots(nrows=1,ncols=1,figsize=(14,20))\n",
    "ax.imshow(rgb, cmap = 'hot')\n",
    "ax.set_axis_off() "
   ]
  },
  {
   "cell_type": "code",
   "execution_count": null,
   "id": "559317fb-e9df-49f4-a880-d9bd81cedef2",
   "metadata": {},
   "outputs": [],
   "source": [
    "plt.figure(figsize=(12, 6))\n",
    "df = df.drop(['id', 'pickup_datetime', 'dropoff_datetime',\n",
    "       'passenger_count','check_trip_duration','log_trip_duration'],\n",
    "        axis=1)\n",
    "corr = df.apply(lambda x: pd.factorize(x)[0]).corr()\n",
    "ax = sns.heatmap(corr, xticklabels=corr.columns, yticklabels=corr.columns, \n",
    "                 linewidths=.2, cmap=\"YlGnBu\")"
   ]
  },
  {
   "cell_type": "code",
   "execution_count": null,
   "id": "9261ae1e-ed3b-47d4-8c76-e271acd43d38",
   "metadata": {},
   "outputs": [],
   "source": []
  }
 ],
 "metadata": {
  "kernelspec": {
   "display_name": "Python 3 (ipykernel)",
   "language": "python",
   "name": "python3"
  },
  "language_info": {
   "codemirror_mode": {
    "name": "ipython",
    "version": 3
   },
   "file_extension": ".py",
   "mimetype": "text/x-python",
   "name": "python",
   "nbconvert_exporter": "python",
   "pygments_lexer": "ipython3",
   "version": "3.12.7"
  }
 },
 "nbformat": 4,
 "nbformat_minor": 5
}
