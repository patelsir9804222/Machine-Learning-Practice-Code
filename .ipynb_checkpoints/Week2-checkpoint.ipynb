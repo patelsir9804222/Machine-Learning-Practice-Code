{
 "cells": [
  {
   "cell_type": "markdown",
   "id": "d46545de-9e68-490d-9dd1-e34e8a102377",
   "metadata": {},
   "source": [
    "## Variable and Data Type\n",
    "* Assignemet Variable"
   ]
  },
  {
   "cell_type": "code",
   "execution_count": 44,
   "id": "4525b6c6-4bab-466f-bddf-2b3704b66450",
   "metadata": {},
   "outputs": [],
   "source": [
    "# define a variable name \"a\" and assign value 5 to it\n",
    "a = 5"
   ]
  },
  {
   "cell_type": "code",
   "execution_count": 34,
   "id": "ea469a5b-258d-48cc-8177-d1b92f407f82",
   "metadata": {},
   "outputs": [
    {
     "name": "stdout",
     "output_type": "stream",
     "text": [
      "5\n"
     ]
    }
   ],
   "source": [
    "# this is a print variable \n",
    "print(a)\n"
   ]
  },
  {
   "cell_type": "code",
   "execution_count": 45,
   "id": "9697dbd8-5999-43c6-a0c1-1b98fbc4d5ce",
   "metadata": {},
   "outputs": [],
   "source": [
    "a=45\n",
    "b=20\n",
    "a=b\n",
    "a=34\n",
    "A=42\n",
    "B=2"
   ]
  },
  {
   "cell_type": "code",
   "execution_count": 46,
   "id": "e518f895-c5e4-4fbc-8c68-c871515d1dec",
   "metadata": {},
   "outputs": [
    {
     "name": "stdout",
     "output_type": "stream",
     "text": [
      "34\n",
      "20\n",
      "2\n",
      "42\n"
     ]
    }
   ],
   "source": [
    "print(a)\n",
    "print(b)\n",
    "print(B)\n",
    "print(A)"
   ]
  },
  {
   "cell_type": "markdown",
   "id": "9f2acd16-7e8b-4ce4-90bc-e202eb7e85c8",
   "metadata": {},
   "source": [
    "\n",
    "## Data types\n",
    "\n",
    "* int\n",
    "* string\n",
    "* float\n",
    "* bool"
   ]
  },
  {
   "cell_type": "code",
   "execution_count": 47,
   "id": "4c6339dd-841d-436f-b8e3-e714e735fa96",
   "metadata": {},
   "outputs": [],
   "source": [
    "# integer type\n",
    "a=5\n",
    "# float\n",
    "b=2.5\n",
    "# string\n",
    "c=\"Arun\"\n",
    "#boolen\n",
    "d=True"
   ]
  },
  {
   "cell_type": "code",
   "execution_count": 48,
   "id": "c1b408f3-c6bc-46aa-81f7-fabd3bdd0841",
   "metadata": {},
   "outputs": [
    {
     "data": {
      "text/plain": [
       "int"
      ]
     },
     "execution_count": 48,
     "metadata": {},
     "output_type": "execute_result"
    }
   ],
   "source": [
    "type(a)"
   ]
  },
  {
   "cell_type": "code",
   "execution_count": 39,
   "id": "0c17da6b-7f99-416c-870b-b51b844fe1fb",
   "metadata": {},
   "outputs": [
    {
     "data": {
      "text/plain": [
       "float"
      ]
     },
     "execution_count": 39,
     "metadata": {},
     "output_type": "execute_result"
    }
   ],
   "source": [
    "type(b)"
   ]
  },
  {
   "cell_type": "code",
   "execution_count": 40,
   "id": "eb6ae45f-64da-48ee-9bea-d249f87feb81",
   "metadata": {},
   "outputs": [
    {
     "data": {
      "text/plain": [
       "str"
      ]
     },
     "execution_count": 40,
     "metadata": {},
     "output_type": "execute_result"
    }
   ],
   "source": [
    "type(c)"
   ]
  },
  {
   "cell_type": "code",
   "execution_count": 41,
   "id": "dbcebd36-6dbe-45ec-9d6d-a15f0709365f",
   "metadata": {},
   "outputs": [
    {
     "data": {
      "text/plain": [
       "bool"
      ]
     },
     "execution_count": 41,
     "metadata": {},
     "output_type": "execute_result"
    }
   ],
   "source": [
    "type(d)"
   ]
  },
  {
   "cell_type": "markdown",
   "id": "73c123ae-d467-4b8a-8e24-ea5bfd80c4b8",
   "metadata": {},
   "source": [
    "## Type Conversion\n",
    "* Convert float to interger"
   ]
  },
  {
   "cell_type": "code",
   "execution_count": 42,
   "id": "1f27156a-08fc-41c8-aa0b-32dfe0e01ee2",
   "metadata": {},
   "outputs": [
    {
     "data": {
      "text/plain": [
       "23"
      ]
     },
     "execution_count": 42,
     "metadata": {},
     "output_type": "execute_result"
    }
   ],
   "source": [
    "# age is generally interger number\n",
    "my_age=23.33333\n",
    "my_age=int(my_age)\n",
    "my_age"
   ]
  },
  {
   "cell_type": "markdown",
   "id": "8e54ad4c-9e8a-4067-b248-e8cb16c2ebec",
   "metadata": {},
   "source": [
    "* Convert string to integer"
   ]
  },
  {
   "cell_type": "code",
   "execution_count": 43,
   "id": "6c60de69-bb07-4726-be8d-bd04a2f7a077",
   "metadata": {},
   "outputs": [
    {
     "ename": "TypeError",
     "evalue": "can only concatenate str (not \"int\") to str",
     "output_type": "error",
     "traceback": [
      "\u001b[1;31m---------------------------------------------------------------------------\u001b[0m",
      "\u001b[1;31mTypeError\u001b[0m                                 Traceback (most recent call last)",
      "Cell \u001b[1;32mIn[43], line 1\u001b[0m\n\u001b[1;32m----> 1\u001b[0m my_age\u001b[38;5;241m=\u001b[39m\u001b[38;5;124;43m'\u001b[39;49m\u001b[38;5;124;43m4\u001b[39;49m\u001b[38;5;124;43m'\u001b[39;49m\u001b[38;5;241;43m+\u001b[39;49m\u001b[38;5;241;43m6\u001b[39;49m\n",
      "\u001b[1;31mTypeError\u001b[0m: can only concatenate str (not \"int\") to str"
     ]
    }
   ],
   "source": [
    "my_age='4'+6"
   ]
  },
  {
   "cell_type": "code",
   "execution_count": null,
   "id": "b6c7a152-efc6-4d38-b519-8df3f765a17a",
   "metadata": {},
   "outputs": [],
   "source": [
    "my_age=int('4')+6\n",
    "my_age"
   ]
  },
  {
   "cell_type": "markdown",
   "id": "bec52c4b-41d8-4ef0-b595-aa6353591593",
   "metadata": {},
   "source": [
    "<center><h1> 📍📍 Theory of Operators 📍📍 </h1> </center>\n",
    "\n",
    "\n",
    "* ***Arithmetic operators***  \n",
    "\n",
    "* ***Comparison operators***\n",
    "\n",
    "* ***Logical operators***"
   ]
  },
  {
   "cell_type": "code",
   "execution_count": 49,
   "id": "42d42bcc-ab22-4b7c-ac4f-c3790e1b32cb",
   "metadata": {},
   "outputs": [],
   "source": [
    "a = 4\n",
    "b = 5\n",
    "c = 6.63\n",
    "str ='Arun'"
   ]
  },
  {
   "cell_type": "code",
   "execution_count": 50,
   "id": "b3481a59-2737-484d-a187-c030ea0b868f",
   "metadata": {},
   "outputs": [],
   "source": [
    "a = 4\n",
    "b = 5"
   ]
  },
  {
   "cell_type": "code",
   "execution_count": 51,
   "id": "7bcb2493-4f40-411d-b1cb-756eab815a6e",
   "metadata": {},
   "outputs": [
    {
     "name": "stdout",
     "output_type": "stream",
     "text": [
      "9\n"
     ]
    }
   ],
   "source": [
    "print(a+b)"
   ]
  },
  {
   "cell_type": "code",
   "execution_count": 52,
   "id": "45f7dd26-b9f8-45c9-87b2-21f30a050260",
   "metadata": {},
   "outputs": [
    {
     "name": "stdout",
     "output_type": "stream",
     "text": [
      "-1\n"
     ]
    }
   ],
   "source": [
    "print(a-b)"
   ]
  },
  {
   "cell_type": "code",
   "execution_count": 53,
   "id": "3ca6238d-8322-49a1-b23b-7f132bf6001d",
   "metadata": {},
   "outputs": [
    {
     "name": "stdout",
     "output_type": "stream",
     "text": [
      "20\n"
     ]
    }
   ],
   "source": [
    "print(a*b)"
   ]
  },
  {
   "cell_type": "code",
   "execution_count": 54,
   "id": "85e84251-e387-4b73-a384-1d135120573f",
   "metadata": {},
   "outputs": [
    {
     "name": "stdout",
     "output_type": "stream",
     "text": [
      "0.8\n"
     ]
    }
   ],
   "source": [
    "print(a/b)"
   ]
  },
  {
   "cell_type": "code",
   "execution_count": 55,
   "id": "53f9a284-43f3-43e0-9e8b-a927b6b841f8",
   "metadata": {},
   "outputs": [
    {
     "data": {
      "text/plain": [
       "1024"
      ]
     },
     "execution_count": 55,
     "metadata": {},
     "output_type": "execute_result"
    }
   ],
   "source": [
    "a**b"
   ]
  },
  {
   "cell_type": "code",
   "execution_count": 56,
   "id": "a21a82d7-0593-4228-b5e1-48277b43a8b9",
   "metadata": {},
   "outputs": [
    {
     "data": {
      "text/plain": [
       "0"
      ]
     },
     "execution_count": 56,
     "metadata": {},
     "output_type": "execute_result"
    }
   ],
   "source": [
    "a//b"
   ]
  },
  {
   "cell_type": "code",
   "execution_count": 57,
   "id": "2b706ee9-64f4-40c2-b81b-53300d912b20",
   "metadata": {},
   "outputs": [
    {
     "data": {
      "text/plain": [
       "4"
      ]
     },
     "execution_count": 57,
     "metadata": {},
     "output_type": "execute_result"
    }
   ],
   "source": [
    "a%b"
   ]
  },
  {
   "cell_type": "code",
   "execution_count": 58,
   "id": "201e7dcc-1499-49f2-84ad-a0cdc11115cf",
   "metadata": {},
   "outputs": [
    {
     "data": {
      "text/plain": [
       "False"
      ]
     },
     "execution_count": 58,
     "metadata": {},
     "output_type": "execute_result"
    }
   ],
   "source": [
    "a==b"
   ]
  },
  {
   "cell_type": "code",
   "execution_count": 59,
   "id": "1190dc25-e643-4819-a9a3-8e4eab15fed9",
   "metadata": {},
   "outputs": [
    {
     "data": {
      "text/plain": [
       "True"
      ]
     },
     "execution_count": 59,
     "metadata": {},
     "output_type": "execute_result"
    }
   ],
   "source": [
    "a != b"
   ]
  },
  {
   "cell_type": "code",
   "execution_count": 60,
   "id": "2cfea2a0-3697-4de4-923a-9a2f09b06ded",
   "metadata": {},
   "outputs": [
    {
     "data": {
      "text/plain": [
       "False"
      ]
     },
     "execution_count": 60,
     "metadata": {},
     "output_type": "execute_result"
    }
   ],
   "source": [
    "a == 51"
   ]
  },
  {
   "cell_type": "code",
   "execution_count": 61,
   "id": "774a715c-9f8d-476b-90f3-79d244704e67",
   "metadata": {},
   "outputs": [
    {
     "data": {
      "text/plain": [
       "bool"
      ]
     },
     "execution_count": 61,
     "metadata": {},
     "output_type": "execute_result"
    }
   ],
   "source": [
    "type(a == b)"
   ]
  },
  {
   "cell_type": "code",
   "execution_count": 62,
   "id": "1d127dce-d98e-4e63-890e-3e485ba773fb",
   "metadata": {},
   "outputs": [
    {
     "data": {
      "text/plain": [
       "False"
      ]
     },
     "execution_count": 62,
     "metadata": {},
     "output_type": "execute_result"
    }
   ],
   "source": [
    "a>b"
   ]
  },
  {
   "cell_type": "code",
   "execution_count": 63,
   "id": "ad2ef536-fcbb-4f50-a561-9305a0a48788",
   "metadata": {},
   "outputs": [
    {
     "data": {
      "text/plain": [
       "True"
      ]
     },
     "execution_count": 63,
     "metadata": {},
     "output_type": "execute_result"
    }
   ],
   "source": [
    "a<b"
   ]
  },
  {
   "cell_type": "code",
   "execution_count": 64,
   "id": "310ceb15-6fc5-4465-8554-0272a65d172e",
   "metadata": {},
   "outputs": [
    {
     "data": {
      "text/plain": [
       "False"
      ]
     },
     "execution_count": 64,
     "metadata": {},
     "output_type": "execute_result"
    }
   ],
   "source": [
    "a>=51"
   ]
  },
  {
   "cell_type": "code",
   "execution_count": 65,
   "id": "39a5910e-82f7-4d48-877b-4d8d3356516c",
   "metadata": {},
   "outputs": [
    {
     "data": {
      "text/plain": [
       "True"
      ]
     },
     "execution_count": 65,
     "metadata": {},
     "output_type": "execute_result"
    }
   ],
   "source": [
    "(1 == 1) and (2 == 2)"
   ]
  },
  {
   "cell_type": "code",
   "execution_count": 66,
   "id": "e0b00357-10f5-4f46-8b85-5a9cbe79c0db",
   "metadata": {},
   "outputs": [
    {
     "data": {
      "text/plain": [
       "True"
      ]
     },
     "execution_count": 66,
     "metadata": {},
     "output_type": "execute_result"
    }
   ],
   "source": [
    "(1 == 1) or (3 == 4)"
   ]
  },
  {
   "cell_type": "code",
   "execution_count": 72,
   "id": "de4201d2-e2d3-49d7-905c-7dc4fc3f34bd",
   "metadata": {},
   "outputs": [
    {
     "data": {
      "text/plain": [
       "True"
      ]
     },
     "execution_count": 72,
     "metadata": {},
     "output_type": "execute_result"
    }
   ],
   "source": [
    "(1 <= 2) or ((2 > 3) or (4 == 4))"
   ]
  },
  {
   "cell_type": "markdown",
   "id": "567737af-56b7-4fc3-acda-7c11f0746b96",
   "metadata": {},
   "source": [
    "\n",
    "## 📌📌 Indentation and Comments in Python\n",
    "\n",
    "***Before we start Conditional Statements, let's have a look at `indentation` and `comments` in Python.***\n",
    "\n",
    "#### `INDENTATION`\n",
    "\n",
    "\n",
    " - Indentation means `(spaces and tabs)` that are used at the beginning of any statement. The statements with the same indentation belong to the same group also called as `suite`. "
   ]
  },
  {
   "cell_type": "code",
   "execution_count": 73,
   "id": "c63e53c8-b33e-47c9-9181-f8d873a211a8",
   "metadata": {},
   "outputs": [
    {
     "ename": "IndentationError",
     "evalue": "unexpected indent (763307979.py, line 2)",
     "output_type": "error",
     "traceback": [
      "\u001b[1;36m  Cell \u001b[1;32mIn[73], line 2\u001b[1;36m\u001b[0m\n\u001b[1;33m    b = 6 # unexpected extra space will give us an error\u001b[0m\n\u001b[1;37m    ^\u001b[0m\n\u001b[1;31mIndentationError\u001b[0m\u001b[1;31m:\u001b[0m unexpected indent\n"
     ]
    }
   ],
   "source": [
    "a = 5\n",
    "    b = 6 # unexpected extra space will give us an error"
   ]
  },
  {
   "cell_type": "code",
   "execution_count": 70,
   "id": "ca0efea5-315c-4d99-bbdb-80065180a717",
   "metadata": {},
   "outputs": [
    {
     "name": "stdout",
     "output_type": "stream",
     "text": [
      "True Statement\n"
     ]
    }
   ],
   "source": [
    "if (2 == 2):\n",
    "    print('True Statement')"
   ]
  },
  {
   "cell_type": "code",
   "execution_count": 71,
   "id": "9757f827-7a6e-4bec-b547-a20117f4c7e2",
   "metadata": {},
   "outputs": [
    {
     "name": "stdout",
     "output_type": "stream",
     "text": [
      "This line will be executed\n"
     ]
    }
   ],
   "source": [
    "print('This line will be executed')\n",
    "# print('This is a comment')\n",
    "# This line does nothing !!!"
   ]
  },
  {
   "cell_type": "markdown",
   "id": "b3922517-9b10-4ac8-b1a8-270f98ac1fe9",
   "metadata": {},
   "source": [
    "\n",
    "<center><h1> 📍 📍 Conditional Statements 📍 📍 </h1></center>\n",
    "\n",
    "\n",
    "---\n",
    "***CONDITIONAL OPERATORS***\n",
    "\n",
    "* ***Double Equals:*** a == b\n",
    "* ***Not Equals:*** a != b\n",
    "* ***Less than:*** a < b\n",
    "* ***Less than or equal to:*** a <= b\n",
    "* ***Greater than:*** a > b\n",
    "* ***Greater than or equal to:*** a >= b\n"
   ]
  },
  {
   "cell_type": "code",
   "execution_count": 74,
   "id": "b8cdef17-cd28-48a3-b1a7-75afe8ea37b6",
   "metadata": {},
   "outputs": [
    {
     "name": "stdout",
     "output_type": "stream",
     "text": [
      "The condition in the Statement is True.\n"
     ]
    }
   ],
   "source": [
    "# if Statement\n",
    "x = 2\n",
    "if(x==2):\n",
    "    print('The condition in the Statement is True.')"
   ]
  },
  {
   "cell_type": "code",
   "execution_count": 75,
   "id": "3e100ad3-6ae7-481d-bb2c-12ecb5e32a95",
   "metadata": {},
   "outputs": [],
   "source": [
    "# if \"The condition in the if statement is false.\"\n",
    "if(x==3):\n",
    "    print('The condition in the statement is True')"
   ]
  },
  {
   "cell_type": "code",
   "execution_count": 76,
   "id": "a42c91b4-3e3e-4f23-87d5-aad6d47ec785",
   "metadata": {},
   "outputs": [
    {
     "name": "stdout",
     "output_type": "stream",
     "text": [
      "a is smaller than b\n"
     ]
    }
   ],
   "source": [
    "# With the one condition\n",
    "a = 10\n",
    "b = 20\n",
    "if(a>b):\n",
    "    print('a is greater than b.')\n",
    "else:\n",
    "    print('a is smaller than b')"
   ]
  },
  {
   "cell_type": "code",
   "execution_count": 77,
   "id": "591cd091-6e48-4e50-8b0a-1a35ed4d398c",
   "metadata": {},
   "outputs": [
    {
     "name": "stdout",
     "output_type": "stream",
     "text": [
      "Both number are greater than 5\n"
     ]
    }
   ],
   "source": [
    "# multiple cfondition\n",
    "a = 8\n",
    "b = 10\n",
    "if((a>10)and(b>10)):\n",
    "    print('Both number are greater than 10')\n",
    "elif(a>5)and(b>5):\n",
    "    print('Both number are greater than 5')\n",
    "else:\n",
    "    print('Condition are not happy')"
   ]
  },
  {
   "cell_type": "code",
   "execution_count": 79,
   "id": "84a22e95-055e-4da9-8357-73e8864efa05",
   "metadata": {},
   "outputs": [
    {
     "name": "stdin",
     "output_type": "stream",
     "text": [
      " 23\n"
     ]
    },
    {
     "name": "stdout",
     "output_type": "stream",
     "text": [
      "odd\n"
     ]
    }
   ],
   "source": [
    "# take the input from the user by using the the function\n",
    "x = input()\n",
    "x = int(x)\n",
    "# by default the type is string, so we need to convert the type first\n",
    "if(x%2==0):\n",
    "    print(\"even\")\n",
    "else:\n",
    "    print(\"odd\")"
   ]
  },
  {
   "cell_type": "code",
   "execution_count": 80,
   "id": "62c7eeea-2060-4930-a80a-50f1daeaf532",
   "metadata": {},
   "outputs": [
    {
     "name": "stdin",
     "output_type": "stream",
     "text": [
      " 89\n"
     ]
    },
    {
     "name": "stdout",
     "output_type": "stream",
     "text": [
      "Grdae B\n"
     ]
    }
   ],
   "source": [
    "y = input()\n",
    "y = int(y)\n",
    "if(y>90):\n",
    "    print(\"Grade A\")\n",
    "elif(y>60):\n",
    "    print(\"Grdae B\")\n",
    "else:\n",
    "    print(\"Grade Fail\")"
   ]
  },
  {
   "cell_type": "code",
   "execution_count": 81,
   "id": "28d7bee4-0030-4dde-9c4f-e09ef66f6021",
   "metadata": {},
   "outputs": [
    {
     "name": "stdout",
     "output_type": "stream",
     "text": [
      "0\n",
      "1\n",
      "2\n",
      "3\n",
      "4\n"
     ]
    }
   ],
   "source": [
    "for number in range(5):\n",
    "    print(number)"
   ]
  },
  {
   "cell_type": "code",
   "execution_count": 82,
   "id": "d6fcbcc0-58e7-477f-917c-6091365af20b",
   "metadata": {},
   "outputs": [
    {
     "name": "stdout",
     "output_type": "stream",
     "text": [
      "1\n",
      "2\n",
      "3\n",
      "4\n"
     ]
    }
   ],
   "source": [
    "for number in range(1, 5):\n",
    "    print(number)"
   ]
  },
  {
   "cell_type": "code",
   "execution_count": 83,
   "id": "e40d8a29-8e74-4dd1-b3b7-cd527417412a",
   "metadata": {},
   "outputs": [
    {
     "name": "stdout",
     "output_type": "stream",
     "text": [
      "1 3 5 7 9 "
     ]
    }
   ],
   "source": [
    "for number in range(1, 10, 2):\n",
    "    print(number, end=  ' ')"
   ]
  },
  {
   "cell_type": "code",
   "execution_count": 84,
   "id": "532799a4-b074-4b68-a3a3-5a12d541ea72",
   "metadata": {},
   "outputs": [
    {
     "name": "stdout",
     "output_type": "stream",
     "text": [
      "A\n",
      "r\n",
      "u\n",
      "n\n",
      " \n",
      "P\n",
      "a\n",
      "t\n",
      "e\n",
      "l\n"
     ]
    }
   ],
   "source": [
    "for char in \"Arun Patel\":\n",
    "    print(char)"
   ]
  },
  {
   "cell_type": "markdown",
   "id": "04b1d931-7535-4e12-9d2d-44f80f568ce9",
   "metadata": {},
   "source": [
    "## Nested Loop"
   ]
  },
  {
   "cell_type": "code",
   "execution_count": 85,
   "id": "5ff01378-8c08-4d0b-944d-539c94576dc4",
   "metadata": {},
   "outputs": [
    {
     "name": "stdout",
     "output_type": "stream",
     "text": [
      "1 A\n",
      "1 B\n",
      "1 C\n",
      "2 A\n",
      "2 B\n",
      "2 C\n"
     ]
    }
   ],
   "source": [
    "for outer_loop_number in range(1, 3):\n",
    "    for inner_loop_char in \"ABC\":\n",
    "        print(outer_loop_number, inner_loop_char)"
   ]
  },
  {
   "cell_type": "markdown",
   "id": "66f9bfa8-0ced-45fa-bcbd-56aaebcb1c3a",
   "metadata": {},
   "source": [
    "## While loop"
   ]
  },
  {
   "cell_type": "code",
   "execution_count": 86,
   "id": "d2e8a042-e1a3-46a2-a018-bd4733917b9c",
   "metadata": {},
   "outputs": [
    {
     "name": "stdout",
     "output_type": "stream",
     "text": [
      "0\n",
      "1\n",
      "2\n",
      "3\n",
      "4\n",
      "5\n",
      "6\n"
     ]
    }
   ],
   "source": [
    "number = 0\n",
    "while (number < 7):\n",
    "    print(number)\n",
    "    number = number+1"
   ]
  },
  {
   "cell_type": "markdown",
   "id": "97b48431-9be2-4db0-914b-18d36edc455a",
   "metadata": {},
   "source": [
    "## 📍📍 Jump Statements in Python (break, continue and pass)"
   ]
  },
  {
   "cell_type": "code",
   "execution_count": 1,
   "id": "e1e24275-9cab-4c9e-8a5c-1c89db52af22",
   "metadata": {},
   "outputs": [
    {
     "name": "stdout",
     "output_type": "stream",
     "text": [
      "Number is0\n",
      "Number is1\n",
      "Number is2\n",
      "Number is3\n",
      "Number is4\n",
      "Number is5\n",
      "Number is6\n",
      "Out of loop\n"
     ]
    }
   ],
   "source": [
    "number = 0\n",
    "for number in range(10):\n",
    "    if number == 7:\n",
    "        break\n",
    "    print('Number is' + str(number))\n",
    "print('Out of loop')"
   ]
  },
  {
   "cell_type": "code",
   "execution_count": 1,
   "id": "b67ba777-fd12-460a-b22e-fd81e8a2f1d1",
   "metadata": {},
   "outputs": [
    {
     "name": "stdout",
     "output_type": "stream",
     "text": [
      "once trail Left!\n"
     ]
    },
    {
     "name": "stdin",
     "output_type": "stream",
     "text": [
      "enter number: 12345\n",
      "enter your number 12345\n",
      "enter your city 123345\n"
     ]
    }
   ],
   "source": [
    "number=\"12345\"\n",
    "for trail in range(1, 5):\n",
    "    if trail == 4:\n",
    "        print('once trail Left!')\n",
    "        enter_number=input(\"enter number:\")\n",
    "        if enter_number!=number:\n",
    "            print(\"try again\")\n",
    "            continue\n",
    "        else:\n",
    "            name=input(\"enter your number\")\n",
    "            name_city=input(\"enter your city\")\n",
    "            break"
   ]
  },
  {
   "cell_type": "code",
   "execution_count": 2,
   "id": "37515b9f-8f0b-45a5-8e51-dc8432d2beae",
   "metadata": {},
   "outputs": [
    {
     "name": "stdin",
     "output_type": "stream",
     "text": [
      "Enter Your Password : data\n",
      "Enter Your Password : data\n",
      "Enter Your Password : data\n"
     ]
    },
    {
     "name": "stdout",
     "output_type": "stream",
     "text": [
      "once trail left !!\n"
     ]
    },
    {
     "name": "stdin",
     "output_type": "stream",
     "text": [
      "Enter Your Password : data\n"
     ]
    },
    {
     "name": "stdout",
     "output_type": "stream",
     "text": [
      "Wrong password\n"
     ]
    }
   ],
   "source": [
    "password=\"Data\"\n",
    "for password in range(1, 5):\n",
    "    if password == 4:\n",
    "        print('once trail left !!')\n",
    "    enter_password = input(\"Enter Your Password :\")\n",
    "    if enter_password == password:\n",
    "        print(\"Wellcome to Python\")\n",
    "    continue\n",
    "else:\n",
    "    print(\"Wrong password\")\n",
    "    "
   ]
  },
  {
   "cell_type": "code",
   "execution_count": 3,
   "id": "dde75873-49d9-485e-970e-57923d0d8b1d",
   "metadata": {},
   "outputs": [
    {
     "name": "stdout",
     "output_type": "stream",
     "text": [
      "out of loop\n",
      "out of loop\n",
      "out of loop\n",
      "out of loop\n",
      "out of loop\n",
      "out of loop\n",
      "out of loop\n",
      "out of loop\n",
      "out of loop\n"
     ]
    }
   ],
   "source": [
    "number = 0\n",
    "for number in range(10):\n",
    "    if number == 6:\n",
    "        continue\n",
    "        print('number is ' + str(number))\n",
    "    print('out of loop')\n",
    "    "
   ]
  },
  {
   "cell_type": "code",
   "execution_count": 4,
   "id": "92b75d21-9e15-4487-adf8-2e4dd74c5b37",
   "metadata": {},
   "outputs": [
    {
     "name": "stdout",
     "output_type": "stream",
     "text": [
      "Worng password\n",
      "Worng password\n",
      "Worng password\n",
      "once try again!!\n"
     ]
    },
    {
     "name": "stdin",
     "output_type": "stream",
     "text": [
      "Enter your password 123345\n"
     ]
    },
    {
     "name": "stdout",
     "output_type": "stream",
     "text": [
      "Worng password\n"
     ]
    }
   ],
   "source": [
    "password = \"Data\"\n",
    "for password in range(1, 5):\n",
    "    if password == 4:\n",
    "        print('once try again!!')\n",
    "        enter_password = input(\"Enter your password\")\n",
    "    if enter_password==password:\n",
    "        print(\"Wellcome to Pyrhon\")\n",
    "        contiinue\n",
    "    else:\n",
    "        print(\"Worng password\")"
   ]
  },
  {
   "cell_type": "code",
   "execution_count": 5,
   "id": "027b8751-ceb6-4c33-8cbc-44ef216e2911",
   "metadata": {},
   "outputs": [
    {
     "name": "stdout",
     "output_type": "stream",
     "text": [
      "Out of loop\n",
      "Out of loop\n",
      "Out of loop\n",
      "Out of loop\n",
      "Out of loop\n",
      "Out of loop\n",
      "Out of loop\n"
     ]
    },
    {
     "ename": "TypeError",
     "evalue": "bad operand type for unary +: 'str'",
     "output_type": "error",
     "traceback": [
      "\u001b[1;31m---------------------------------------------------------------------------\u001b[0m",
      "\u001b[1;31mTypeError\u001b[0m                                 Traceback (most recent call last)",
      "Cell \u001b[1;32mIn[5], line 5\u001b[0m\n\u001b[0;32m      3\u001b[0m \u001b[38;5;28;01mif\u001b[39;00m number \u001b[38;5;241m==\u001b[39m \u001b[38;5;241m7\u001b[39m:\n\u001b[0;32m      4\u001b[0m     \u001b[38;5;28;01mpass\u001b[39;00m\n\u001b[1;32m----> 5\u001b[0m     \u001b[38;5;28mprint\u001b[39m(\u001b[38;5;124m'\u001b[39m\u001b[38;5;124mNumber is :\u001b[39m\u001b[38;5;124m'\u001b[39m, \u001b[38;5;241;43m+\u001b[39;49m\u001b[43m \u001b[49m\u001b[38;5;28;43mstr\u001b[39;49m\u001b[43m(\u001b[49m\u001b[43mnumber\u001b[49m\u001b[43m)\u001b[49m)\n\u001b[0;32m      6\u001b[0m \u001b[38;5;28mprint\u001b[39m(\u001b[38;5;124m'\u001b[39m\u001b[38;5;124mOut of loop\u001b[39m\u001b[38;5;124m'\u001b[39m)\n",
      "\u001b[1;31mTypeError\u001b[0m: bad operand type for unary +: 'str'"
     ]
    }
   ],
   "source": [
    "number = 0\n",
    "for number in range(10):\n",
    "    if number == 7:\n",
    "        pass\n",
    "        print('Number is :', + str(number))\n",
    "    print('Out of loop')"
   ]
  },
  {
   "cell_type": "markdown",
   "id": "bddd2e65-11a2-412f-a8f3-3059db528ef3",
   "metadata": {},
   "source": [
    "#### <center><h1> 📍 📍 DATA STRUCTURE - LIST 📍 📍 </h1></center>"
   ]
  },
  {
   "cell_type": "code",
   "execution_count": 11,
   "id": "2e4c9ea4-dcdf-41cd-9e6e-73c8574a66fc",
   "metadata": {},
   "outputs": [],
   "source": [
    "#creating a list\n",
    "my_list =[1, 2, 3, 4, 5, 6, 7, 8, 9, 10]"
   ]
  },
  {
   "cell_type": "code",
   "execution_count": 12,
   "id": "f7e37c5c-2477-4d48-ad6b-c2ad1d65f08a",
   "metadata": {},
   "outputs": [
    {
     "data": {
      "text/plain": [
       "[1, 2, 3, 4, 5, 6, 7, 8, 9, 10]"
      ]
     },
     "execution_count": 12,
     "metadata": {},
     "output_type": "execute_result"
    }
   ],
   "source": [
    "my_list"
   ]
  },
  {
   "cell_type": "code",
   "execution_count": 13,
   "id": "44325a9d-fb76-4c21-b17c-936b3c220f25",
   "metadata": {},
   "outputs": [
    {
     "data": {
      "text/plain": [
       "5"
      ]
     },
     "execution_count": 13,
     "metadata": {},
     "output_type": "execute_result"
    }
   ],
   "source": [
    "my_list[4]"
   ]
  },
  {
   "cell_type": "code",
   "execution_count": 14,
   "id": "1eccc7ce-0e55-40d7-bede-cd9091a3455c",
   "metadata": {},
   "outputs": [
    {
     "data": {
      "text/plain": [
       "5"
      ]
     },
     "execution_count": 14,
     "metadata": {},
     "output_type": "execute_result"
    }
   ],
   "source": [
    "my_list[-6]"
   ]
  },
  {
   "cell_type": "code",
   "execution_count": 15,
   "id": "e6e10962-29a3-4659-b3b6-8319d3d30db6",
   "metadata": {},
   "outputs": [
    {
     "data": {
      "text/plain": [
       "[1, 2, 3, 4, 5, 6, 7, 8, 9, 10]"
      ]
     },
     "execution_count": 15,
     "metadata": {},
     "output_type": "execute_result"
    }
   ],
   "source": [
    "my_list[:]"
   ]
  },
  {
   "cell_type": "code",
   "execution_count": 16,
   "id": "2b678207-aa85-4532-9137-97c1d857d2f1",
   "metadata": {},
   "outputs": [
    {
     "data": {
      "text/plain": [
       "[1, 2, 3, 4, 5, 6, 7, 8, 9, 10]"
      ]
     },
     "execution_count": 16,
     "metadata": {},
     "output_type": "execute_result"
    }
   ],
   "source": [
    "my_list[::]"
   ]
  },
  {
   "cell_type": "code",
   "execution_count": 17,
   "id": "4edae578-257a-4333-8c1b-578572b61227",
   "metadata": {},
   "outputs": [
    {
     "data": {
      "text/plain": [
       "[1, 2, 3, 4, 5, 6, 7, 8, 9, 10]"
      ]
     },
     "execution_count": 17,
     "metadata": {},
     "output_type": "execute_result"
    }
   ],
   "source": [
    "my_list[::1]"
   ]
  },
  {
   "cell_type": "code",
   "execution_count": 18,
   "id": "39938b6f-fbea-4ff8-9149-4f23fbbf2943",
   "metadata": {},
   "outputs": [
    {
     "data": {
      "text/plain": [
       "[1, 3, 5, 7, 9]"
      ]
     },
     "execution_count": 18,
     "metadata": {},
     "output_type": "execute_result"
    }
   ],
   "source": [
    "my_list[::2]"
   ]
  },
  {
   "cell_type": "code",
   "execution_count": 19,
   "id": "54ae2f78-3630-4105-8fcc-a83fe071474e",
   "metadata": {},
   "outputs": [
    {
     "data": {
      "text/plain": [
       "[3, 5]"
      ]
     },
     "execution_count": 19,
     "metadata": {},
     "output_type": "execute_result"
    }
   ],
   "source": [
    "my_list[2:5:2]"
   ]
  },
  {
   "cell_type": "code",
   "execution_count": 20,
   "id": "f08e9bb5-cb1c-4f1b-84f6-66c3fa8c525d",
   "metadata": {},
   "outputs": [
    {
     "data": {
      "text/plain": [
       "[3, 5]"
      ]
     },
     "execution_count": 20,
     "metadata": {},
     "output_type": "execute_result"
    }
   ],
   "source": [
    "my_list[2:5:2]"
   ]
  },
  {
   "cell_type": "code",
   "execution_count": 21,
   "id": "4a276a1b-89da-4f8d-94e9-6b5fd609956f",
   "metadata": {},
   "outputs": [
    {
     "data": {
      "text/plain": [
       "[3, 4, 5, 6, 7, 8]"
      ]
     },
     "execution_count": 21,
     "metadata": {},
     "output_type": "execute_result"
    }
   ],
   "source": [
    "my_list[2:-2]"
   ]
  },
  {
   "cell_type": "code",
   "execution_count": 22,
   "id": "bf21cc37-8c54-4237-9d99-3603769453e3",
   "metadata": {},
   "outputs": [
    {
     "data": {
      "text/plain": [
       "[10, 9, 8, 7, 6, 5, 4, 3, 2, 1]"
      ]
     },
     "execution_count": 22,
     "metadata": {},
     "output_type": "execute_result"
    }
   ],
   "source": [
    "my_list[::-1]"
   ]
  },
  {
   "cell_type": "markdown",
   "id": "41d61d42-b5d8-42ee-8eb1-8cb8a3c7c929",
   "metadata": {},
   "source": [
    "## append"
   ]
  },
  {
   "cell_type": "code",
   "execution_count": 23,
   "id": "66b1e045-362f-4679-9af5-0f3674eb3ccb",
   "metadata": {},
   "outputs": [
    {
     "data": {
      "text/plain": [
       "[1, 2, 3, 4, 5, 6, 7, 8, 9, 10]"
      ]
     },
     "execution_count": 23,
     "metadata": {},
     "output_type": "execute_result"
    }
   ],
   "source": [
    "my_list"
   ]
  },
  {
   "cell_type": "code",
   "execution_count": 24,
   "id": "69d6d4d6-95a0-4dbe-97ea-2d91f5af7dbb",
   "metadata": {},
   "outputs": [],
   "source": [
    "my_list.append(12)"
   ]
  },
  {
   "cell_type": "code",
   "execution_count": 25,
   "id": "7e32a29f-2f28-4979-bcc2-0fd17dbb9a86",
   "metadata": {},
   "outputs": [
    {
     "data": {
      "text/plain": [
       "[1, 2, 3, 4, 5, 6, 7, 8, 9, 10, 12]"
      ]
     },
     "execution_count": 25,
     "metadata": {},
     "output_type": "execute_result"
    }
   ],
   "source": [
    "my_list"
   ]
  },
  {
   "cell_type": "code",
   "execution_count": 26,
   "id": "2b61468c-2521-45f0-8142-584edd535a41",
   "metadata": {},
   "outputs": [],
   "source": [
    "my_list.append([13, 14])"
   ]
  },
  {
   "cell_type": "code",
   "execution_count": 27,
   "id": "a338d8e2-eca7-40d2-abf4-a458ecb38a5e",
   "metadata": {},
   "outputs": [
    {
     "data": {
      "text/plain": [
       "[1, 2, 3, 4, 5, 6, 7, 8, 9, 10, 12, [13, 14]]"
      ]
     },
     "execution_count": 27,
     "metadata": {},
     "output_type": "execute_result"
    }
   ],
   "source": [
    "my_list"
   ]
  },
  {
   "cell_type": "code",
   "execution_count": 28,
   "id": "e0844c6b-fe90-44c8-8aad-9f2b9a760d67",
   "metadata": {},
   "outputs": [],
   "source": [
    "my_list.append([14, 15, 16])"
   ]
  },
  {
   "cell_type": "code",
   "execution_count": 29,
   "id": "84d9ab7f-9e3b-44af-b296-0a4651412211",
   "metadata": {},
   "outputs": [
    {
     "data": {
      "text/plain": [
       "[1, 2, 3, 4, 5, 6, 7, 8, 9, 10, 12, [13, 14], [14, 15, 16]]"
      ]
     },
     "execution_count": 29,
     "metadata": {},
     "output_type": "execute_result"
    }
   ],
   "source": [
    "my_list"
   ]
  },
  {
   "cell_type": "code",
   "execution_count": 30,
   "id": "fed6f4cd-7144-48bf-a37c-687554d5fbfe",
   "metadata": {},
   "outputs": [],
   "source": [
    "my_list.remove(5)"
   ]
  },
  {
   "cell_type": "code",
   "execution_count": 31,
   "id": "9d5770d9-f163-4083-a0d7-c2ae24923000",
   "metadata": {},
   "outputs": [
    {
     "data": {
      "text/plain": [
       "[1, 2, 3, 4, 6, 7, 8, 9, 10, 12, [13, 14], [14, 15, 16]]"
      ]
     },
     "execution_count": 31,
     "metadata": {},
     "output_type": "execute_result"
    }
   ],
   "source": [
    "my_list"
   ]
  },
  {
   "cell_type": "code",
   "execution_count": 32,
   "id": "2f94bfc3-cfcc-4b12-a14a-0685307554dd",
   "metadata": {},
   "outputs": [],
   "source": [
    "my_list.remove(8)"
   ]
  },
  {
   "cell_type": "code",
   "execution_count": 33,
   "id": "51ffd699-6267-404e-ae09-99ca4f43a700",
   "metadata": {},
   "outputs": [
    {
     "data": {
      "text/plain": [
       "[1, 2, 3, 4, 6, 7, 9, 10, 12, [13, 14], [14, 15, 16]]"
      ]
     },
     "execution_count": 33,
     "metadata": {},
     "output_type": "execute_result"
    }
   ],
   "source": [
    "my_list"
   ]
  },
  {
   "cell_type": "code",
   "execution_count": 34,
   "id": "b4ccec9e-ca11-4d5a-bdaf-78a19b782ba9",
   "metadata": {},
   "outputs": [],
   "source": [
    "my_list.remove([13, 14])"
   ]
  },
  {
   "cell_type": "code",
   "execution_count": 35,
   "id": "8f46708b-73b6-48ab-a809-c68a045a1b86",
   "metadata": {},
   "outputs": [
    {
     "data": {
      "text/plain": [
       "[1, 2, 3, 4, 6, 7, 9, 10, 12, [14, 15, 16]]"
      ]
     },
     "execution_count": 35,
     "metadata": {},
     "output_type": "execute_result"
    }
   ],
   "source": [
    "my_list"
   ]
  },
  {
   "cell_type": "code",
   "execution_count": 36,
   "id": "14e81bc9-302a-4235-8a60-fb9995d15aba",
   "metadata": {},
   "outputs": [],
   "source": [
    "my_list.remove(2)"
   ]
  },
  {
   "cell_type": "code",
   "execution_count": 37,
   "id": "4acdbb9e-34ca-495b-bca8-12f5ae6daf91",
   "metadata": {},
   "outputs": [
    {
     "data": {
      "text/plain": [
       "[1, 3, 4, 6, 7, 9, 10, 12, [14, 15, 16]]"
      ]
     },
     "execution_count": 37,
     "metadata": {},
     "output_type": "execute_result"
    }
   ],
   "source": [
    "my_list"
   ]
  },
  {
   "cell_type": "code",
   "execution_count": 38,
   "id": "0c2c04a0-f689-45b0-afa2-84038220ffc1",
   "metadata": {},
   "outputs": [],
   "source": [
    "my_list.extend([12, 12, 13, 14])"
   ]
  },
  {
   "cell_type": "code",
   "execution_count": 39,
   "id": "92bf2f88-c321-412f-9e41-16972e11ffb6",
   "metadata": {},
   "outputs": [
    {
     "data": {
      "text/plain": [
       "[1, 3, 4, 6, 7, 9, 10, 12, [14, 15, 16], 12, 12, 13, 14]"
      ]
     },
     "execution_count": 39,
     "metadata": {},
     "output_type": "execute_result"
    }
   ],
   "source": [
    "my_list"
   ]
  },
  {
   "cell_type": "code",
   "execution_count": 40,
   "id": "45d974ff-435b-4ff7-86e8-4096144c7448",
   "metadata": {},
   "outputs": [
    {
     "data": {
      "text/plain": [
       "[1, 3, 4, 6, 7, 9, 10, 12, [14, 15, 16], 12, 12, 13, 14]"
      ]
     },
     "execution_count": 40,
     "metadata": {},
     "output_type": "execute_result"
    }
   ],
   "source": [
    "my_list"
   ]
  },
  {
   "cell_type": "code",
   "execution_count": 41,
   "id": "91058bb9-d294-4800-a40e-6d2d81666157",
   "metadata": {},
   "outputs": [
    {
     "ename": "ValueError",
     "evalue": "5 is not in list",
     "output_type": "error",
     "traceback": [
      "\u001b[1;31m---------------------------------------------------------------------------\u001b[0m",
      "\u001b[1;31mValueError\u001b[0m                                Traceback (most recent call last)",
      "Cell \u001b[1;32mIn[41], line 1\u001b[0m\n\u001b[1;32m----> 1\u001b[0m \u001b[43mmy_list\u001b[49m\u001b[38;5;241;43m.\u001b[39;49m\u001b[43mindex\u001b[49m\u001b[43m(\u001b[49m\u001b[38;5;241;43m5\u001b[39;49m\u001b[43m)\u001b[49m\n",
      "\u001b[1;31mValueError\u001b[0m: 5 is not in list"
     ]
    }
   ],
   "source": [
    "my_list.index(5)"
   ]
  },
  {
   "cell_type": "code",
   "execution_count": 42,
   "id": "5bb6d2ae-48f6-4ab5-9d67-34b416a7d852",
   "metadata": {},
   "outputs": [
    {
     "data": {
      "text/plain": [
       "3"
      ]
     },
     "execution_count": 42,
     "metadata": {},
     "output_type": "execute_result"
    }
   ],
   "source": [
    "my_list.index(6)"
   ]
  },
  {
   "cell_type": "code",
   "execution_count": 43,
   "id": "470410e0-f1ae-4960-8ac0-f48a19cf65ef",
   "metadata": {},
   "outputs": [
    {
     "data": {
      "text/plain": [
       "[1, 3, 4, 6, 7, 9, 10, 12, [14, 15, 16], 12, 12, 13, 14]"
      ]
     },
     "execution_count": 43,
     "metadata": {},
     "output_type": "execute_result"
    }
   ],
   "source": [
    "my_list"
   ]
  },
  {
   "cell_type": "code",
   "execution_count": 44,
   "id": "56939dc0-51c4-4ffa-90f6-83fb90c5e466",
   "metadata": {},
   "outputs": [],
   "source": [
    "my_list1=[1, 2, 3, 4, 5, 6, 7, 8, 9, 10]"
   ]
  },
  {
   "cell_type": "code",
   "execution_count": 45,
   "id": "dcd6a996-460c-4aae-8c4e-6a38ef34bda4",
   "metadata": {},
   "outputs": [
    {
     "data": {
      "text/plain": [
       "[1, 2, 3, 4, 5, 6, 7, 8, 9, 10]"
      ]
     },
     "execution_count": 45,
     "metadata": {},
     "output_type": "execute_result"
    }
   ],
   "source": [
    "my_list1"
   ]
  },
  {
   "cell_type": "code",
   "execution_count": 46,
   "id": "83ded788-82d8-4315-bbbf-fa8cd44355a4",
   "metadata": {},
   "outputs": [],
   "source": [
    "my_list1.append(11)"
   ]
  },
  {
   "cell_type": "code",
   "execution_count": 47,
   "id": "aa36b920-c4fb-4230-b4e9-c15b5caaa290",
   "metadata": {},
   "outputs": [
    {
     "data": {
      "text/plain": [
       "[1, 2, 3, 4, 5, 6, 7, 8, 9, 10, 11]"
      ]
     },
     "execution_count": 47,
     "metadata": {},
     "output_type": "execute_result"
    }
   ],
   "source": [
    "my_list1"
   ]
  },
  {
   "cell_type": "code",
   "execution_count": 48,
   "id": "533a369c-454a-4e92-bf01-c7d291aee502",
   "metadata": {},
   "outputs": [],
   "source": [
    "my_list1.append([12, 13])"
   ]
  },
  {
   "cell_type": "code",
   "execution_count": 49,
   "id": "fe8b8870-933f-4c84-a74e-a2b01e18c09c",
   "metadata": {},
   "outputs": [
    {
     "data": {
      "text/plain": [
       "[1, 2, 3, 4, 5, 6, 7, 8, 9, 10, 11, [12, 13]]"
      ]
     },
     "execution_count": 49,
     "metadata": {},
     "output_type": "execute_result"
    }
   ],
   "source": [
    "my_list1"
   ]
  },
  {
   "cell_type": "code",
   "execution_count": 50,
   "id": "e59cadab-d319-4196-9bcf-577a152d7541",
   "metadata": {},
   "outputs": [
    {
     "data": {
      "text/plain": [
       "2"
      ]
     },
     "execution_count": 50,
     "metadata": {},
     "output_type": "execute_result"
    }
   ],
   "source": [
    "my_list1.index(3)"
   ]
  },
  {
   "cell_type": "code",
   "execution_count": 51,
   "id": "1a5545a2-5f56-458c-a694-324aa1bde1ce",
   "metadata": {},
   "outputs": [
    {
     "data": {
      "text/plain": [
       "11"
      ]
     },
     "execution_count": 51,
     "metadata": {},
     "output_type": "execute_result"
    }
   ],
   "source": [
    "my_list1.index([12, 13])"
   ]
  },
  {
   "cell_type": "code",
   "execution_count": 52,
   "id": "bea8d623-2935-4927-ac8d-a20db3fe1a58",
   "metadata": {},
   "outputs": [
    {
     "data": {
      "text/plain": [
       "[1, 2, 3, 4, 5, 6, 7, 8, 9, 10, 11, [12, 13]]"
      ]
     },
     "execution_count": 52,
     "metadata": {},
     "output_type": "execute_result"
    }
   ],
   "source": [
    "my_list1"
   ]
  },
  {
   "cell_type": "code",
   "execution_count": 53,
   "id": "778938e0-976f-4751-b4eb-e7f127e4b37f",
   "metadata": {},
   "outputs": [],
   "source": [
    "my_list1.insert(1, 'A')"
   ]
  },
  {
   "cell_type": "code",
   "execution_count": 54,
   "id": "9271872f-ebdd-446f-862b-58ec09387622",
   "metadata": {},
   "outputs": [
    {
     "data": {
      "text/plain": [
       "[1, 'A', 2, 3, 4, 5, 6, 7, 8, 9, 10, 11, [12, 13]]"
      ]
     },
     "execution_count": 54,
     "metadata": {},
     "output_type": "execute_result"
    }
   ],
   "source": [
    "my_list1"
   ]
  },
  {
   "cell_type": "code",
   "execution_count": 55,
   "id": "707a850f-ad1e-4d88-ad66-8a4f10fff376",
   "metadata": {},
   "outputs": [],
   "source": [
    "my_list1.insert(3, 'Python')"
   ]
  },
  {
   "cell_type": "code",
   "execution_count": 56,
   "id": "776df983-29fc-4207-b8e5-09707f8e8196",
   "metadata": {},
   "outputs": [
    {
     "data": {
      "text/plain": [
       "[1, 'A', 2, 'Python', 3, 4, 5, 6, 7, 8, 9, 10, 11, [12, 13]]"
      ]
     },
     "execution_count": 56,
     "metadata": {},
     "output_type": "execute_result"
    }
   ],
   "source": [
    "my_list1"
   ]
  },
  {
   "cell_type": "code",
   "execution_count": 57,
   "id": "4073c944-2f03-4141-9e6e-7e76ae2857a9",
   "metadata": {},
   "outputs": [
    {
     "data": {
      "text/plain": [
       "True"
      ]
     },
     "execution_count": 57,
     "metadata": {},
     "output_type": "execute_result"
    }
   ],
   "source": [
    "12 in my_list"
   ]
  },
  {
   "cell_type": "code",
   "execution_count": 58,
   "id": "85840b7f-bf9c-4aa5-bb82-0265dedcdb5b",
   "metadata": {},
   "outputs": [
    {
     "data": {
      "text/plain": [
       "False"
      ]
     },
     "execution_count": 58,
     "metadata": {},
     "output_type": "execute_result"
    }
   ],
   "source": [
    "122 in my_list1"
   ]
  },
  {
   "cell_type": "code",
   "execution_count": 59,
   "id": "959b73d0-3187-48b9-b9a8-37547ab48dd1",
   "metadata": {},
   "outputs": [
    {
     "data": {
      "text/plain": [
       "True"
      ]
     },
     "execution_count": 59,
     "metadata": {},
     "output_type": "execute_result"
    }
   ],
   "source": [
    "[12, 13] in my_list1"
   ]
  },
  {
   "cell_type": "code",
   "execution_count": 60,
   "id": "a3555e0b-da1d-49fe-893c-c6e59bae573e",
   "metadata": {},
   "outputs": [
    {
     "data": {
      "text/plain": [
       "False"
      ]
     },
     "execution_count": 60,
     "metadata": {},
     "output_type": "execute_result"
    }
   ],
   "source": [
    "[14, 15] in my_list1"
   ]
  },
  {
   "cell_type": "code",
   "execution_count": 61,
   "id": "e5c0ca85-713c-4136-88f2-78f84f647bae",
   "metadata": {},
   "outputs": [
    {
     "data": {
      "text/plain": [
       "True"
      ]
     },
     "execution_count": 61,
     "metadata": {},
     "output_type": "execute_result"
    }
   ],
   "source": [
    "[122] not in my_list1"
   ]
  },
  {
   "cell_type": "code",
   "execution_count": 62,
   "id": "e02baaf1-1d52-45ff-bc3c-0ae9db3b2af2",
   "metadata": {},
   "outputs": [],
   "source": [
    "del my_list1[3]"
   ]
  },
  {
   "cell_type": "code",
   "execution_count": 63,
   "id": "92b6ca1f-f7d7-46f7-a78c-577c667d4bf5",
   "metadata": {},
   "outputs": [
    {
     "data": {
      "text/plain": [
       "[1, 'A', 2, 3, 4, 5, 6, 7, 8, 9, 10, 11, [12, 13]]"
      ]
     },
     "execution_count": 63,
     "metadata": {},
     "output_type": "execute_result"
    }
   ],
   "source": [
    "my_list1"
   ]
  },
  {
   "cell_type": "code",
   "execution_count": 64,
   "id": "6087fa8b-59c0-4659-9a0d-ab89a94d25d9",
   "metadata": {},
   "outputs": [],
   "source": [
    "my_list1.remove(11)"
   ]
  },
  {
   "cell_type": "code",
   "execution_count": 65,
   "id": "b46423c8-4878-4b54-b3c0-3624af58c6a5",
   "metadata": {},
   "outputs": [
    {
     "data": {
      "text/plain": [
       "[1, 'A', 2, 3, 4, 5, 6, 7, 8, 9, 10, [12, 13]]"
      ]
     },
     "execution_count": 65,
     "metadata": {},
     "output_type": "execute_result"
    }
   ],
   "source": [
    "my_list1"
   ]
  },
  {
   "cell_type": "code",
   "execution_count": 66,
   "id": "39c0b203-6e2f-4ce0-a166-e8775aeac091",
   "metadata": {},
   "outputs": [
    {
     "name": "stdout",
     "output_type": "stream",
     "text": [
      "1\n",
      "A\n",
      "2\n",
      "3\n",
      "4\n",
      "5\n",
      "6\n",
      "7\n",
      "8\n",
      "9\n",
      "10\n",
      "[12, 13]\n"
     ]
    }
   ],
   "source": [
    "for element in my_list1:\n",
    "    print(element)"
   ]
  },
  {
   "cell_type": "code",
   "execution_count": 67,
   "id": "5b7f4d5d-402e-4123-90a5-7bf0d33c6ba3",
   "metadata": {},
   "outputs": [],
   "source": [
    "my_list_2=[1, 3, 7, 9, 10, 4, 6, 2]"
   ]
  },
  {
   "cell_type": "code",
   "execution_count": 68,
   "id": "4e2c2c11-7973-417d-a862-65bfad6e9504",
   "metadata": {},
   "outputs": [
    {
     "data": {
      "text/plain": [
       "[1, 3, 7, 9, 10, 4, 6, 2]"
      ]
     },
     "execution_count": 68,
     "metadata": {},
     "output_type": "execute_result"
    }
   ],
   "source": [
    "my_list_2"
   ]
  },
  {
   "cell_type": "code",
   "execution_count": 69,
   "id": "9f4c272a-a058-4a3c-b653-212e7f0d3ca1",
   "metadata": {},
   "outputs": [
    {
     "data": {
      "text/plain": [
       "[1, 4, 12, 23, 50, 54]"
      ]
     },
     "execution_count": 69,
     "metadata": {},
     "output_type": "execute_result"
    }
   ],
   "source": [
    "sample_list=[23, 12, 1, 4, 54, 50]\n",
    "sorted(sample_list)"
   ]
  },
  {
   "cell_type": "code",
   "execution_count": 70,
   "id": "48fccb70-d942-4a93-b324-097a4487ddc6",
   "metadata": {},
   "outputs": [
    {
     "data": {
      "text/plain": [
       "[1, 2, 3, 4, 6, 7, 9, 10]"
      ]
     },
     "execution_count": 70,
     "metadata": {},
     "output_type": "execute_result"
    }
   ],
   "source": [
    "sorted(my_list_2)"
   ]
  },
  {
   "cell_type": "code",
   "execution_count": 71,
   "id": "0e741716-10cf-4813-9b15-9f551e364b8e",
   "metadata": {},
   "outputs": [
    {
     "data": {
      "text/plain": [
       "8"
      ]
     },
     "execution_count": 71,
     "metadata": {},
     "output_type": "execute_result"
    }
   ],
   "source": [
    "len(my_list_2)"
   ]
  },
  {
   "cell_type": "code",
   "execution_count": 72,
   "id": "7b011ea2-9e14-4e20-9bb2-d8983b39b989",
   "metadata": {},
   "outputs": [
    {
     "data": {
      "text/plain": [
       "6"
      ]
     },
     "execution_count": 72,
     "metadata": {},
     "output_type": "execute_result"
    }
   ],
   "source": [
    "len(sample_list)"
   ]
  },
  {
   "cell_type": "code",
   "execution_count": 73,
   "id": "0da7b056-740f-4804-877e-39f9b22d7ac5",
   "metadata": {},
   "outputs": [
    {
     "data": {
      "text/plain": [
       "[10, 9, 7, 6, 4, 3, 2, 1]"
      ]
     },
     "execution_count": 73,
     "metadata": {},
     "output_type": "execute_result"
    }
   ],
   "source": [
    "sorted(my_list_2, reverse=True)"
   ]
  },
  {
   "cell_type": "code",
   "execution_count": 74,
   "id": "f51024f4-1d9b-40f4-82ff-1e59d078f8b3",
   "metadata": {},
   "outputs": [
    {
     "data": {
      "text/plain": [
       "[54, 50, 23, 12, 4, 1]"
      ]
     },
     "execution_count": 74,
     "metadata": {},
     "output_type": "execute_result"
    }
   ],
   "source": [
    "sorted(sample_list, reverse=True)"
   ]
  },
  {
   "cell_type": "code",
   "execution_count": 75,
   "id": "12d4680c-9f16-4ec8-a97d-40bd177513fa",
   "metadata": {},
   "outputs": [],
   "source": [
    "my_list_3=[1, 2, [3, 4, 5, 6], ['A', 'B', 'C'], 'W', ['A', 'A', 'A']]"
   ]
  },
  {
   "cell_type": "code",
   "execution_count": 76,
   "id": "b80d16c2-9152-4f48-b2b4-2699f67aab9d",
   "metadata": {},
   "outputs": [
    {
     "data": {
      "text/plain": [
       "[1, 2, [3, 4, 5, 6], ['A', 'B', 'C'], 'W', ['A', 'A', 'A']]"
      ]
     },
     "execution_count": 76,
     "metadata": {},
     "output_type": "execute_result"
    }
   ],
   "source": [
    "my_list_3"
   ]
  },
  {
   "cell_type": "code",
   "execution_count": 77,
   "id": "4a2ce830-e8e4-4008-b3de-ed451e8da56b",
   "metadata": {},
   "outputs": [
    {
     "data": {
      "text/plain": [
       "'W'"
      ]
     },
     "execution_count": 77,
     "metadata": {},
     "output_type": "execute_result"
    }
   ],
   "source": [
    "my_list_3[4]"
   ]
  },
  {
   "cell_type": "code",
   "execution_count": 78,
   "id": "5eee4249-f6f6-4cbf-bbec-2bae768239f4",
   "metadata": {},
   "outputs": [
    {
     "data": {
      "text/plain": [
       "[3, 4, 5, 6]"
      ]
     },
     "execution_count": 78,
     "metadata": {},
     "output_type": "execute_result"
    }
   ],
   "source": [
    "my_list_3[2]"
   ]
  },
  {
   "cell_type": "code",
   "execution_count": 79,
   "id": "4818db91-e6e8-4c88-8c5e-a413bee2bd8b",
   "metadata": {},
   "outputs": [
    {
     "data": {
      "text/plain": [
       "6"
      ]
     },
     "execution_count": 79,
     "metadata": {},
     "output_type": "execute_result"
    }
   ],
   "source": [
    "len(my_list_3)"
   ]
  },
  {
   "cell_type": "code",
   "execution_count": 80,
   "id": "31a9e3f9-3ae5-43ef-a8e1-8093f0a0db27",
   "metadata": {},
   "outputs": [
    {
     "data": {
      "text/plain": [
       "8"
      ]
     },
     "execution_count": 80,
     "metadata": {},
     "output_type": "execute_result"
    }
   ],
   "source": [
    "len(my_list_2)"
   ]
  },
  {
   "cell_type": "code",
   "execution_count": 81,
   "id": "3d550a58-01e3-4532-9564-824f3a4de1a7",
   "metadata": {},
   "outputs": [
    {
     "data": {
      "text/plain": [
       "[3, 4, 5, 6]"
      ]
     },
     "execution_count": 81,
     "metadata": {},
     "output_type": "execute_result"
    }
   ],
   "source": [
    "my_list_3[2]"
   ]
  },
  {
   "cell_type": "code",
   "execution_count": 82,
   "id": "720291c4-7892-4cb5-8564-6e46ba07d785",
   "metadata": {},
   "outputs": [
    {
     "data": {
      "text/plain": [
       "4"
      ]
     },
     "execution_count": 82,
     "metadata": {},
     "output_type": "execute_result"
    }
   ],
   "source": [
    "my_list_3[2][1]"
   ]
  },
  {
   "cell_type": "code",
   "execution_count": 83,
   "id": "7da05c9e-b429-449e-beb3-0110c3c73c47",
   "metadata": {},
   "outputs": [
    {
     "data": {
      "text/plain": [
       "'A'"
      ]
     },
     "execution_count": 83,
     "metadata": {},
     "output_type": "execute_result"
    }
   ],
   "source": [
    "my_list_3[-1][-3]"
   ]
  },
  {
   "cell_type": "code",
   "execution_count": 84,
   "id": "d291a9c6-6161-4b42-9e23-09d7841e3b26",
   "metadata": {},
   "outputs": [
    {
     "data": {
      "text/plain": [
       "[1, 2, [3, 4, 5, 6], ['A', 'B', 'C'], 'W', ['A', 'A', 'A']]"
      ]
     },
     "execution_count": 84,
     "metadata": {},
     "output_type": "execute_result"
    }
   ],
   "source": [
    "my_list_3"
   ]
  },
  {
   "cell_type": "markdown",
   "id": "0ec40a88-872c-462e-bc47-1a07c46936eb",
   "metadata": {},
   "source": [
    "### Problem Statement"
   ]
  },
  {
   "cell_type": "code",
   "execution_count": 126,
   "id": "130e91cb-1437-4cf5-87a3-d1143692e0b3",
   "metadata": {},
   "outputs": [],
   "source": [
    "student_marks =[['Name', ['A', 'B', 'C', 'D', 'E']],\n",
    "                ['Arun', [78, 69, 90, 50, 45]],\n",
    "                ['Arjun', [30, 80, 70, 46, 60]],\n",
    "                ['Sorj', [89, 90, 67, 35, 67]],\n",
    "                ['Anil', [69, 60, 70, 89, 45]],\n",
    "                ['Preiya',[45, 70, 78, 100, 60]]\n",
    "                ]"
   ]
  },
  {
   "cell_type": "code",
   "execution_count": 127,
   "id": "fdb90d5e-1f6d-480d-b497-6f1fd5a7a3e7",
   "metadata": {},
   "outputs": [
    {
     "data": {
      "text/plain": [
       "['Name', ['A', 'B', 'C', 'D', 'E']]"
      ]
     },
     "execution_count": 127,
     "metadata": {},
     "output_type": "execute_result"
    }
   ],
   "source": [
    "student_marks[0]"
   ]
  },
  {
   "cell_type": "code",
   "execution_count": 128,
   "id": "36bc3aea-43b7-4a39-a17a-99858f1f4660",
   "metadata": {},
   "outputs": [
    {
     "data": {
      "text/plain": [
       "['Arun', [78, 69, 90, 50, 45]]"
      ]
     },
     "execution_count": 128,
     "metadata": {},
     "output_type": "execute_result"
    }
   ],
   "source": [
    "student_marks[1]"
   ]
  },
  {
   "cell_type": "code",
   "execution_count": 129,
   "id": "99ba1462-17c4-4715-a4ea-fcfd19aa2af5",
   "metadata": {},
   "outputs": [
    {
     "data": {
      "text/plain": [
       "'Arun'"
      ]
     },
     "execution_count": 129,
     "metadata": {},
     "output_type": "execute_result"
    }
   ],
   "source": [
    "student_marks[1][0]"
   ]
  },
  {
   "cell_type": "code",
   "execution_count": 130,
   "id": "1a2a6e2a-d430-471a-b1c3-c2c7909ac9b1",
   "metadata": {},
   "outputs": [
    {
     "data": {
      "text/plain": [
       "[78, 69, 90, 50, 45]"
      ]
     },
     "execution_count": 130,
     "metadata": {},
     "output_type": "execute_result"
    }
   ],
   "source": [
    "student_marks[1][1]"
   ]
  },
  {
   "cell_type": "code",
   "execution_count": 131,
   "id": "ff734a5b-79e9-4a9d-8952-fc4806fbb253",
   "metadata": {},
   "outputs": [
    {
     "data": {
      "text/plain": [
       "69"
      ]
     },
     "execution_count": 131,
     "metadata": {},
     "output_type": "execute_result"
    }
   ],
   "source": [
    "student_marks[1][1][1]"
   ]
  },
  {
   "cell_type": "code",
   "execution_count": 132,
   "id": "d06faf2d-7d63-4b32-8805-503f60ee06ae",
   "metadata": {},
   "outputs": [
    {
     "name": "stdout",
     "output_type": "stream",
     "text": [
      "Arun 50\n",
      "Arjun 46\n",
      "Sorj 35\n",
      "Anil 89\n",
      "Preiya 100\n"
     ]
    }
   ],
   "source": [
    "for student in student_marks[1:]:\n",
    "    Name=student[0]\n",
    "    marks_in_B=student[1][3]\n",
    "    print(Name, marks_in_B)"
   ]
  },
  {
   "cell_type": "code",
   "execution_count": 133,
   "id": "375ae808-edb8-4d79-91b9-c60340b939eb",
   "metadata": {},
   "outputs": [],
   "source": [
    "student_with_marks_in_B=[]\n",
    "for student in student_marks[1:]:\n",
    "    name=student[0]\n",
    "    marks_in_B=student[1][1]\n",
    "    student_with_marks_in_B.append([marks_in_B, Name])"
   ]
  },
  {
   "cell_type": "code",
   "execution_count": 134,
   "id": "e8d4953b-d670-42f1-b880-f240552bae2b",
   "metadata": {},
   "outputs": [
    {
     "data": {
      "text/plain": [
       "[[69, 'Preiya'],\n",
       " [80, 'Preiya'],\n",
       " [90, 'Preiya'],\n",
       " [60, 'Preiya'],\n",
       " [70, 'Preiya']]"
      ]
     },
     "execution_count": 134,
     "metadata": {},
     "output_type": "execute_result"
    }
   ],
   "source": [
    "student_with_marks_in_B"
   ]
  },
  {
   "cell_type": "code",
   "execution_count": 135,
   "id": "71f14d9d-d2e4-438b-aae4-8ab665bd862b",
   "metadata": {},
   "outputs": [
    {
     "data": {
      "text/plain": [
       "[[60, 'Preiya'],\n",
       " [69, 'Preiya'],\n",
       " [70, 'Preiya'],\n",
       " [80, 'Preiya'],\n",
       " [90, 'Preiya']]"
      ]
     },
     "execution_count": 135,
     "metadata": {},
     "output_type": "execute_result"
    }
   ],
   "source": [
    "sorted(student_with_marks_in_B)"
   ]
  },
  {
   "cell_type": "code",
   "execution_count": 139,
   "id": "da132b88-87e6-448c-bcc1-e3e0d26cc6e7",
   "metadata": {},
   "outputs": [
    {
     "data": {
      "text/plain": [
       "[90, 'Preiya']"
      ]
     },
     "execution_count": 139,
     "metadata": {},
     "output_type": "execute_result"
    }
   ],
   "source": [
    "sorted(student_with_marks_in_B, reverse=True)[0]"
   ]
  },
  {
   "cell_type": "code",
   "execution_count": 140,
   "id": "e6afa37f-2fc9-4b59-9461-c7fc618e5105",
   "metadata": {},
   "outputs": [],
   "source": [
    "my_tuple=('A', 'B', 'B', 'c', 'D', 'E')"
   ]
  },
  {
   "cell_type": "code",
   "execution_count": 141,
   "id": "3a78c29b-5b7a-4eea-8efd-e9a696ba51d2",
   "metadata": {},
   "outputs": [
    {
     "data": {
      "text/plain": [
       "('A', 'B', 'B', 'c', 'D', 'E')"
      ]
     },
     "execution_count": 141,
     "metadata": {},
     "output_type": "execute_result"
    }
   ],
   "source": [
    "my_tuple"
   ]
  },
  {
   "cell_type": "code",
   "execution_count": 144,
   "id": "90eca186-77ef-491e-b5b7-e4471ae7bfd2",
   "metadata": {},
   "outputs": [
    {
     "data": {
      "text/plain": [
       "'B'"
      ]
     },
     "execution_count": 144,
     "metadata": {},
     "output_type": "execute_result"
    }
   ],
   "source": [
    "my_tuple[1]"
   ]
  },
  {
   "cell_type": "code",
   "execution_count": 145,
   "id": "c3f359ae-1032-48be-b36c-a2f0ab9b12fa",
   "metadata": {},
   "outputs": [
    {
     "data": {
      "text/plain": [
       "'B'"
      ]
     },
     "execution_count": 145,
     "metadata": {},
     "output_type": "execute_result"
    }
   ],
   "source": [
    "my_tuple[2]"
   ]
  },
  {
   "cell_type": "code",
   "execution_count": 147,
   "id": "b246a0bd-9858-4933-8f95-ed7f29f2419b",
   "metadata": {},
   "outputs": [
    {
     "data": {
      "text/plain": [
       "5"
      ]
     },
     "execution_count": 147,
     "metadata": {},
     "output_type": "execute_result"
    }
   ],
   "source": [
    "my_tuple.index('E')"
   ]
  },
  {
   "cell_type": "code",
   "execution_count": 148,
   "id": "a1b29035-c179-4862-871d-a37cfed5a56f",
   "metadata": {},
   "outputs": [
    {
     "data": {
      "text/plain": [
       "1"
      ]
     },
     "execution_count": 148,
     "metadata": {},
     "output_type": "execute_result"
    }
   ],
   "source": [
    "my_tuple.count('D')"
   ]
  },
  {
   "cell_type": "code",
   "execution_count": 149,
   "id": "1f8b32eb-2484-48fc-84b0-3975e6efca36",
   "metadata": {},
   "outputs": [
    {
     "name": "stdout",
     "output_type": "stream",
     "text": [
      "A\n",
      "B\n",
      "B\n",
      "c\n",
      "D\n",
      "E\n"
     ]
    }
   ],
   "source": [
    "for tuple in my_tuple:\n",
    "    print(tuple)"
   ]
  },
  {
   "cell_type": "code",
   "execution_count": 150,
   "id": "d06ed1d7-1d12-44ce-9d64-4a586e0ea772",
   "metadata": {},
   "outputs": [
    {
     "data": {
      "text/plain": [
       "('A', 'B', 'B')"
      ]
     },
     "execution_count": 150,
     "metadata": {},
     "output_type": "execute_result"
    }
   ],
   "source": [
    "my_tuple[:3]"
   ]
  },
  {
   "cell_type": "code",
   "execution_count": 155,
   "id": "ca5724c0-1bc2-4bc2-98c2-ee2ca34efd7e",
   "metadata": {},
   "outputs": [
    {
     "data": {
      "text/plain": [
       "('c', 'D')"
      ]
     },
     "execution_count": 155,
     "metadata": {},
     "output_type": "execute_result"
    }
   ],
   "source": [
    "my_tuple[3:5]"
   ]
  },
  {
   "cell_type": "code",
   "execution_count": 157,
   "id": "156997b1-1f2d-4ee3-9741-d9647eeebf27",
   "metadata": {},
   "outputs": [
    {
     "data": {
      "text/plain": [
       "1"
      ]
     },
     "execution_count": 157,
     "metadata": {},
     "output_type": "execute_result"
    }
   ],
   "source": [
    "my_tuple[3:5].count('D')"
   ]
  },
  {
   "cell_type": "code",
   "execution_count": 160,
   "id": "7c6f9edb-ea83-4926-8611-b01851fba0a8",
   "metadata": {},
   "outputs": [
    {
     "data": {
      "text/plain": [
       "0"
      ]
     },
     "execution_count": 160,
     "metadata": {},
     "output_type": "execute_result"
    }
   ],
   "source": [
    "my_tuple[1:4].index('B')"
   ]
  },
  {
   "cell_type": "code",
   "execution_count": 162,
   "id": "9999510a-a2b3-4705-b5bd-1174f9880c79",
   "metadata": {},
   "outputs": [
    {
     "data": {
      "text/plain": [
       "('A', 'B', 'B', 'c', 'D', 'E')"
      ]
     },
     "execution_count": 162,
     "metadata": {},
     "output_type": "execute_result"
    }
   ],
   "source": [
    "my_tuple"
   ]
  },
  {
   "cell_type": "code",
   "execution_count": 163,
   "id": "170a6aa8-52f4-4ddf-b530-5c22feda58d6",
   "metadata": {},
   "outputs": [
    {
     "ename": "TypeError",
     "evalue": "'tuple' object does not support item assignment",
     "output_type": "error",
     "traceback": [
      "\u001b[1;31m---------------------------------------------------------------------------\u001b[0m",
      "\u001b[1;31mTypeError\u001b[0m                                 Traceback (most recent call last)",
      "Cell \u001b[1;32mIn[163], line 1\u001b[0m\n\u001b[1;32m----> 1\u001b[0m \u001b[43mmy_tuple\u001b[49m\u001b[43m[\u001b[49m\u001b[38;5;241;43m2\u001b[39;49m\u001b[43m]\u001b[49m\u001b[38;5;241m=\u001b[39m\u001b[38;5;124m'\u001b[39m\u001b[38;5;124mD\u001b[39m\u001b[38;5;124m'\u001b[39m\n",
      "\u001b[1;31mTypeError\u001b[0m: 'tuple' object does not support item assignment"
     ]
    }
   ],
   "source": [
    "my_tuple[2]='D'"
   ]
  },
  {
   "cell_type": "code",
   "execution_count": 1,
   "id": "51945f0a-8537-48b6-8a53-084493e08404",
   "metadata": {},
   "outputs": [
    {
     "ename": "NameError",
     "evalue": "name 'my_tuple' is not defined",
     "output_type": "error",
     "traceback": [
      "\u001b[1;31m---------------------------------------------------------------------------\u001b[0m",
      "\u001b[1;31mNameError\u001b[0m                                 Traceback (most recent call last)",
      "Cell \u001b[1;32mIn[1], line 1\u001b[0m\n\u001b[1;32m----> 1\u001b[0m \u001b[38;5;28;01mdel\u001b[39;00m \u001b[43mmy_tuple\u001b[49m[\u001b[38;5;241m0\u001b[39m]\n",
      "\u001b[1;31mNameError\u001b[0m: name 'my_tuple' is not defined"
     ]
    }
   ],
   "source": [
    "del my_tuple[0]"
   ]
  },
  {
   "cell_type": "markdown",
   "id": "4c6f1515-76bc-4125-a019-7d55fef83b4f",
   "metadata": {},
   "source": [
    "---\n",
    "---\n",
    "\n",
    "<center><h1> Data Structure - Set 📍📍 </h1></center>\n",
    "\n",
    "---"
   ]
  },
  {
   "cell_type": "markdown",
   "id": "1d8d1476-c804-44fc-82af-8c67e69ff998",
   "metadata": {},
   "source": [
    "#### Defining a set in Python\n",
    "\n",
    "---"
   ]
  },
  {
   "cell_type": "code",
   "execution_count": 2,
   "id": "e00e098f-d876-4eea-94fe-71276060bc9e",
   "metadata": {},
   "outputs": [],
   "source": [
    "my_set={'D', 'C', 4, 2, 'B', 1, 'E',3}"
   ]
  },
  {
   "cell_type": "code",
   "execution_count": 3,
   "id": "1a226e30-389c-4832-b179-effeb398fcb5",
   "metadata": {},
   "outputs": [
    {
     "data": {
      "text/plain": [
       "{1, 2, 3, 4, 'B', 'C', 'D', 'E'}"
      ]
     },
     "execution_count": 3,
     "metadata": {},
     "output_type": "execute_result"
    }
   ],
   "source": [
    "my_set"
   ]
  },
  {
   "cell_type": "code",
   "execution_count": 4,
   "id": "254528d3-37be-457c-9502-08a05e8e9a48",
   "metadata": {},
   "outputs": [],
   "source": [
    "my_set={'B', 'E', 1, 1, 'B', 2, 'A', 'B', 3}"
   ]
  },
  {
   "cell_type": "code",
   "execution_count": 5,
   "id": "0013ce4d-6c87-441f-9608-34fbbc4a624e",
   "metadata": {},
   "outputs": [
    {
     "data": {
      "text/plain": [
       "{1, 2, 3, 'A', 'B', 'E'}"
      ]
     },
     "execution_count": 5,
     "metadata": {},
     "output_type": "execute_result"
    }
   ],
   "source": [
    "my_set"
   ]
  },
  {
   "cell_type": "markdown",
   "id": "af2cd8c7-3995-4cfc-942f-58ac1702f3c7",
   "metadata": {},
   "source": [
    "#### Defining a set from a List  and Tuple\n",
    "\n",
    "---"
   ]
  },
  {
   "cell_type": "code",
   "execution_count": 6,
   "id": "2eea020d-2e4d-48c1-99c4-e4f128b099f4",
   "metadata": {},
   "outputs": [],
   "source": [
    "my_list=['A', 'B', 1, 2, 'A', 'B']"
   ]
  },
  {
   "cell_type": "code",
   "execution_count": 7,
   "id": "95b5efc2-8444-4f8f-a1f4-00a9a166a2a6",
   "metadata": {},
   "outputs": [],
   "source": [
    "my_set_from_list =set(my_list)"
   ]
  },
  {
   "cell_type": "code",
   "execution_count": 8,
   "id": "2c9a8038-1813-422a-871f-f67353207169",
   "metadata": {},
   "outputs": [
    {
     "data": {
      "text/plain": [
       "{1, 2, 'A', 'B'}"
      ]
     },
     "execution_count": 8,
     "metadata": {},
     "output_type": "execute_result"
    }
   ],
   "source": [
    "my_set_from_list"
   ]
  },
  {
   "cell_type": "code",
   "execution_count": 9,
   "id": "e66a3eba-9e81-45a4-9f69-d01e6147694b",
   "metadata": {},
   "outputs": [],
   "source": [
    "my_tuple = ('A', 'B', 1, 2, 'B', 'A')\n",
    "my_set_from_tuple = set(my_tuple)"
   ]
  },
  {
   "cell_type": "code",
   "execution_count": 10,
   "id": "862d0e7d-f25f-4e76-b8f8-7b98d33f48f6",
   "metadata": {},
   "outputs": [
    {
     "data": {
      "text/plain": [
       "{1, 2, 'A', 'B'}"
      ]
     },
     "execution_count": 10,
     "metadata": {},
     "output_type": "execute_result"
    }
   ],
   "source": [
    "my_set_from_tuple"
   ]
  },
  {
   "cell_type": "markdown",
   "id": "3b07cd1a-b269-4cd4-a721-cf2fcec1e604",
   "metadata": {},
   "source": [
    "#### Add an element to the set\n",
    "\n",
    "---"
   ]
  },
  {
   "cell_type": "code",
   "execution_count": 11,
   "id": "42da4c73-4e8d-48f4-b68c-14d21c001168",
   "metadata": {},
   "outputs": [],
   "source": [
    "my_set.add(0)"
   ]
  },
  {
   "cell_type": "code",
   "execution_count": 12,
   "id": "1137ad6f-7a2d-412b-ba23-d0cb30fce4bd",
   "metadata": {},
   "outputs": [
    {
     "data": {
      "text/plain": [
       "{0, 1, 2, 3, 'A', 'B', 'E'}"
      ]
     },
     "execution_count": 12,
     "metadata": {},
     "output_type": "execute_result"
    }
   ],
   "source": [
    "my_set"
   ]
  },
  {
   "cell_type": "markdown",
   "id": "72b28c70-fabc-431b-82e9-b8dbed34f4eb",
   "metadata": {},
   "source": [
    "#### Delete an element from the list\n",
    "\n",
    "* Discard - It will not throw an error, if the element you want to remove is not present in the set.\n",
    "* remove - It will throw an error, if the element you want to remove is not present in the set.\n",
    "\n",
    "---"
   ]
  },
  {
   "cell_type": "code",
   "execution_count": 13,
   "id": "41cc7359-2053-4b42-9076-081560750b34",
   "metadata": {},
   "outputs": [],
   "source": [
    "my_set = {1, 2, 4, 'A', 'B', 'C', 'D', 'E', 'O'}"
   ]
  },
  {
   "cell_type": "code",
   "execution_count": 14,
   "id": "ae2129c3-6462-468b-8fd0-b322034ce77a",
   "metadata": {},
   "outputs": [],
   "source": [
    "my_set.discard('A')"
   ]
  },
  {
   "cell_type": "code",
   "execution_count": 15,
   "id": "6ed8b3ae-4417-4209-99e6-d8f29219d455",
   "metadata": {},
   "outputs": [
    {
     "data": {
      "text/plain": [
       "{1, 2, 4, 'B', 'C', 'D', 'E', 'O'}"
      ]
     },
     "execution_count": 15,
     "metadata": {},
     "output_type": "execute_result"
    }
   ],
   "source": [
    "my_set"
   ]
  },
  {
   "cell_type": "code",
   "execution_count": 16,
   "id": "b4f8db14-7a53-4b3c-8561-a7a26f9851f1",
   "metadata": {},
   "outputs": [],
   "source": [
    "my_set.discard('X')"
   ]
  },
  {
   "cell_type": "code",
   "execution_count": 17,
   "id": "9ae1030d-146a-40e1-944d-bb4766ecbc27",
   "metadata": {},
   "outputs": [
    {
     "ename": "KeyError",
     "evalue": "'X'",
     "output_type": "error",
     "traceback": [
      "\u001b[1;31m---------------------------------------------------------------------------\u001b[0m",
      "\u001b[1;31mKeyError\u001b[0m                                  Traceback (most recent call last)",
      "Cell \u001b[1;32mIn[17], line 1\u001b[0m\n\u001b[1;32m----> 1\u001b[0m \u001b[43mmy_set\u001b[49m\u001b[38;5;241;43m.\u001b[39;49m\u001b[43mremove\u001b[49m\u001b[43m(\u001b[49m\u001b[38;5;124;43m'\u001b[39;49m\u001b[38;5;124;43mX\u001b[39;49m\u001b[38;5;124;43m'\u001b[39;49m\u001b[43m)\u001b[49m\n",
      "\u001b[1;31mKeyError\u001b[0m: 'X'"
     ]
    }
   ],
   "source": [
    "my_set.remove('X')"
   ]
  },
  {
   "cell_type": "markdown",
   "id": "cb6ed2d4-18e4-4b46-b7d7-83e0426df8db",
   "metadata": {},
   "source": [
    "#### Difference between two Sets\n",
    "\n",
    "## A-B\n",
    "---"
   ]
  },
  {
   "cell_type": "code",
   "execution_count": 19,
   "id": "4e8d8d0b-7d92-4744-a277-7809615749d7",
   "metadata": {},
   "outputs": [
    {
     "data": {
      "text/plain": [
       "{1, 2, 4, 'B', 'C', 'D', 'E', 'O'}"
      ]
     },
     "execution_count": 19,
     "metadata": {},
     "output_type": "execute_result"
    }
   ],
   "source": [
    "my_set"
   ]
  },
  {
   "cell_type": "code",
   "execution_count": 20,
   "id": "8f58f838-17f6-4c38-b1a1-c6260a2b16d6",
   "metadata": {},
   "outputs": [
    {
     "data": {
      "text/plain": [
       "{1, 2, 'A', 'B'}"
      ]
     },
     "execution_count": 20,
     "metadata": {},
     "output_type": "execute_result"
    }
   ],
   "source": [
    "my_set_from_list"
   ]
  },
  {
   "cell_type": "code",
   "execution_count": 23,
   "id": "cd908f20-3cc6-4682-bfe0-949e0e5bf0e9",
   "metadata": {},
   "outputs": [
    {
     "data": {
      "text/plain": [
       "{4, 'C', 'D', 'E', 'O'}"
      ]
     },
     "execution_count": 23,
     "metadata": {},
     "output_type": "execute_result"
    }
   ],
   "source": [
    "my_set.difference(my_set_from_list)"
   ]
  },
  {
   "cell_type": "code",
   "execution_count": 24,
   "id": "068f9acc-9ab9-4357-8db0-6d3ed7453c41",
   "metadata": {},
   "outputs": [
    {
     "data": {
      "text/plain": [
       "{1, 2, 4, 'B', 'C', 'D', 'E', 'O'}"
      ]
     },
     "execution_count": 24,
     "metadata": {},
     "output_type": "execute_result"
    }
   ],
   "source": [
    "my_set"
   ]
  },
  {
   "cell_type": "code",
   "execution_count": 25,
   "id": "115e59a7-89a9-47f6-a626-0fc02dece856",
   "metadata": {},
   "outputs": [],
   "source": [
    "my_set.difference_update(my_set_from_list)"
   ]
  },
  {
   "cell_type": "code",
   "execution_count": 26,
   "id": "226e027b-14df-4b7a-9d32-443a42d53ce2",
   "metadata": {},
   "outputs": [
    {
     "data": {
      "text/plain": [
       "{4, 'C', 'D', 'E', 'O'}"
      ]
     },
     "execution_count": 26,
     "metadata": {},
     "output_type": "execute_result"
    }
   ],
   "source": [
    "my_set"
   ]
  },
  {
   "cell_type": "markdown",
   "id": "3a3ea350-ee0d-440f-ae17-8a2736a85188",
   "metadata": {},
   "source": [
    "#### Intersection of two sets"
   ]
  },
  {
   "cell_type": "code",
   "execution_count": 28,
   "id": "c967b8e3-b501-4628-a89d-bf31af882825",
   "metadata": {},
   "outputs": [],
   "source": [
    "# Set 1\n",
    "my_set = {1, 2, 4, 'A', 'B', 'C', 'D', 'E', 'O'}"
   ]
  },
  {
   "cell_type": "code",
   "execution_count": 30,
   "id": "db355e5d-7edb-4af6-be69-059e01f29531",
   "metadata": {},
   "outputs": [
    {
     "data": {
      "text/plain": [
       "{1, 2, 'A', 'B'}"
      ]
     },
     "execution_count": 30,
     "metadata": {},
     "output_type": "execute_result"
    }
   ],
   "source": [
    "# Set 2 \n",
    "my_set_from_list"
   ]
  },
  {
   "cell_type": "code",
   "execution_count": 31,
   "id": "a95e90b7-7325-4c43-8f1c-168afe221766",
   "metadata": {},
   "outputs": [
    {
     "data": {
      "text/plain": [
       "{1, 2, 'A', 'B'}"
      ]
     },
     "execution_count": 31,
     "metadata": {},
     "output_type": "execute_result"
    }
   ],
   "source": [
    "# intersection of 2 sets\n",
    "my_set.intersection(my_set_from_list)"
   ]
  },
  {
   "cell_type": "code",
   "execution_count": 32,
   "id": "ace4499e-094a-4d12-a824-4ba550dbcaaf",
   "metadata": {},
   "outputs": [
    {
     "data": {
      "text/plain": [
       "{1, 2, 4, 'A', 'B', 'C', 'D', 'E', 'O'}"
      ]
     },
     "execution_count": 32,
     "metadata": {},
     "output_type": "execute_result"
    }
   ],
   "source": [
    "my_set"
   ]
  },
  {
   "cell_type": "code",
   "execution_count": 33,
   "id": "d2640e85-7cbe-4dad-b164-24f6b340fde5",
   "metadata": {},
   "outputs": [],
   "source": [
    "# to update directly, use intersection_update\n",
    "my_set.intersection_update(my_set_from_list)"
   ]
  },
  {
   "cell_type": "code",
   "execution_count": 34,
   "id": "91e6d157-6355-4f63-8658-8b788f989934",
   "metadata": {},
   "outputs": [
    {
     "data": {
      "text/plain": [
       "{1, 2, 'A', 'B'}"
      ]
     },
     "execution_count": 34,
     "metadata": {},
     "output_type": "execute_result"
    }
   ],
   "source": [
    "my_set"
   ]
  },
  {
   "cell_type": "code",
   "execution_count": 35,
   "id": "0625655b-c1ac-4834-b598-35b478f28365",
   "metadata": {},
   "outputs": [],
   "source": [
    "# define 3 random sets\n",
    "sample_set_1 = {'A', 'B', 'C', 'D', 'E', 'F'}\n",
    "sample_set_2 = {'A', 'D', 'E'}\n",
    "sample_set_3 = {'S', 'T', 'U'}"
   ]
  },
  {
   "cell_type": "code",
   "execution_count": 36,
   "id": "ccdbcf62-68d9-4ea2-b34a-efde0e00ac81",
   "metadata": {},
   "outputs": [
    {
     "data": {
      "text/plain": [
       "False"
      ]
     },
     "execution_count": 36,
     "metadata": {},
     "output_type": "execute_result"
    }
   ],
   "source": [
    "# check if 2 sets are disjoint sets\n",
    "sample_set_1.isdisjoint(sample_set_2)"
   ]
  },
  {
   "cell_type": "code",
   "execution_count": 37,
   "id": "bce4042d-e7f1-4bf1-bc85-1de1ba88bbf0",
   "metadata": {},
   "outputs": [
    {
     "data": {
      "text/plain": [
       "True"
      ]
     },
     "execution_count": 37,
     "metadata": {},
     "output_type": "execute_result"
    }
   ],
   "source": [
    "sample_set_1.isdisjoint(sample_set_3)"
   ]
  },
  {
   "cell_type": "code",
   "execution_count": 38,
   "id": "b85e3408-de92-482c-ad77-988f3bf87d38",
   "metadata": {},
   "outputs": [
    {
     "data": {
      "text/plain": [
       "True"
      ]
     },
     "execution_count": 38,
     "metadata": {},
     "output_type": "execute_result"
    }
   ],
   "source": [
    "# check if one set is subset of another set\n",
    "sample_set_2.issubset(sample_set_1)"
   ]
  },
  {
   "cell_type": "code",
   "execution_count": 39,
   "id": "3f4ad922-8583-4cee-ab1d-8dda715c668e",
   "metadata": {},
   "outputs": [
    {
     "data": {
      "text/plain": [
       "True"
      ]
     },
     "execution_count": 39,
     "metadata": {},
     "output_type": "execute_result"
    }
   ],
   "source": [
    "# check if one set is superset of another\n",
    "sample_set_1.issuperset(sample_set_2)"
   ]
  },
  {
   "cell_type": "code",
   "execution_count": 40,
   "id": "208f6612-d7ae-42c1-926a-33f5abf13618",
   "metadata": {},
   "outputs": [
    {
     "data": {
      "text/plain": [
       "{'A', 'B', 'C', 'D', 'E', 'F', 'S', 'T', 'U'}"
      ]
     },
     "execution_count": 40,
     "metadata": {},
     "output_type": "execute_result"
    }
   ],
   "source": [
    "# union of 2 sets\n",
    "sample_set_1.union(sample_set_3)"
   ]
  },
  {
   "cell_type": "code",
   "execution_count": 41,
   "id": "c52124d0-9144-48fe-a888-09ebe0a41346",
   "metadata": {},
   "outputs": [],
   "source": [
    "# update a set with new values, it will add the values which are not present in the original set.\n",
    "sample_set_1.update({'C', 'D', 'E', 'R', 'Z'})"
   ]
  },
  {
   "cell_type": "code",
   "execution_count": 42,
   "id": "15f59608-d302-42cf-8ed2-ac0fd3e56e1d",
   "metadata": {},
   "outputs": [
    {
     "data": {
      "text/plain": [
       "{'A', 'B', 'C', 'D', 'E', 'F', 'R', 'Z'}"
      ]
     },
     "execution_count": 42,
     "metadata": {},
     "output_type": "execute_result"
    }
   ],
   "source": [
    "sample_set_1"
   ]
  },
  {
   "cell_type": "code",
   "execution_count": 43,
   "id": "d43e4e74-fcbe-4a9c-88ad-090f4642d1fc",
   "metadata": {},
   "outputs": [
    {
     "name": "stdout",
     "output_type": "stream",
     "text": [
      "R\n",
      "F\n",
      "D\n",
      "C\n",
      "B\n",
      "E\n",
      "A\n",
      "Z\n"
     ]
    }
   ],
   "source": [
    "for element in sample_set_1:\n",
    "    print(element)"
   ]
  },
  {
   "cell_type": "markdown",
   "id": "3b3864d8-8dfa-4cf1-9912-fe8d1fa1b6e2",
   "metadata": {},
   "source": [
    "---\n",
    "---\n",
    "## Data Structure: Dictionary🖊🖊\n",
    "\n",
    "* Dictionary is also a mutable collection. But as you have seen in the list the indexes of the list are integer numbers. Here, indexes for dictionaries can use many different data types, not just integers.\n",
    "* Indexes for dictionaries are called keys, and a key with its associated value is called a key-value pair.\n",
    "* Items in the dictionaries are unordered. You can find out the first item in a list simply like my_list[0]. But there is no ✖️ “first” item in a dictionary. \n",
    "*  ☑️ Note: Dictionaries in Python 3.7 and later will remember the insertion order of their key-value pairs if you create a sequence value from them. But these are still unordered, as you can’t access items in them using integer indexes.\n",
    "* When we check whether the 2 lists are same or not the order of values in the list matters. It does not matter in what order the key-value pairs are typed in a dictionary.\n",
    "\n",
    "📍📍\n",
    "---"
   ]
  },
  {
   "cell_type": "markdown",
   "id": "8d220478-dc4d-4177-a9b6-05b90a18eb8a",
   "metadata": {},
   "source": [
    "📍📍 ***Defining a dictionary in Python*** 📍📍"
   ]
  },
  {
   "cell_type": "code",
   "execution_count": 45,
   "id": "8c630bbf-3f12-417c-97a0-28686b39e727",
   "metadata": {},
   "outputs": [],
   "source": [
    "my_dictionary = {\n",
    "    'name'  : 'Arun',\n",
    "    'age'   : 23,\n",
    "    'roll_no' : 'CSE20',\n",
    "    'percentage' : 98,\n",
    "    'attendence' : 100,\n",
    "    'city' : 'gur',\n",
    "    'country' : 'Nepal'\n",
    "}"
   ]
  },
  {
   "cell_type": "code",
   "execution_count": 46,
   "id": "86a4cb90-bf31-4a7e-a765-4e552fb97569",
   "metadata": {},
   "outputs": [
    {
     "data": {
      "text/plain": [
       "{'name': 'Arun',\n",
       " 'age': 23,\n",
       " 'roll_no': 'CSE20',\n",
       " 'percentage': 98,\n",
       " 'attendence': 100,\n",
       " 'city': 'gur',\n",
       " 'country': 'Nepal'}"
      ]
     },
     "execution_count": 46,
     "metadata": {},
     "output_type": "execute_result"
    }
   ],
   "source": [
    "my_dictionary"
   ]
  },
  {
   "cell_type": "code",
   "execution_count": 49,
   "id": "4c551e2c-8c4f-451f-82ee-103e16aa9931",
   "metadata": {},
   "outputs": [
    {
     "name": "stdout",
     "output_type": "stream",
     "text": [
      "Name is : Arun\n"
     ]
    }
   ],
   "source": [
    "print('Name is :', my_dictionary['name'])"
   ]
  },
  {
   "cell_type": "code",
   "execution_count": 51,
   "id": "b198893f-9ae8-49c4-88d9-f711d787cf9c",
   "metadata": {},
   "outputs": [
    {
     "name": "stdout",
     "output_type": "stream",
     "text": [
      "Age before updation is : 23\n",
      "Age after updation is : 25\n"
     ]
    }
   ],
   "source": [
    "print('Age before updation is :', my_dictionary['age'])\n",
    "my_dictionary['age']=25\n",
    "print('Age after updation is :', my_dictionary['age'])"
   ]
  },
  {
   "cell_type": "code",
   "execution_count": 52,
   "id": "4f17f968-9f47-465d-a8fc-07045d7c5088",
   "metadata": {},
   "outputs": [
    {
     "data": {
      "text/plain": [
       "{'name': 'Arun',\n",
       " 'age': 25,\n",
       " 'roll_no': 'CSE20',\n",
       " 'percentage': 98,\n",
       " 'attendence': 100,\n",
       " 'city': 'gur',\n",
       " 'country': 'Nepal'}"
      ]
     },
     "execution_count": 52,
     "metadata": {},
     "output_type": "execute_result"
    }
   ],
   "source": [
    "my_dictionary"
   ]
  },
  {
   "cell_type": "code",
   "execution_count": 54,
   "id": "9b29d68a-4d81-4e79-881e-fd5828283182",
   "metadata": {},
   "outputs": [
    {
     "data": {
      "text/plain": [
       "dict_keys(['name', 'age', 'roll_no', 'percentage', 'attendence', 'city', 'country'])"
      ]
     },
     "execution_count": 54,
     "metadata": {},
     "output_type": "execute_result"
    }
   ],
   "source": [
    "my_dictionary.keys()"
   ]
  },
  {
   "cell_type": "code",
   "execution_count": 56,
   "id": "689627df-eced-4b14-804a-5206f15a1631",
   "metadata": {},
   "outputs": [
    {
     "data": {
      "text/plain": [
       "dict_values(['Arun', 25, 'CSE20', 98, 100, 'gur', 'Nepal'])"
      ]
     },
     "execution_count": 56,
     "metadata": {},
     "output_type": "execute_result"
    }
   ],
   "source": [
    "my_dictionary.values()"
   ]
  },
  {
   "cell_type": "code",
   "execution_count": 58,
   "id": "73eda2a9-92c5-4432-9915-7cd7985e824e",
   "metadata": {},
   "outputs": [
    {
     "name": "stdout",
     "output_type": "stream",
     "text": [
      "dict_items([('name', 'Arun'), ('age', 25), ('roll_no', 'CSE20'), ('percentage', 98), ('attendence', 100), ('city', 'gur'), ('country', 'Nepal')])\n"
     ]
    }
   ],
   "source": [
    "print(my_dictionary.items())"
   ]
  },
  {
   "cell_type": "code",
   "execution_count": 59,
   "id": "df2cbfbd-2db6-4cfc-a793-36d19d830f51",
   "metadata": {},
   "outputs": [
    {
     "data": {
      "text/plain": [
       "{'name': 'Arun',\n",
       " 'age': 25,\n",
       " 'roll_no': 'CSE20',\n",
       " 'percentage': 98,\n",
       " 'attendence': 100,\n",
       " 'city': 'gur',\n",
       " 'country': 'Nepal'}"
      ]
     },
     "execution_count": 59,
     "metadata": {},
     "output_type": "execute_result"
    }
   ],
   "source": [
    "my_dictionary"
   ]
  },
  {
   "cell_type": "code",
   "execution_count": 66,
   "id": "9b52631b-af51-46a4-9384-d67b3f84fa27",
   "metadata": {},
   "outputs": [],
   "source": [
    "my_dictionary.update({'Phone' : 9804222057, 'last_name' : 'Patel'})\n",
    "my_dictionary.update([('House', 2345), ('midle_name', 'Prasad')])"
   ]
  },
  {
   "cell_type": "code",
   "execution_count": 61,
   "id": "9f892763-8b70-48f5-b326-878fb25532ed",
   "metadata": {},
   "outputs": [
    {
     "data": {
      "text/plain": [
       "{'name': 'Arun',\n",
       " 'age': 25,\n",
       " 'roll_no': 'CSE20',\n",
       " 'percentage': 98,\n",
       " 'attendence': 100,\n",
       " 'city': 'gur',\n",
       " 'country': 'Nepal',\n",
       " 'Phone': 9804222057,\n",
       " 'last_name': 'Patel'}"
      ]
     },
     "execution_count": 61,
     "metadata": {},
     "output_type": "execute_result"
    }
   ],
   "source": [
    "my_dictionary"
   ]
  },
  {
   "cell_type": "markdown",
   "id": "dc57f82a-6d53-4581-9057-a2160004a007",
   "metadata": {},
   "source": [
    "---\n",
    "\n",
    "📍📍 ***Add new key to the dictionary*** 📍📍\n",
    "\n",
    "---"
   ]
  },
  {
   "cell_type": "code",
   "execution_count": 67,
   "id": "4509372e-a409-412a-a8e2-5076cf43f6dd",
   "metadata": {},
   "outputs": [
    {
     "data": {
      "text/plain": [
       "{'name': 'Arun',\n",
       " 'age': 25,\n",
       " 'roll_no': 'CSE20',\n",
       " 'percentage': 98,\n",
       " 'attendence': 100,\n",
       " 'city': 'gur',\n",
       " 'country': 'Nepal',\n",
       " 'Phone': 9804222057,\n",
       " 'last_name': 'Patel',\n",
       " 'House': 2345,\n",
       " 'midle_name': 'Prasad'}"
      ]
     },
     "execution_count": 67,
     "metadata": {},
     "output_type": "execute_result"
    }
   ],
   "source": [
    "my_dictionary"
   ]
  },
  {
   "cell_type": "code",
   "execution_count": 68,
   "id": "29567503-008e-4c72-a3e7-22537265b059",
   "metadata": {},
   "outputs": [],
   "source": [
    "my_dictionary['key'] = 'key_values'"
   ]
  },
  {
   "cell_type": "code",
   "execution_count": 69,
   "id": "9c3953b1-4a1b-4ad9-b87c-1ee41fced92c",
   "metadata": {},
   "outputs": [
    {
     "data": {
      "text/plain": [
       "{'name': 'Arun',\n",
       " 'age': 25,\n",
       " 'roll_no': 'CSE20',\n",
       " 'percentage': 98,\n",
       " 'attendence': 100,\n",
       " 'city': 'gur',\n",
       " 'country': 'Nepal',\n",
       " 'Phone': 9804222057,\n",
       " 'last_name': 'Patel',\n",
       " 'House': 2345,\n",
       " 'midle_name': 'Prasad',\n",
       " 'key': 'key_values'}"
      ]
     },
     "execution_count": 69,
     "metadata": {},
     "output_type": "execute_result"
    }
   ],
   "source": [
    "my_dictionary"
   ]
  },
  {
   "cell_type": "code",
   "execution_count": 70,
   "id": "893cb200-9b5f-497a-b2dc-cc975f06e7c5",
   "metadata": {},
   "outputs": [
    {
     "name": "stdout",
     "output_type": "stream",
     "text": [
      "{'name': 'Arun', 'age': 25, 'roll_no': 'CSE20', 'percentage': 98, 'attendence': 100, 'city': 'gur', 'country': 'Nepal', 'Phone': 9804222057, 'last_name': 'Patel', 'House': 2345, 'midle_name': 'Prasad', 'key': 'key_values', 'new_key': 'new_value'}\n"
     ]
    }
   ],
   "source": [
    "# add new key to the dictionary:\n",
    "my_dictionary['new_key'] = 'new_value'\n",
    "\n",
    "print(my_dictionary)"
   ]
  },
  {
   "cell_type": "code",
   "execution_count": 72,
   "id": "010adb66-f1fe-4a2f-ba3b-db84e8b6e685",
   "metadata": {},
   "outputs": [],
   "source": [
    "sample={\n",
    "    'string' : 'string',\n",
    "    10 : 'integer',\n",
    "    2.4 : 'float',\n",
    "    'false' : 'boolen'\n",
    "}"
   ]
  },
  {
   "cell_type": "code",
   "execution_count": 79,
   "id": "57662996-2fe6-4060-b347-39470a11f002",
   "metadata": {},
   "outputs": [
    {
     "data": {
      "text/plain": [
       "'boolen'"
      ]
     },
     "execution_count": 79,
     "metadata": {},
     "output_type": "execute_result"
    }
   ],
   "source": [
    "sample['false']"
   ]
  },
  {
   "cell_type": "code",
   "execution_count": 80,
   "id": "0311b146-fa61-43ea-890a-d5249a2a2d39",
   "metadata": {},
   "outputs": [],
   "source": [
    "sample={\n",
    "    'A' : 1,\n",
    "    'B' : 2,\n",
    "    'C' : 3,\n",
    "    'A' : 100\n",
    "}"
   ]
  },
  {
   "cell_type": "code",
   "execution_count": 82,
   "id": "6cddd764-e92c-4811-9aae-685d20f2026e",
   "metadata": {},
   "outputs": [
    {
     "data": {
      "text/plain": [
       "{'A': 100, 'B': 2, 'C': 3}"
      ]
     },
     "execution_count": 82,
     "metadata": {},
     "output_type": "execute_result"
    }
   ],
   "source": [
    "sample"
   ]
  },
  {
   "cell_type": "code",
   "execution_count": 81,
   "id": "fa479e7f-0f78-4ce0-8c55-67a343210b1e",
   "metadata": {},
   "outputs": [
    {
     "data": {
      "text/plain": [
       "100"
      ]
     },
     "execution_count": 81,
     "metadata": {},
     "output_type": "execute_result"
    }
   ],
   "source": [
    "sample['A']"
   ]
  },
  {
   "cell_type": "code",
   "execution_count": 83,
   "id": "b9b145fb-5415-418f-acc4-3eea3d5cd248",
   "metadata": {},
   "outputs": [],
   "source": [
    "sample={\n",
    "    'A' : 1,\n",
    "    'B' : 2,\n",
    "    'C' : 3\n",
    "}"
   ]
  },
  {
   "cell_type": "code",
   "execution_count": 84,
   "id": "e37cd0a1-4ea0-4e3c-89ed-78410b63e2ee",
   "metadata": {},
   "outputs": [
    {
     "data": {
      "text/plain": [
       "{'A': 1, 'B': 2, 'C': 3}"
      ]
     },
     "execution_count": 84,
     "metadata": {},
     "output_type": "execute_result"
    }
   ],
   "source": [
    "sample"
   ]
  },
  {
   "cell_type": "code",
   "execution_count": 85,
   "id": "36e85868-9e0e-4991-a7d6-d86e6c99f641",
   "metadata": {},
   "outputs": [
    {
     "data": {
      "text/plain": [
       "2"
      ]
     },
     "execution_count": 85,
     "metadata": {},
     "output_type": "execute_result"
    }
   ],
   "source": [
    "sample['B']"
   ]
  },
  {
   "cell_type": "code",
   "execution_count": 86,
   "id": "e5bea001-8347-4b61-b533-0a6d7cdf689d",
   "metadata": {},
   "outputs": [
    {
     "ename": "TypeError",
     "evalue": "unhashable type: 'list'",
     "output_type": "error",
     "traceback": [
      "\u001b[1;31m---------------------------------------------------------------------------\u001b[0m",
      "\u001b[1;31mTypeError\u001b[0m                                 Traceback (most recent call last)",
      "Cell \u001b[1;32mIn[86], line 1\u001b[0m\n\u001b[1;32m----> 1\u001b[0m sample \u001b[38;5;241m=\u001b[39m {\n\u001b[0;32m      2\u001b[0m     \u001b[38;5;241m1\u001b[39m : \u001b[38;5;124m'\u001b[39m\u001b[38;5;124minteger\u001b[39m\u001b[38;5;124m'\u001b[39m,\n\u001b[0;32m      3\u001b[0m     [\u001b[38;5;241m1\u001b[39m, \u001b[38;5;241m2\u001b[39m] : \u001b[38;5;124m'\u001b[39m\u001b[38;5;124mlist\u001b[39m\u001b[38;5;124m'\u001b[39m\n\u001b[0;32m      4\u001b[0m }\n",
      "\u001b[1;31mTypeError\u001b[0m: unhashable type: 'list'"
     ]
    }
   ],
   "source": [
    "sample = {\n",
    "    1 : 'integer',\n",
    "    [1, 2] : 'list'\n",
    "}"
   ]
  },
  {
   "cell_type": "code",
   "execution_count": 87,
   "id": "9e97de01-3d3f-4eba-9fa5-b29ae613bfa6",
   "metadata": {},
   "outputs": [
    {
     "ename": "TypeError",
     "evalue": "unhashable type: 'list'",
     "output_type": "error",
     "traceback": [
      "\u001b[1;31m---------------------------------------------------------------------------\u001b[0m",
      "\u001b[1;31mTypeError\u001b[0m                                 Traceback (most recent call last)",
      "Cell \u001b[1;32mIn[87], line 1\u001b[0m\n\u001b[1;32m----> 1\u001b[0m sample \u001b[38;5;241m=\u001b[39m {\n\u001b[0;32m      2\u001b[0m     \u001b[38;5;241m1\u001b[39m : \u001b[38;5;124m'\u001b[39m\u001b[38;5;124minteger\u001b[39m\u001b[38;5;124m'\u001b[39m,\n\u001b[0;32m      3\u001b[0m     [\u001b[38;5;241m1\u001b[39m, \u001b[38;5;241m2\u001b[39m] : \u001b[38;5;124m'\u001b[39m\u001b[38;5;124mtuple\u001b[39m\u001b[38;5;124m'\u001b[39m\n\u001b[0;32m      4\u001b[0m }\n",
      "\u001b[1;31mTypeError\u001b[0m: unhashable type: 'list'"
     ]
    }
   ],
   "source": [
    "sample = {\n",
    "    1 : 'integer',\n",
    "    [1, 2] : 'tuple'\n",
    "}"
   ]
  },
  {
   "cell_type": "code",
   "execution_count": 88,
   "id": "7a435602-4f43-4f7b-aa0e-90d735d66c96",
   "metadata": {},
   "outputs": [],
   "source": [
    "sample ={\n",
    "    1 : 'integer',\n",
    "    (1, 2) : 'tuple'\n",
    "}"
   ]
  },
  {
   "cell_type": "code",
   "execution_count": 89,
   "id": "5ad36ab8-2e0d-457f-a95a-39c629dfc85e",
   "metadata": {},
   "outputs": [
    {
     "data": {
      "text/plain": [
       "{1: 'integer', (1, 2): 'tuple'}"
      ]
     },
     "execution_count": 89,
     "metadata": {},
     "output_type": "execute_result"
    }
   ],
   "source": [
    "sample"
   ]
  },
  {
   "cell_type": "code",
   "execution_count": 90,
   "id": "96d9a01e-3644-47ce-8b1d-4b582466377a",
   "metadata": {},
   "outputs": [
    {
     "data": {
      "text/plain": [
       "True"
      ]
     },
     "execution_count": 90,
     "metadata": {},
     "output_type": "execute_result"
    }
   ],
   "source": [
    "my_dict_1 = {\n",
    "    'key_1' : 'value_1',\n",
    "    'key_2' : 'value_2',\n",
    "    'key_3' : 3\n",
    "}\n",
    "\n",
    "my_dict_2 = {\n",
    "    'key_3' : 3,\n",
    "    'key_1' : 'value_1',\n",
    "    'key_2' : 'value_2'\n",
    "}\n",
    "\n",
    "(my_dict_1 == my_dict_2)"
   ]
  },
  {
   "cell_type": "code",
   "execution_count": 94,
   "id": "fc9cfa7a-a9ca-4b6f-82d5-7d2fd1462a69",
   "metadata": {},
   "outputs": [
    {
     "name": "stdout",
     "output_type": "stream",
     "text": [
      "name Arun\n",
      "age 25\n",
      "roll_no CSE20\n",
      "percentage 98\n",
      "attendence 100\n",
      "city gur\n",
      "country Nepal\n",
      "Phone 9804222057\n",
      "last_name Patel\n",
      "House 2345\n",
      "midle_name Prasad\n",
      "key key_values\n",
      "new_key new_value\n"
     ]
    }
   ],
   "source": [
    "for key,value in my_dictionary.items():\n",
    "    print(key, value)"
   ]
  },
  {
   "cell_type": "code",
   "execution_count": 2,
   "id": "65620964-b249-4893-af51-fabbee63406a",
   "metadata": {},
   "outputs": [],
   "source": [
    "m_dict = {\n",
    "    'KL Rahul' : 45,\n",
    "    'Rohit'    : 22,\n",
    "    'Virat'    : 31,\n",
    "    'Dhawan'   : 17,\n",
    "    'Rishabh'  : 10 \n",
    "}"
   ]
  },
  {
   "cell_type": "code",
   "execution_count": 5,
   "id": "d20339bf-f6c8-409a-b6a0-e947c2b1f598",
   "metadata": {},
   "outputs": [
    {
     "data": {
      "text/plain": [
       "[('Dhawan', 17),\n",
       " ('KL Rahul', 45),\n",
       " ('Rishabh', 10),\n",
       " ('Rohit', 22),\n",
       " ('Virat', 31)]"
      ]
     },
     "execution_count": 5,
     "metadata": {},
     "output_type": "execute_result"
    }
   ],
   "source": [
    "sorted(m_dict.items())"
   ]
  },
  {
   "cell_type": "markdown",
   "id": "b6f41f36-dc0e-4c89-910b-064457c479c7",
   "metadata": {},
   "source": [
    "---\n",
    "---\n",
    "\n",
    "<center><h1>📍 📍 String Manipulation 📍 📍</h1></center>\n",
    "\n",
    "---"
   ]
  },
  {
   "cell_type": "code",
   "execution_count": 8,
   "id": "d6c568d4-dbc6-4058-8bb1-4003a5f3356d",
   "metadata": {},
   "outputs": [],
   "source": [
    "my_string=\"My name is Arun prasad patel study at presidential graduatiu school\""
   ]
  },
  {
   "cell_type": "code",
   "execution_count": 9,
   "id": "71e860af-2433-421b-bd8b-e4cd6e812ca8",
   "metadata": {},
   "outputs": [
    {
     "data": {
      "text/plain": [
       "'My name is Arun prasad patel study at presidential graduatiu school'"
      ]
     },
     "execution_count": 9,
     "metadata": {},
     "output_type": "execute_result"
    }
   ],
   "source": [
    "my_string"
   ]
  },
  {
   "cell_type": "code",
   "execution_count": 10,
   "id": "a1a60cea-4800-4756-a230-86f05b60d62e",
   "metadata": {},
   "outputs": [
    {
     "data": {
      "text/plain": [
       "67"
      ]
     },
     "execution_count": 10,
     "metadata": {},
     "output_type": "execute_result"
    }
   ],
   "source": [
    "len(my_string)"
   ]
  },
  {
   "cell_type": "code",
   "execution_count": 13,
   "id": "03ef39f0-b710-44ec-a95d-169ed9f51942",
   "metadata": {},
   "outputs": [
    {
     "data": {
      "text/plain": [
       "'r'"
      ]
     },
     "execution_count": 13,
     "metadata": {},
     "output_type": "execute_result"
    }
   ],
   "source": [
    "my_string[12]"
   ]
  },
  {
   "cell_type": "code",
   "execution_count": 14,
   "id": "34221035-49f2-4073-af1b-0093906a2d2a",
   "metadata": {},
   "outputs": [
    {
     "data": {
      "text/plain": [
       "'l'"
      ]
     },
     "execution_count": 14,
     "metadata": {},
     "output_type": "execute_result"
    }
   ],
   "source": [
    "my_string[-1]"
   ]
  },
  {
   "cell_type": "code",
   "execution_count": 16,
   "id": "f25b1838-9025-46c5-bf73-bbca992fa696",
   "metadata": {},
   "outputs": [
    {
     "data": {
      "text/plain": [
       "'na'"
      ]
     },
     "execution_count": 16,
     "metadata": {},
     "output_type": "execute_result"
    }
   ],
   "source": [
    "my_string[3:5]"
   ]
  },
  {
   "cell_type": "code",
   "execution_count": 17,
   "id": "bdb74dd3-b44a-46b0-986b-12d3264b274e",
   "metadata": {},
   "outputs": [
    {
     "data": {
      "text/plain": [
       "' Arun prasad patel study at presidential gradua'"
      ]
     },
     "execution_count": 17,
     "metadata": {},
     "output_type": "execute_result"
    }
   ],
   "source": [
    "my_string[10:-10]"
   ]
  },
  {
   "cell_type": "code",
   "execution_count": 19,
   "id": "ac8ab217-894d-4bf4-a0fe-6788a4281293",
   "metadata": {},
   "outputs": [
    {
     "data": {
      "text/plain": [
       "'loohcs uitaudarg laitnediserp ta yduts letap dasarp nurA si eman yM'"
      ]
     },
     "execution_count": 19,
     "metadata": {},
     "output_type": "execute_result"
    }
   ],
   "source": [
    "my_string[::-1]"
   ]
  },
  {
   "cell_type": "code",
   "execution_count": 20,
   "id": "c66d8bba-8fb7-43d4-a733-b23342e81806",
   "metadata": {},
   "outputs": [
    {
     "data": {
      "text/plain": [
       "'My name is Arun prasad patel study at presidential graduatiu school'"
      ]
     },
     "execution_count": 20,
     "metadata": {},
     "output_type": "execute_result"
    }
   ],
   "source": [
    "my_string"
   ]
  },
  {
   "cell_type": "code",
   "execution_count": 22,
   "id": "18364cc6-c672-458e-a578-7d4711cee7c1",
   "metadata": {},
   "outputs": [
    {
     "data": {
      "text/plain": [
       "8"
      ]
     },
     "execution_count": 22,
     "metadata": {},
     "output_type": "execute_result"
    }
   ],
   "source": [
    "my_string.count('a')"
   ]
  },
  {
   "cell_type": "code",
   "execution_count": 23,
   "id": "1c135bcb-4381-4ee3-9e0d-d29aa3c92000",
   "metadata": {},
   "outputs": [
    {
     "data": {
      "text/plain": [
       "1"
      ]
     },
     "execution_count": 23,
     "metadata": {},
     "output_type": "execute_result"
    }
   ],
   "source": [
    "my_string.count('A')"
   ]
  },
  {
   "cell_type": "code",
   "execution_count": 25,
   "id": "1ea208c9-8661-4181-ac9b-9e7654fa72a3",
   "metadata": {},
   "outputs": [
    {
     "data": {
      "text/plain": [
       "' Arun prasad patel study at presidential gradua'"
      ]
     },
     "execution_count": 25,
     "metadata": {},
     "output_type": "execute_result"
    }
   ],
   "source": [
    "my_string[10:-10]"
   ]
  },
  {
   "cell_type": "code",
   "execution_count": 26,
   "id": "57b4a64a-0fbd-4edd-b070-fe1aa6ea9a5b",
   "metadata": {},
   "outputs": [
    {
     "data": {
      "text/plain": [
       "7"
      ]
     },
     "execution_count": 26,
     "metadata": {},
     "output_type": "execute_result"
    }
   ],
   "source": [
    "my_string[10:-10].count('a')"
   ]
  },
  {
   "cell_type": "code",
   "execution_count": 27,
   "id": "c13cdd6f-ee63-4c09-8898-64fe9823f422",
   "metadata": {},
   "outputs": [
    {
     "data": {
      "text/plain": [
       "1"
      ]
     },
     "execution_count": 27,
     "metadata": {},
     "output_type": "execute_result"
    }
   ],
   "source": [
    "my_string[10:-10].count('A')"
   ]
  },
  {
   "cell_type": "code",
   "execution_count": 28,
   "id": "8b7bde91-ac99-4491-9603-6fdae4bedb96",
   "metadata": {},
   "outputs": [
    {
     "data": {
      "text/plain": [
       "0"
      ]
     },
     "execution_count": 28,
     "metadata": {},
     "output_type": "execute_result"
    }
   ],
   "source": [
    "my_string.count('ar')"
   ]
  },
  {
   "cell_type": "code",
   "execution_count": 29,
   "id": "46db0493-2090-4806-b959-eb1246148b10",
   "metadata": {},
   "outputs": [
    {
     "data": {
      "text/plain": [
       "'My name is Arun prasad patel study at presidential graduatiu school'"
      ]
     },
     "execution_count": 29,
     "metadata": {},
     "output_type": "execute_result"
    }
   ],
   "source": [
    "my_string"
   ]
  },
  {
   "cell_type": "code",
   "execution_count": 32,
   "id": "eb70f4e0-6972-4e16-94c2-b3f274d16ba2",
   "metadata": {},
   "outputs": [
    {
     "data": {
      "text/plain": [
       "-1"
      ]
     },
     "execution_count": 32,
     "metadata": {},
     "output_type": "execute_result"
    }
   ],
   "source": [
    "my_string.find('next')"
   ]
  },
  {
   "cell_type": "code",
   "execution_count": 33,
   "id": "13818949-a0ba-4684-a7c5-52823bf5ee13",
   "metadata": {},
   "outputs": [
    {
     "data": {
      "text/plain": [
       "-1"
      ]
     },
     "execution_count": 33,
     "metadata": {},
     "output_type": "execute_result"
    }
   ],
   "source": [
    "my_string.find('python')"
   ]
  },
  {
   "cell_type": "code",
   "execution_count": 36,
   "id": "2b8a83c4-4c5a-4fd9-aaba-2af320967537",
   "metadata": {},
   "outputs": [
    {
     "data": {
      "text/plain": [
       "'My name is Arun prasad patel study at presidential graduatiu school'"
      ]
     },
     "execution_count": 36,
     "metadata": {},
     "output_type": "execute_result"
    }
   ],
   "source": [
    "my_string"
   ]
  },
  {
   "cell_type": "code",
   "execution_count": 38,
   "id": "4ee0474a-9314-4304-8a9e-2f6092c867fa",
   "metadata": {},
   "outputs": [
    {
     "ename": "ValueError",
     "evalue": "substring not found",
     "output_type": "error",
     "traceback": [
      "\u001b[1;31m---------------------------------------------------------------------------\u001b[0m",
      "\u001b[1;31mValueError\u001b[0m                                Traceback (most recent call last)",
      "Cell \u001b[1;32mIn[38], line 1\u001b[0m\n\u001b[1;32m----> 1\u001b[0m \u001b[43mmy_string\u001b[49m\u001b[38;5;241;43m.\u001b[39;49m\u001b[43mindex\u001b[49m\u001b[43m(\u001b[49m\u001b[38;5;124;43m'\u001b[39;49m\u001b[38;5;124;43mnext\u001b[39;49m\u001b[38;5;124;43m'\u001b[39;49m\u001b[43m)\u001b[49m\n",
      "\u001b[1;31mValueError\u001b[0m: substring not found"
     ]
    }
   ],
   "source": [
    "my_string.index('next')"
   ]
  },
  {
   "cell_type": "code",
   "execution_count": 39,
   "id": "eea96cac-3140-4401-9385-e59d70fc10c4",
   "metadata": {},
   "outputs": [
    {
     "ename": "TypeError",
     "evalue": "index() takes at most 3 arguments (6 given)",
     "output_type": "error",
     "traceback": [
      "\u001b[1;31m---------------------------------------------------------------------------\u001b[0m",
      "\u001b[1;31mTypeError\u001b[0m                                 Traceback (most recent call last)",
      "Cell \u001b[1;32mIn[39], line 1\u001b[0m\n\u001b[1;32m----> 1\u001b[0m \u001b[43mmy_string\u001b[49m\u001b[38;5;241;43m.\u001b[39;49m\u001b[43mindex\u001b[49m\u001b[43m(\u001b[49m\u001b[38;5;241;43m*\u001b[39;49m\u001b[38;5;124;43m'\u001b[39;49m\u001b[38;5;124;43mpryhon\u001b[39;49m\u001b[38;5;124;43m'\u001b[39;49m\u001b[43m)\u001b[49m\n",
      "\u001b[1;31mTypeError\u001b[0m: index() takes at most 3 arguments (6 given)"
     ]
    }
   ],
   "source": [
    "my_string.index(*'pryhon')"
   ]
  },
  {
   "cell_type": "code",
   "execution_count": 40,
   "id": "40906347-23cf-419d-bc2b-66129950cbc5",
   "metadata": {},
   "outputs": [
    {
     "data": {
      "text/plain": [
       "'My name is Arun prasad patel study at presidential graduatiu school'"
      ]
     },
     "execution_count": 40,
     "metadata": {},
     "output_type": "execute_result"
    }
   ],
   "source": [
    "my_string"
   ]
  },
  {
   "cell_type": "code",
   "execution_count": 41,
   "id": "55c1606f-889f-4892-8658-248e25e840b3",
   "metadata": {},
   "outputs": [
    {
     "data": {
      "text/plain": [
       "True"
      ]
     },
     "execution_count": 41,
     "metadata": {},
     "output_type": "execute_result"
    }
   ],
   "source": [
    "my_string.endswith('school')"
   ]
  },
  {
   "cell_type": "code",
   "execution_count": 42,
   "id": "e4420eb5-0f30-46cb-8c3f-9eef2359c658",
   "metadata": {},
   "outputs": [
    {
     "data": {
      "text/plain": [
       "False"
      ]
     },
     "execution_count": 42,
     "metadata": {},
     "output_type": "execute_result"
    }
   ],
   "source": [
    "my_string.endswith('arun')"
   ]
  },
  {
   "cell_type": "code",
   "execution_count": 47,
   "id": "c78cc10e-6f2a-4c0d-98d9-aecf16d1a959",
   "metadata": {},
   "outputs": [
    {
     "data": {
      "text/plain": [
       "True"
      ]
     },
     "execution_count": 47,
     "metadata": {},
     "output_type": "execute_result"
    }
   ],
   "source": [
    "my_string.startswith('My')"
   ]
  },
  {
   "cell_type": "code",
   "execution_count": 46,
   "id": "b010f90e-2c71-4924-a7bb-eb39bbf83e3d",
   "metadata": {},
   "outputs": [
    {
     "data": {
      "text/plain": [
       "False"
      ]
     },
     "execution_count": 46,
     "metadata": {},
     "output_type": "execute_result"
    }
   ],
   "source": [
    "my_string.startswith('study')"
   ]
  },
  {
   "cell_type": "code",
   "execution_count": 48,
   "id": "eb224133-e16b-4e96-a431-9c99092d8fff",
   "metadata": {},
   "outputs": [
    {
     "data": {
      "text/plain": [
       "'My name is Arun prasad patel study at presidential graduatiu school'"
      ]
     },
     "execution_count": 48,
     "metadata": {},
     "output_type": "execute_result"
    }
   ],
   "source": [
    "my_string"
   ]
  },
  {
   "cell_type": "code",
   "execution_count": 49,
   "id": "d9a73f2f-d1b3-474e-80f4-e61b09ef76ad",
   "metadata": {},
   "outputs": [
    {
     "data": {
      "text/plain": [
       "'MY NAME IS ARUN PRASAD PATEL STUDY AT PRESIDENTIAL GRADUATIU SCHOOL'"
      ]
     },
     "execution_count": 49,
     "metadata": {},
     "output_type": "execute_result"
    }
   ],
   "source": [
    "my_string.upper()"
   ]
  },
  {
   "cell_type": "code",
   "execution_count": 50,
   "id": "0645d820-4167-4fd8-9bc9-af6fe15cf07d",
   "metadata": {},
   "outputs": [
    {
     "data": {
      "text/plain": [
       "'my name is arun prasad patel study at presidential graduatiu school'"
      ]
     },
     "execution_count": 50,
     "metadata": {},
     "output_type": "execute_result"
    }
   ],
   "source": [
    "my_string.lower()"
   ]
  },
  {
   "cell_type": "code",
   "execution_count": 53,
   "id": "9243e97a-d3c9-49a1-8287-f8ed4e90c089",
   "metadata": {},
   "outputs": [
    {
     "data": {
      "text/plain": [
       "'My name is arun prasad patel study at presidential graduatiu school'"
      ]
     },
     "execution_count": 53,
     "metadata": {},
     "output_type": "execute_result"
    }
   ],
   "source": [
    "my_string.capitalize()"
   ]
  },
  {
   "cell_type": "code",
   "execution_count": 54,
   "id": "c9f37b1b-7672-48ec-b435-484be8fe27bb",
   "metadata": {},
   "outputs": [
    {
     "data": {
      "text/plain": [
       "'My name is Arun prasad patel study at presidential graduatiu school'"
      ]
     },
     "execution_count": 54,
     "metadata": {},
     "output_type": "execute_result"
    }
   ],
   "source": [
    "my_string"
   ]
  },
  {
   "cell_type": "code",
   "execution_count": 55,
   "id": "a56e9ff3-4145-4179-ade3-0f7fd2224cd8",
   "metadata": {},
   "outputs": [
    {
     "data": {
      "text/plain": [
       "False"
      ]
     },
     "execution_count": 55,
     "metadata": {},
     "output_type": "execute_result"
    }
   ],
   "source": [
    "my_string.islower()"
   ]
  },
  {
   "cell_type": "code",
   "execution_count": 56,
   "id": "1b61194b-3d53-4041-aca5-ae4fcd0437ca",
   "metadata": {},
   "outputs": [
    {
     "data": {
      "text/plain": [
       "False"
      ]
     },
     "execution_count": 56,
     "metadata": {},
     "output_type": "execute_result"
    }
   ],
   "source": [
    "my_string.isupper()"
   ]
  },
  {
   "cell_type": "code",
   "execution_count": 57,
   "id": "ebe347d5-dbc9-47f7-aa9e-88e04187475e",
   "metadata": {},
   "outputs": [
    {
     "data": {
      "text/plain": [
       "True"
      ]
     },
     "execution_count": 57,
     "metadata": {},
     "output_type": "execute_result"
    }
   ],
   "source": [
    "\"10\".isnumeric()"
   ]
  },
  {
   "cell_type": "code",
   "execution_count": 61,
   "id": "e0ace2f5-10e6-4c70-896e-0c5d0ec960e2",
   "metadata": {},
   "outputs": [
    {
     "data": {
      "text/plain": [
       "False"
      ]
     },
     "execution_count": 61,
     "metadata": {},
     "output_type": "execute_result"
    }
   ],
   "source": [
    "\"1213as\".isnumeric()"
   ]
  },
  {
   "cell_type": "code",
   "execution_count": 62,
   "id": "7269073b-3d02-45ab-af47-e2b4a6a90415",
   "metadata": {},
   "outputs": [
    {
     "data": {
      "text/plain": [
       "True"
      ]
     },
     "execution_count": 62,
     "metadata": {},
     "output_type": "execute_result"
    }
   ],
   "source": [
    "\"python\".isalpha()"
   ]
  },
  {
   "cell_type": "code",
   "execution_count": 63,
   "id": "d6f2f98a-88c7-4067-a440-6356710fd742",
   "metadata": {},
   "outputs": [
    {
     "data": {
      "text/plain": [
       "False"
      ]
     },
     "execution_count": 63,
     "metadata": {},
     "output_type": "execute_result"
    }
   ],
   "source": [
    "\"1212as\".isalpha()"
   ]
  },
  {
   "cell_type": "code",
   "execution_count": 64,
   "id": "1e065802-64b0-4ccc-ab8c-ed0781ae4aa3",
   "metadata": {},
   "outputs": [
    {
     "data": {
      "text/plain": [
       "True"
      ]
     },
     "execution_count": 64,
     "metadata": {},
     "output_type": "execute_result"
    }
   ],
   "source": [
    "\"1212as\".isalnum()"
   ]
  },
  {
   "cell_type": "code",
   "execution_count": 65,
   "id": "4694ab88-b37b-4224-be2d-d7f1642420c9",
   "metadata": {},
   "outputs": [],
   "source": [
    "string = \"AnalyticsVidhya\""
   ]
  },
  {
   "cell_type": "code",
   "execution_count": 66,
   "id": "53009a36-3c25-46eb-9ca0-df9f0a26dd14",
   "metadata": {},
   "outputs": [
    {
     "data": {
      "text/plain": [
       "True"
      ]
     },
     "execution_count": 66,
     "metadata": {},
     "output_type": "execute_result"
    }
   ],
   "source": [
    "string.isalpha()"
   ]
  },
  {
   "cell_type": "code",
   "execution_count": 67,
   "id": "6e7fc434-5cbd-4cdc-87e7-ead6d8631aec",
   "metadata": {},
   "outputs": [],
   "source": [
    "string = \"Analytics Vidhya\""
   ]
  },
  {
   "cell_type": "code",
   "execution_count": 68,
   "id": "285f2961-eaf1-4e60-b8af-8f7a75bd4dae",
   "metadata": {},
   "outputs": [
    {
     "data": {
      "text/plain": [
       "False"
      ]
     },
     "execution_count": 68,
     "metadata": {},
     "output_type": "execute_result"
    }
   ],
   "source": [
    "string.isalpha()"
   ]
  },
  {
   "cell_type": "code",
   "execution_count": 70,
   "id": "88d57e20-cb30-4849-907e-f646b3dd9626",
   "metadata": {},
   "outputs": [
    {
     "data": {
      "text/plain": [
       "'python is eassy to learn'"
      ]
     },
     "execution_count": 70,
     "metadata": {},
     "output_type": "execute_result"
    }
   ],
   "source": [
    "\"java is eassy to learn\".replace('java', 'python')"
   ]
  },
  {
   "cell_type": "code",
   "execution_count": 72,
   "id": "ba289533-0884-4d04-8a6d-4309c2a7539e",
   "metadata": {},
   "outputs": [
    {
     "data": {
      "text/plain": [
       "['python is ', ' to learn']"
      ]
     },
     "execution_count": 72,
     "metadata": {},
     "output_type": "execute_result"
    }
   ],
   "source": [
    "\"python is eassy to learn\".split('eassy')"
   ]
  },
  {
   "cell_type": "code",
   "execution_count": 73,
   "id": "48e52a6d-5d43-4d1e-8b9b-bb26e4bd0a21",
   "metadata": {},
   "outputs": [
    {
     "data": {
      "text/plain": [
       "['python is eassy to learn']"
      ]
     },
     "execution_count": 73,
     "metadata": {},
     "output_type": "execute_result"
    }
   ],
   "source": [
    "\"python is eassy to learn\".split('  ')"
   ]
  },
  {
   "cell_type": "code",
   "execution_count": 74,
   "id": "d4b07212-90b9-428f-9845-3c21839031dd",
   "metadata": {},
   "outputs": [
    {
     "data": {
      "text/plain": [
       "9"
      ]
     },
     "execution_count": 74,
     "metadata": {},
     "output_type": "execute_result"
    }
   ],
   "source": [
    "len(\"python is eassy to learn hii i am arun\".split(' '))"
   ]
  },
  {
   "cell_type": "markdown",
   "id": "dfacb709-7669-4204-83a0-0534a833b8fd",
   "metadata": {},
   "source": [
    "---\n",
    "\n",
    "## 📍📍 Defining Functions 📍📍\n",
    "---\n",
    "\n",
    "* ***Purpose of functions is to group a particular lines of code that needs to be executed multiple times.***\n",
    "* ***The keyword `def` introduces a function definition and it must be followed by the function name.***\n",
    "\n",
    "---"
   ]
  },
  {
   "cell_type": "code",
   "execution_count": 78,
   "id": "510ccc1d-65c8-4410-8bf8-ff0565e4a565",
   "metadata": {},
   "outputs": [],
   "source": [
    "def wellcome():\n",
    "    print(\"Wellcome to my house Arun\")"
   ]
  },
  {
   "cell_type": "code",
   "execution_count": 79,
   "id": "c385a67d-a7ca-41e8-8b69-8a77050ceec2",
   "metadata": {},
   "outputs": [
    {
     "name": "stdout",
     "output_type": "stream",
     "text": [
      "Wellcome to my house Arun\n"
     ]
    }
   ],
   "source": [
    "wellcome()"
   ]
  },
  {
   "cell_type": "code",
   "execution_count": 80,
   "id": "b760cd28-ac5d-4010-8c8b-f220f35207fa",
   "metadata": {},
   "outputs": [
    {
     "name": "stdout",
     "output_type": "stream",
     "text": [
      "Wellcome to my house Arun\n"
     ]
    }
   ],
   "source": [
    "wellcome()"
   ]
  },
  {
   "cell_type": "code",
   "execution_count": 82,
   "id": "78b2f749-dbf8-4e4e-9ecb-e26a0e947aa3",
   "metadata": {},
   "outputs": [],
   "source": [
    "def add_two_numbers():\n",
    "    total = 3+2\n",
    "    print(\"sum of 3 and 2 is:\", total)\n",
    "    "
   ]
  },
  {
   "cell_type": "code",
   "execution_count": 84,
   "id": "3bd0e6f3-02c3-4247-9440-e98fd0128e2e",
   "metadata": {},
   "outputs": [],
   "source": [
    "def add_two_numbers():\n",
    "    total = 3+2\n",
    "    print(\"sum of 3 and 2 is:\", total)\n",
    "    return total"
   ]
  },
  {
   "cell_type": "code",
   "execution_count": 85,
   "id": "8e56ae59-746f-48a7-872d-03eb3c8972ce",
   "metadata": {},
   "outputs": [
    {
     "name": "stdout",
     "output_type": "stream",
     "text": [
      "sum of 3 and 2 is: 5\n"
     ]
    },
    {
     "data": {
      "text/plain": [
       "5"
      ]
     },
     "execution_count": 85,
     "metadata": {},
     "output_type": "execute_result"
    }
   ],
   "source": [
    "add_two_numbers()"
   ]
  },
  {
   "cell_type": "code",
   "execution_count": 86,
   "id": "0cdd0c58-aa2c-42d2-856a-771e75519e3a",
   "metadata": {},
   "outputs": [],
   "source": [
    "def sub_two_numbers():\n",
    "    sub = 30-20\n",
    "    print(\"sub of is 30 and 20 is :\", sub)\n",
    "    return sub"
   ]
  },
  {
   "cell_type": "code",
   "execution_count": 87,
   "id": "a7b51544-3abb-4544-8756-6e592392e65b",
   "metadata": {},
   "outputs": [
    {
     "name": "stdout",
     "output_type": "stream",
     "text": [
      "sub of is 30 and 20 is : 10\n"
     ]
    },
    {
     "data": {
      "text/plain": [
       "10"
      ]
     },
     "execution_count": 87,
     "metadata": {},
     "output_type": "execute_result"
    }
   ],
   "source": [
    "sub_two_numbers()"
   ]
  },
  {
   "cell_type": "code",
   "execution_count": 89,
   "id": "34861d3a-a268-4bb1-92cd-1d37aeece67d",
   "metadata": {},
   "outputs": [],
   "source": [
    "def mult_two_numbers():\n",
    "    mult = 20*29\n",
    "    print(\"mult of 30 ans 20 is :\", mult)\n",
    "    return mult"
   ]
  },
  {
   "cell_type": "code",
   "execution_count": 91,
   "id": "751d7757-3ee7-41e4-81df-d9a346cd807a",
   "metadata": {},
   "outputs": [
    {
     "name": "stdout",
     "output_type": "stream",
     "text": [
      "mult of 30 ans 20 is : 580\n"
     ]
    },
    {
     "data": {
      "text/plain": [
       "580"
      ]
     },
     "execution_count": 91,
     "metadata": {},
     "output_type": "execute_result"
    }
   ],
   "source": [
    "mult_two_numbers()"
   ]
  },
  {
   "cell_type": "code",
   "execution_count": 95,
   "id": "e2353b97-348f-4c62-8369-23d424780982",
   "metadata": {},
   "outputs": [],
   "source": [
    "def div_two_numbers():\n",
    "    div = 20%7\n",
    "    print(\"div of 20 and 7 is : \", div)\n",
    "    return div"
   ]
  },
  {
   "cell_type": "code",
   "execution_count": 96,
   "id": "301a9ed3-a0c5-4242-829c-c46546d0f327",
   "metadata": {},
   "outputs": [
    {
     "name": "stdout",
     "output_type": "stream",
     "text": [
      "div of 20 and 7 is :  6\n"
     ]
    },
    {
     "data": {
      "text/plain": [
       "6"
      ]
     },
     "execution_count": 96,
     "metadata": {},
     "output_type": "execute_result"
    }
   ],
   "source": [
    "div_two_numbers()"
   ]
  },
  {
   "cell_type": "markdown",
   "id": "254cd647-22d8-4615-9714-8eff9b6c05a3",
   "metadata": {},
   "source": [
    "---\n",
    "\n",
    "###  Passing Parameters\n",
    "\n",
    "---"
   ]
  },
  {
   "cell_type": "code",
   "execution_count": 103,
   "id": "5ae0c186-834f-487c-8f58-a850ac2cb54d",
   "metadata": {},
   "outputs": [],
   "source": [
    "def welcome(name):\n",
    "    return \"welcome to course, \" + name"
   ]
  },
  {
   "cell_type": "code",
   "execution_count": 102,
   "id": "ccc5c23d-fa03-4af8-b0aa-9817fcdbd579",
   "metadata": {},
   "outputs": [
    {
     "data": {
      "text/plain": [
       "'welcome to courseArun'"
      ]
     },
     "execution_count": 102,
     "metadata": {},
     "output_type": "execute_result"
    }
   ],
   "source": [
    "welcome('Arun')"
   ]
  },
  {
   "cell_type": "code",
   "execution_count": 104,
   "id": "211effea-9dbc-48ef-81db-0eb70b394ffa",
   "metadata": {},
   "outputs": [],
   "source": [
    "def welcome(name ='Arjun'):\n",
    "    return \"welcome to course, \" + name"
   ]
  },
  {
   "cell_type": "code",
   "execution_count": 105,
   "id": "b247aecc-0670-4d15-ad1e-7c3f91451a4b",
   "metadata": {},
   "outputs": [
    {
     "data": {
      "text/plain": [
       "'welcome to course, arun'"
      ]
     },
     "execution_count": 105,
     "metadata": {},
     "output_type": "execute_result"
    }
   ],
   "source": [
    "welcome('arun')"
   ]
  },
  {
   "cell_type": "code",
   "execution_count": 106,
   "id": "361c767f-03aa-47a2-ba62-8e6effaafe1c",
   "metadata": {},
   "outputs": [
    {
     "data": {
      "text/plain": [
       "'welcome to course, Arjun'"
      ]
     },
     "execution_count": 106,
     "metadata": {},
     "output_type": "execute_result"
    }
   ],
   "source": [
    "welcome()"
   ]
  },
  {
   "cell_type": "markdown",
   "id": "668d6c6e-1a7a-4042-8a0e-c768fde52246",
   "metadata": {},
   "source": [
    "---\n",
    "\n",
    "***`POSITIONAL ARGUMENTS`***\n",
    "\n",
    "***Most arguments are identified by their position in the function call. `print(a,b)` will give different results from `print(b,a)`***\n",
    "\n",
    "---"
   ]
  },
  {
   "cell_type": "code",
   "execution_count": 110,
   "id": "2ad88344-848e-4eaa-be49-fd5899f0bf28",
   "metadata": {},
   "outputs": [],
   "source": [
    "def math_function(small_number, large_number):\n",
    "    differnce = large_number - small_number\n",
    "    return differnce"
   ]
  },
  {
   "cell_type": "code",
   "execution_count": 113,
   "id": "4297e028-a123-41cb-8fe4-12bd5632f490",
   "metadata": {},
   "outputs": [
    {
     "data": {
      "text/plain": [
       "4"
      ]
     },
     "execution_count": 113,
     "metadata": {},
     "output_type": "execute_result"
    }
   ],
   "source": [
    "math_function(8, 12)"
   ]
  },
  {
   "cell_type": "code",
   "execution_count": 115,
   "id": "bfb548cd-3312-44ba-8720-4fcdb24d56f7",
   "metadata": {},
   "outputs": [
    {
     "data": {
      "text/plain": [
       "-12"
      ]
     },
     "execution_count": 115,
     "metadata": {},
     "output_type": "execute_result"
    }
   ],
   "source": [
    "math_function(16,4)"
   ]
  },
  {
   "cell_type": "code",
   "execution_count": 118,
   "id": "dc21c6f9-6cce-430e-88a3-15c40387c9b5",
   "metadata": {},
   "outputs": [
    {
     "data": {
      "text/plain": [
       "12"
      ]
     },
     "execution_count": 118,
     "metadata": {},
     "output_type": "execute_result"
    }
   ],
   "source": [
    "math_function(large_number = 16, small_number= 4)"
   ]
  },
  {
   "cell_type": "code",
   "execution_count": 119,
   "id": "06e0b607-53ac-4a2d-aa71-bd1e1db9fa72",
   "metadata": {},
   "outputs": [
    {
     "data": {
      "text/plain": [
       "12"
      ]
     },
     "execution_count": 119,
     "metadata": {},
     "output_type": "execute_result"
    }
   ],
   "source": [
    "math_function(small_number = 4, large_number= 16)"
   ]
  },
  {
   "cell_type": "code",
   "execution_count": 120,
   "id": "5907039b-84a8-4e3a-a3f6-aa45dba83b6c",
   "metadata": {},
   "outputs": [
    {
     "ename": "SyntaxError",
     "evalue": "positional argument follows keyword argument (2750689665.py, line 1)",
     "output_type": "error",
     "traceback": [
      "\u001b[1;36m  Cell \u001b[1;32mIn[120], line 1\u001b[1;36m\u001b[0m\n\u001b[1;33m    math_function(small_number= 4, 16)\u001b[0m\n\u001b[1;37m                                     ^\u001b[0m\n\u001b[1;31mSyntaxError\u001b[0m\u001b[1;31m:\u001b[0m positional argument follows keyword argument\n"
     ]
    }
   ],
   "source": [
    "math_function(small_number= 4, 16)"
   ]
  },
  {
   "cell_type": "code",
   "execution_count": 121,
   "id": "16370bee-a4a9-439f-8416-a9803d1debd1",
   "metadata": {},
   "outputs": [
    {
     "data": {
      "text/plain": [
       "12"
      ]
     },
     "execution_count": 121,
     "metadata": {},
     "output_type": "execute_result"
    }
   ],
   "source": [
    "math_function(4,large_number= 16)"
   ]
  },
  {
   "cell_type": "markdown",
   "id": "d6382544-3e2b-4862-93dd-677bff652144",
   "metadata": {},
   "source": [
    "---\n",
    "\n",
    "***`POSITIONAL ARGUMENTS`***\n",
    "\n",
    "***Most arguments are identified by their position in the function call. `print(a,b)` will give different results from `print(b,a)`***\n",
    "\n",
    "---"
   ]
  },
  {
   "cell_type": "code",
   "execution_count": 4,
   "id": "a3a7152c-6705-43b4-8444-f55af8533e2a",
   "metadata": {},
   "outputs": [],
   "source": [
    "def my_functions(*args):\n",
    "    for i in args:\n",
    "        print(i)"
   ]
  },
  {
   "cell_type": "code",
   "execution_count": 5,
   "id": "01b1faee-bad4-44ab-a43a-c2094de3ef42",
   "metadata": {},
   "outputs": [
    {
     "name": "stdout",
     "output_type": "stream",
     "text": [
      "1\n",
      "2\n",
      "3\n",
      "4\n"
     ]
    }
   ],
   "source": [
    "my_functions(1, 2, 3, 4)"
   ]
  },
  {
   "cell_type": "code",
   "execution_count": 7,
   "id": "c3ff2c12-6852-40ad-a253-55f1049f09cb",
   "metadata": {},
   "outputs": [
    {
     "name": "stdout",
     "output_type": "stream",
     "text": [
      "1\n",
      "2\n",
      "3\n"
     ]
    }
   ],
   "source": [
    "my_functions(1, 2, 3)"
   ]
  },
  {
   "cell_type": "code",
   "execution_count": 8,
   "id": "d17d1f65-9ac4-46b7-901c-33bf6c3307f8",
   "metadata": {},
   "outputs": [
    {
     "name": "stdout",
     "output_type": "stream",
     "text": [
      "1\n",
      "2\n",
      "3\n",
      "Arun\n",
      "Preiya\n",
      "pooja\n"
     ]
    }
   ],
   "source": [
    "my_functions('1', '2', '3', 'Arun', 'Preiya', 'pooja')"
   ]
  },
  {
   "cell_type": "code",
   "execution_count": 9,
   "id": "7b304927-faea-46bd-88cd-0ca7dfc71c6d",
   "metadata": {},
   "outputs": [],
   "source": [
    "def my_keyword_agruments(**kwargs):\n",
    "    for key, value in kwargs.items():\n",
    "        print(key, value)"
   ]
  },
  {
   "cell_type": "code",
   "execution_count": 10,
   "id": "86be5a8f-aac6-4ffb-994c-d2eb3f5a0480",
   "metadata": {},
   "outputs": [
    {
     "name": "stdout",
     "output_type": "stream",
     "text": [
      "a 1\n",
      "b 2\n",
      "c 3\n",
      "d 5\n"
     ]
    }
   ],
   "source": [
    "my_keyword_agruments(a=1, b=2, c=3, d=5)"
   ]
  },
  {
   "cell_type": "code",
   "execution_count": 13,
   "id": "c63fce73-6797-4512-8cb3-18e6179114fc",
   "metadata": {},
   "outputs": [
    {
     "name": "stdout",
     "output_type": "stream",
     "text": [
      "a Arun\n",
      "b preiya\n"
     ]
    }
   ],
   "source": [
    "my_keyword_agruments(a='Arun', b='preiya')"
   ]
  },
  {
   "cell_type": "markdown",
   "id": "ddc8de19-3a10-4931-baef-54dd125ba7e8",
   "metadata": {},
   "source": [
    "---\n",
    "\n",
    "***Scope of Variables: Local and Global Variables***\n",
    "\n",
    "---\n",
    "\n",
    "- **`\"Scope of Variable\"`** means that part of program where we can access the particular variable.\n",
    "- **`\"Local Variable\"`** are those which are defined inside the function and can be only accessed inside that particular function.\n",
    "- **`\"Global Variable\"`** are defined outside the function and can be accessed throughout the program.\n",
    " \n",
    "---\n",
    "\n",
    "\n",
    "***Let's define a global variable, `\"name\"` outside the function. We will return its value using a function `\"my_function\"` and see that we would be able to access its value using that function also.***"
   ]
  },
  {
   "cell_type": "code",
   "execution_count": 15,
   "id": "f541090b-7bce-4f7d-94e7-4bdaa85dbf4a",
   "metadata": {},
   "outputs": [],
   "source": [
    "name = \"Variable outside the function\"\n",
    "def my_function():\n",
    "    return name"
   ]
  },
  {
   "cell_type": "code",
   "execution_count": 17,
   "id": "7619f22b-a703-4fc8-a970-366d018a4f68",
   "metadata": {},
   "outputs": [
    {
     "name": "stdout",
     "output_type": "stream",
     "text": [
      "Variable outside the function\n"
     ]
    }
   ],
   "source": [
    "print(my_function())"
   ]
  },
  {
   "cell_type": "code",
   "execution_count": 18,
   "id": "79a9fa27-d91d-403e-9c03-df1a0ab728af",
   "metadata": {},
   "outputs": [
    {
     "data": {
      "text/plain": [
       "'Variable outside the function'"
      ]
     },
     "execution_count": 18,
     "metadata": {},
     "output_type": "execute_result"
    }
   ],
   "source": [
    "name"
   ]
  },
  {
   "cell_type": "code",
   "execution_count": 19,
   "id": "7e6f1eda-2f56-4c9e-916e-13ccd74d3551",
   "metadata": {},
   "outputs": [],
   "source": [
    "name = \"Variable outside the function\"\n",
    "def my_function():\n",
    "    name = \"Variable inside the function\"\n",
    "    return name"
   ]
  },
  {
   "cell_type": "code",
   "execution_count": 25,
   "id": "1bda0f0c-bfe1-4b30-8c3b-f7603d590f5c",
   "metadata": {},
   "outputs": [
    {
     "name": "stdout",
     "output_type": "stream",
     "text": [
      "global\n",
      "Variable outside the function\n"
     ]
    }
   ],
   "source": [
    "print(my_function())\n",
    "print(name)"
   ]
  },
  {
   "cell_type": "code",
   "execution_count": 21,
   "id": "01dd6d16-b74d-4d29-bb7c-eaa2f5e8a233",
   "metadata": {},
   "outputs": [
    {
     "data": {
      "text/plain": [
       "'Variable outside the function'"
      ]
     },
     "execution_count": 21,
     "metadata": {},
     "output_type": "execute_result"
    }
   ],
   "source": [
    "name"
   ]
  },
  {
   "cell_type": "code",
   "execution_count": 26,
   "id": "eb07fbd3-5eab-45a3-955f-a09b552fec6c",
   "metadata": {},
   "outputs": [],
   "source": [
    "name = \"Variable outside the function\"\n",
    "def my_function():\n",
    "    name = \"34\"\n",
    "    return name"
   ]
  },
  {
   "cell_type": "code",
   "execution_count": 27,
   "id": "b6f62f9e-eb47-4dde-8ad5-cbc8ea3fb1b0",
   "metadata": {},
   "outputs": [
    {
     "name": "stdout",
     "output_type": "stream",
     "text": [
      "34\n"
     ]
    }
   ],
   "source": [
    "print(my_function())"
   ]
  },
  {
   "cell_type": "code",
   "execution_count": 28,
   "id": "0483ace5-8c23-4cfd-93d8-186a191b477b",
   "metadata": {},
   "outputs": [
    {
     "data": {
      "text/plain": [
       "'Variable outside the function'"
      ]
     },
     "execution_count": 28,
     "metadata": {},
     "output_type": "execute_result"
    }
   ],
   "source": [
    "name"
   ]
  },
  {
   "cell_type": "code",
   "execution_count": 34,
   "id": "7ddb025a-7762-4586-85bc-280bc4537a8a",
   "metadata": {},
   "outputs": [],
   "source": [
    "name =\"Variable outside the function\"\n",
    "def my_function():\n",
    "    global name\n",
    "    name =\"3567\"\n",
    "    name =\"Variable inside the function\""
   ]
  },
  {
   "cell_type": "code",
   "execution_count": 35,
   "id": "eb787170-dbe1-4f45-ab2e-81001d692472",
   "metadata": {},
   "outputs": [
    {
     "name": "stdout",
     "output_type": "stream",
     "text": [
      "None\n",
      "Variable inside the function\n"
     ]
    }
   ],
   "source": [
    "print(my_function())\n",
    "print(name)"
   ]
  },
  {
   "cell_type": "markdown",
   "id": "88ffcbed-d149-4df4-a32d-0f5160dc4e34",
   "metadata": {},
   "source": [
    "---\n",
    "---\n",
    "\n",
    "<center><h1>📍 📍 Lambda Expressions 📍 📍</h1></center>"
   ]
  },
  {
   "cell_type": "code",
   "execution_count": 36,
   "id": "348fc875-2c61-4b70-acfa-5ae247bac416",
   "metadata": {},
   "outputs": [],
   "source": [
    "def add_20(a):\n",
    "    return a+20"
   ]
  },
  {
   "cell_type": "code",
   "execution_count": 40,
   "id": "e5a5fffc-fef7-49ad-89be-198650c7e9a2",
   "metadata": {},
   "outputs": [
    {
     "data": {
      "text/plain": [
       "25"
      ]
     },
     "execution_count": 40,
     "metadata": {},
     "output_type": "execute_result"
    }
   ],
   "source": [
    "add_20(5)"
   ]
  },
  {
   "cell_type": "code",
   "execution_count": 46,
   "id": "3b7b8b21-46f9-4264-bbe3-c0a878fc8f0c",
   "metadata": {},
   "outputs": [],
   "source": [
    "def sub_20(a):\n",
    "    return a-20"
   ]
  },
  {
   "cell_type": "code",
   "execution_count": 47,
   "id": "ff4abad2-a948-4876-92cc-01aea08c3fb6",
   "metadata": {},
   "outputs": [
    {
     "data": {
      "text/plain": [
       "-10"
      ]
     },
     "execution_count": 47,
     "metadata": {},
     "output_type": "execute_result"
    }
   ],
   "source": [
    "sub_20(10)"
   ]
  },
  {
   "cell_type": "code",
   "execution_count": 49,
   "id": "f4958c83-feba-4c89-bc98-18212b212e6a",
   "metadata": {},
   "outputs": [
    {
     "name": "stdout",
     "output_type": "stream",
     "text": [
      "with agrument with value 5:  40\n",
      "with agrument with value 20: 50\n"
     ]
    }
   ],
   "source": [
    "var =lambda a : a+20\n",
    "print('with agrument with value 5: ', var(20))\n",
    "print('with agrument with value 20:', var(30))"
   ]
  },
  {
   "cell_type": "code",
   "execution_count": 53,
   "id": "156cd4a1-fa30-475f-9d0d-f6ab97905772",
   "metadata": {},
   "outputs": [
    {
     "name": "stdout",
     "output_type": "stream",
     "text": [
      "with agrument with value 80:  220\n",
      "with agrument with value 200:  500\n"
     ]
    }
   ],
   "source": [
    "lambda_add = lambda a, b : a+b \n",
    "print('with agrument with value 80: ',lambda_add(20, 200))\n",
    "print('with agrument with value 200: ',lambda_add(200, 300))"
   ]
  },
  {
   "cell_type": "code",
   "execution_count": 54,
   "id": "bc491015-7fdf-49d2-81da-87a5025edb22",
   "metadata": {},
   "outputs": [
    {
     "name": "stdout",
     "output_type": "stream",
     "text": [
      "with agrument value 200:  180\n",
      "with agrument value 300 241\n"
     ]
    }
   ],
   "source": [
    "lambda_sub = lambda a, b: a-b\n",
    "print('with agrument value 200: ', lambda_sub(200, 20))\n",
    "print('with agrument value 300', lambda_sub(300, 59))"
   ]
  },
  {
   "cell_type": "code",
   "execution_count": 35,
   "id": "a3cad655-57af-49c3-8700-69243b0aba64",
   "metadata": {},
   "outputs": [
    {
     "name": "stdout",
     "output_type": "stream",
     "text": [
      "with agrument with value 200 : 10.0\n",
      "with agrument value 300: 10.0\n"
     ]
    }
   ],
   "source": [
    "lambda_div =lambda a, b :a/b\n",
    "print('with agrument with value 200 :', lambda_div(200, 20))\n",
    "print('with agrument value 300:', lambda_div(300, 30))"
   ]
  },
  {
   "cell_type": "markdown",
   "id": "397cefa8-d165-4f0a-951a-38b7ee561545",
   "metadata": {},
   "source": [
    "\n",
    "\n",
    "---\n",
    "\n",
    "***FILTER FUNCTION***\n",
    "\n",
    "***The filter() function in Python takes in a function and a list as arguments. To filter out all the elements of a sequence, for which the function returns True.***\n",
    "\n",
    "---"
   ]
  },
  {
   "cell_type": "code",
   "execution_count": 81,
   "id": "c072f3cc-aa36-4022-8e66-1e407343c787",
   "metadata": {},
   "outputs": [],
   "source": [
    "def normal_even(x):\n",
    "    if x%2!=0:\n",
    "        return True\n",
    "    else:\n",
    "        return false"
   ]
  },
  {
   "cell_type": "code",
   "execution_count": 84,
   "id": "01083b3a-9213-472d-965e-5928767bf0da",
   "metadata": {},
   "outputs": [
    {
     "name": "stdout",
     "output_type": "stream",
     "text": [
      "The odd number is [1, 3, 5, 7, 9, 13, 15]\n"
     ]
    }
   ],
   "source": [
    "original_list=[1, 2, 3, 4, 5, 6, 7, 8, 9, 12, 13, 14, 15, 16, 20, 24]\n",
    "filtered_list = list(filter (lambda x :(x%2!=0), original_list))\n",
    "print('The odd number is', filtered_list)"
   ]
  },
  {
   "cell_type": "code",
   "execution_count": 10,
   "id": "d65b4a7b-896f-4e3a-a05b-8eeda61b0c0f",
   "metadata": {},
   "outputs": [
    {
     "name": "stdout",
     "output_type": "stream",
     "text": [
      "The multiple number is : [10, 5, 20, 15, 60, 30, 35, 40, 50]\n"
     ]
    }
   ],
   "source": [
    "original_list=[10, 5, 20, 15, 60, 30, 54, 23, 35, 40, 50]\n",
    "filtered_list = list(filter(lambda x: (x%5==0), original_list))\n",
    "print('The multiple number is :', filtered_list)"
   ]
  },
  {
   "cell_type": "code",
   "execution_count": 31,
   "id": "2cd77b20-67ae-4291-ab23-6d74e0a9ae6b",
   "metadata": {},
   "outputs": [
    {
     "name": "stdout",
     "output_type": "stream",
     "text": [
      "The even number is : [2, 4, 6, 8, 10, 12, 14]\n"
     ]
    }
   ],
   "source": [
    "original_list=[1, 2, 3, 4, 5, 6, 7, 8, 9, 10, 11, 12, 13, 14, 15]\n",
    "filtered_list =list(filter(lambda x: (x%2==0), original_list))\n",
    "print('The even number is :', filtered_list)"
   ]
  },
  {
   "cell_type": "code",
   "execution_count": 12,
   "id": "b27a2651-14dd-4c45-93e2-6aa19b275701",
   "metadata": {},
   "outputs": [
    {
     "name": "stdout",
     "output_type": "stream",
     "text": [
      "The words string with \"A\" are is : ['Arun', 'Aashik']\n"
     ]
    }
   ],
   "source": [
    "original_list=['Arun', 'Prasad', 'Patel', 'Aashik', 'Ujjwal']\n",
    "filtered_list = list(filter(lambda x : (x[0]=='A'), original_list))\n",
    "print('The words string with \"A\" are is :', filtered_list)"
   ]
  },
  {
   "cell_type": "markdown",
   "id": "09a200b1-ca17-4b75-9a7f-74e110978df4",
   "metadata": {},
   "source": [
    "\n",
    "\n",
    "---\n",
    "\n",
    "***MAP FUNCTION***\n",
    "\n",
    "***The map() function in Python takes in a function and a list as argument. The function is called with a lambda function and a list and a new list is returned which contains all the lambda modified items returned by that function for each item.***\n",
    "\n",
    "---\n"
   ]
  },
  {
   "cell_type": "code",
   "execution_count": 13,
   "id": "4932e750-593c-4a68-ac11-1ede61ecae34",
   "metadata": {},
   "outputs": [
    {
     "name": "stdout",
     "output_type": "stream",
     "text": [
      "The new list : [2, 4, 6, 8, 10, 12, 14, 16, 18, 20]\n"
     ]
    }
   ],
   "source": [
    "original_list=[1, 2, 3, 4, 5, 6, 7, 8, 9, 10]\n",
    "mapped_list=list(map(lambda x: x*2, original_list))\n",
    "print('The new list :', mapped_list)"
   ]
  },
  {
   "cell_type": "code",
   "execution_count": 16,
   "id": "d83c63c3-d6c4-4342-8c89-96ca9641a021",
   "metadata": {},
   "outputs": [
    {
     "name": "stdout",
     "output_type": "stream",
     "text": [
      "The new list : ['Arun', 'Prasad', 'Patel', 'Ujjwal', 'Aashik']\n"
     ]
    }
   ],
   "source": [
    "original_list=['Arun', 'prasad', 'patel', 'ujjwal', 'aashik']\n",
    "mapped_list=list(map(lambda x: x[0].upper()+x[1:], original_list))\n",
    "print('The new list :', mapped_list)"
   ]
  },
  {
   "cell_type": "code",
   "execution_count": null,
   "id": "51c32079-0415-4018-9eb1-ed4cf2ce7974",
   "metadata": {},
   "outputs": [],
   "source": [
    "orginal_list['sagar', 'susant', 'preiya', 'sarish']\n",
    "mapped_list=list((lambda x: x[0].upper()+[3:], original_list))\n",
    "print_list('The new list')"
   ]
  },
  {
   "cell_type": "markdown",
   "id": "075fb956-c581-4853-b073-00075eb76db9",
   "metadata": {},
   "source": [
    "---\n",
    "\n",
    "***REDUCE FUNCTION***\n",
    "\n",
    "* ***The reduce() function in Python takes in a function and a list as argument. The function is called with a lambda function and a list and a new reduced result is returned. This performs a repetitive operation over the pairs of the list.***\n",
    "* ***The reduce function will always take two parameters***\n",
    "\n",
    "---"
   ]
  },
  {
   "cell_type": "code",
   "execution_count": 21,
   "id": "b6533707-da74-48d3-991b-97dbf072b5ba",
   "metadata": {},
   "outputs": [
    {
     "name": "stdout",
     "output_type": "stream",
     "text": [
      "The sum original list is :  106\n"
     ]
    }
   ],
   "source": [
    "from functools import reduce\n",
    "original_list=[1, 2, 3, 4, 5, 6, 7, 8, 10, 20, 40]\n",
    "sum_of_list = reduce((lambda x, y : x+y), original_list)\n",
    "print('The sum original list is : ', sum_of_list)"
   ]
  },
  {
   "cell_type": "code",
   "execution_count": 36,
   "id": "7c23cc43-1ba1-43d4-af37-a835d5e03815",
   "metadata": {},
   "outputs": [
    {
     "name": "stdout",
     "output_type": "stream",
     "text": [
      "Largest Number in the original list is :  424\n"
     ]
    }
   ],
   "source": [
    "original_list = [110, 53, 3, 424, 255, 16, 42, 256]\n",
    "largest_number = reduce((lambda x, y: x if (x > y) else y ), original_list) \n",
    "print ('Largest Number in the original list is : ',largest_number)"
   ]
  },
  {
   "cell_type": "markdown",
   "id": "0251a2d6-e47f-4078-a509-3149a76648d9",
   "metadata": {},
   "source": [
    "---\n",
    "---\n",
    "\n",
    "<h1><center> 📍📍RECURSION 📍📍 </h1></center>\n",
    "\n",
    "---"
   ]
  },
  {
   "cell_type": "markdown",
   "id": "93426236-86a2-4889-b362-744dee0c4ee0",
   "metadata": {},
   "source": [
    "***We will solve the problem of counting handshakes here.***\n",
    "\n",
    "- First we, will code the iterative approach then, we will code the recursive approach.\n",
    "\n",
    "---\n",
    "\n",
    "#### `ITERATIVE APPROCH`\n",
    "\n",
    "---"
   ]
  },
  {
   "cell_type": "code",
   "execution_count": 39,
   "id": "cc0d25a0-cb74-4891-b00d-b911e22b2c72",
   "metadata": {},
   "outputs": [],
   "source": [
    "def count_hand_shake_iterative(total_persons_in_room):\n",
    "    count=0\n",
    "    for i in range(1, total_persons_in_room):\n",
    "        for j in range(i+1, total_persons_in_room+1):\n",
    "            print('Hnad shake of ', i, 'and', j)\n",
    "            count=count+1\n",
    "            print('Total number of handshake is : ', count)"
   ]
  },
  {
   "cell_type": "code",
   "execution_count": 40,
   "id": "5c93dca8-beb3-44f7-a1ed-25a77bf27cc5",
   "metadata": {},
   "outputs": [
    {
     "name": "stdout",
     "output_type": "stream",
     "text": [
      "Hnad shake of  1 and 2\n",
      "Total number of handshake is :  1\n",
      "Hnad shake of  1 and 3\n",
      "Total number of handshake is :  2\n",
      "Hnad shake of  1 and 4\n",
      "Total number of handshake is :  3\n",
      "Hnad shake of  1 and 5\n",
      "Total number of handshake is :  4\n",
      "Hnad shake of  2 and 3\n",
      "Total number of handshake is :  5\n",
      "Hnad shake of  2 and 4\n",
      "Total number of handshake is :  6\n",
      "Hnad shake of  2 and 5\n",
      "Total number of handshake is :  7\n",
      "Hnad shake of  3 and 4\n",
      "Total number of handshake is :  8\n",
      "Hnad shake of  3 and 5\n",
      "Total number of handshake is :  9\n",
      "Hnad shake of  4 and 5\n",
      "Total number of handshake is :  10\n"
     ]
    }
   ],
   "source": [
    "count_hand_shake_iterative(total_persons_in_room=5)"
   ]
  },
  {
   "cell_type": "code",
   "execution_count": 29,
   "id": "dab40368-72aa-4173-8305-fbdbc4c1bcc3",
   "metadata": {},
   "outputs": [],
   "source": [
    "# define recursive function to count handshakes\n",
    "\n",
    "def count_hand_shakes(total_persons_in_room):\n",
    "    \n",
    "    # Base Condition: When number of persons is 2 (One Handshake)\n",
    "    if total_persons_in_room == 2:\n",
    "            return 1\n",
    "    \n",
    "    else:\n",
    "            # F(N) = F(N-1) + (N-1)\n",
    "            return count_hand_shakes(total_persons_in_room - 1) + (total_persons_in_room - 1)"
   ]
  },
  {
   "cell_type": "code",
   "execution_count": 31,
   "id": "9785f20b-0db9-4913-b92e-a6c3b9b6c73a",
   "metadata": {},
   "outputs": [
    {
     "data": {
      "text/plain": [
       "10"
      ]
     },
     "execution_count": 31,
     "metadata": {},
     "output_type": "execute_result"
    }
   ],
   "source": [
    "count_hand_shakes(5)"
   ]
  },
  {
   "cell_type": "code",
   "execution_count": 32,
   "id": "b2eae101-b217-467a-b476-8986a1aef2bd",
   "metadata": {},
   "outputs": [
    {
     "data": {
      "text/plain": [
       "6"
      ]
     },
     "execution_count": 32,
     "metadata": {},
     "output_type": "execute_result"
    }
   ],
   "source": [
    "count_hand_shakes(4)"
   ]
  },
  {
   "cell_type": "code",
   "execution_count": 35,
   "id": "844ee44f-d93e-45d0-9331-2afc5b7f5f3f",
   "metadata": {},
   "outputs": [],
   "source": [
    "# define recursive function to count handshakes\n",
    "\n",
    "def count_hand_shakes(total_persons_in_room):\n",
    "    \n",
    "    # Base Condition: When number of persons is 2 (One Handshake)\n",
    "    print(\"The function is called with value: \", total_persons_in_room)\n",
    "    if total_persons_in_room == 2:\n",
    "            return 1\n",
    "    \n",
    "    else:\n",
    "            # F(N) = F(N-1) + (N-1)\n",
    "            return count_hand_shakes(total_persons_in_room - 1) + (total_persons_in_room - 1)"
   ]
  },
  {
   "cell_type": "code",
   "execution_count": 36,
   "id": "f6723923-52a4-4fea-8800-c298b5fa2b95",
   "metadata": {},
   "outputs": [
    {
     "name": "stdout",
     "output_type": "stream",
     "text": [
      "The function is called with value:  5\n",
      "The function is called with value:  4\n",
      "The function is called with value:  3\n",
      "The function is called with value:  2\n"
     ]
    },
    {
     "data": {
      "text/plain": [
       "10"
      ]
     },
     "execution_count": 36,
     "metadata": {},
     "output_type": "execute_result"
    }
   ],
   "source": [
    "count_hand_shakes(5)"
   ]
  },
  {
   "cell_type": "code",
   "execution_count": 37,
   "id": "06936831-7fe8-4edb-a97c-b7363ef75e3c",
   "metadata": {},
   "outputs": [
    {
     "name": "stdout",
     "output_type": "stream",
     "text": [
      "The function is called with value:  4\n",
      "The function is called with value:  3\n",
      "The function is called with value:  2\n"
     ]
    }
   ],
   "source": [
    "result = count_hand_shakes(4)"
   ]
  },
  {
   "cell_type": "code",
   "execution_count": 38,
   "id": "524e7c02-a981-403f-9e4e-761f1019ed83",
   "metadata": {},
   "outputs": [
    {
     "data": {
      "text/plain": [
       "10"
      ]
     },
     "execution_count": 38,
     "metadata": {},
     "output_type": "execute_result"
    }
   ],
   "source": [
    "result+4"
   ]
  },
  {
   "cell_type": "markdown",
   "id": "be33e50c-91aa-4f95-b305-572d8987f4d3",
   "metadata": {},
   "source": [
    "---\n",
    "---\n",
    "\n",
    "<center><h1> 📍 📍 Standard Libraries in Python 📍 📍</h1></center>\n",
    "\n",
    "---"
   ]
  },
  {
   "cell_type": "markdown",
   "id": "2a7ff99d-757f-4d86-90af-e5d2eeecff74",
   "metadata": {},
   "source": [
    "### Module"
   ]
  },
  {
   "cell_type": "code",
   "execution_count": 159,
   "id": "68548d7b-35ad-46e1-942a-af50f97a3c0b",
   "metadata": {},
   "outputs": [],
   "source": [
    "def area_circle(r):\n",
    "    area =3.14*r*r\n",
    "    return area"
   ]
  },
  {
   "cell_type": "code",
   "execution_count": 160,
   "id": "7b37db07-114e-4fbc-8ed9-b635cbdb20ab",
   "metadata": {},
   "outputs": [
    {
     "data": {
      "text/plain": [
       "3.14"
      ]
     },
     "execution_count": 160,
     "metadata": {},
     "output_type": "execute_result"
    }
   ],
   "source": [
    "area_circle(1)"
   ]
  },
  {
   "cell_type": "code",
   "execution_count": 163,
   "id": "b95bea27-5411-46d3-923b-2da7747ffcfc",
   "metadata": {},
   "outputs": [
    {
     "data": {
      "text/plain": [
       "28.259999999999998"
      ]
     },
     "execution_count": 163,
     "metadata": {},
     "output_type": "execute_result"
    }
   ],
   "source": [
    "area_circle(3)"
   ]
  },
  {
   "cell_type": "code",
   "execution_count": 164,
   "id": "da84797d-3a8a-4e28-a5f6-68184c191b7f",
   "metadata": {},
   "outputs": [
    {
     "data": {
      "text/plain": [
       "78.5"
      ]
     },
     "execution_count": 164,
     "metadata": {},
     "output_type": "execute_result"
    }
   ],
   "source": [
    "area_circle(5)"
   ]
  },
  {
   "cell_type": "markdown",
   "id": "d7d86655-739a-467d-bf29-b91b37122f89",
   "metadata": {},
   "source": [
    "### Math"
   ]
  },
  {
   "cell_type": "code",
   "execution_count": 41,
   "id": "f57ccaba-4b15-4411-b490-5d2155bb58ca",
   "metadata": {},
   "outputs": [],
   "source": [
    "import math"
   ]
  },
  {
   "cell_type": "code",
   "execution_count": 48,
   "id": "7790232d-d4b5-4a28-b908-9db25bcc560e",
   "metadata": {},
   "outputs": [
    {
     "data": {
      "text/plain": [
       "21"
      ]
     },
     "execution_count": 48,
     "metadata": {},
     "output_type": "execute_result"
    }
   ],
   "source": [
    "math.ceil(20.222)"
   ]
  },
  {
   "cell_type": "code",
   "execution_count": 49,
   "id": "d2ef801c-0d96-4921-b2e5-6bd18c6ada84",
   "metadata": {},
   "outputs": [
    {
     "data": {
      "text/plain": [
       "20"
      ]
     },
     "execution_count": 49,
     "metadata": {},
     "output_type": "execute_result"
    }
   ],
   "source": [
    "math.floor(20.222)"
   ]
  },
  {
   "cell_type": "code",
   "execution_count": 50,
   "id": "e84c69d6-79fd-468e-9c74-8808857321d8",
   "metadata": {},
   "outputs": [
    {
     "data": {
      "text/plain": [
       "3628800"
      ]
     },
     "execution_count": 50,
     "metadata": {},
     "output_type": "execute_result"
    }
   ],
   "source": [
    "math.factorial(10)"
   ]
  },
  {
   "cell_type": "code",
   "execution_count": 55,
   "id": "5d2cbfc3-7929-434c-844f-816c13c0e1af",
   "metadata": {},
   "outputs": [
    {
     "data": {
      "text/plain": [
       "5"
      ]
     },
     "execution_count": 55,
     "metadata": {},
     "output_type": "execute_result"
    }
   ],
   "source": [
    "math.gcd(10,25)"
   ]
  },
  {
   "cell_type": "markdown",
   "id": "194e6be5-eb39-443b-adcf-cf11f1c7b7c7",
   "metadata": {},
   "source": [
    "### random"
   ]
  },
  {
   "cell_type": "code",
   "execution_count": 59,
   "id": "4cb843f1-0281-4ec6-9127-7b3ef20d410d",
   "metadata": {},
   "outputs": [],
   "source": [
    "import random"
   ]
  },
  {
   "cell_type": "code",
   "execution_count": 92,
   "id": "cbd3dabc-cdc4-442a-9619-6b54cae49607",
   "metadata": {},
   "outputs": [
    {
     "data": {
      "text/plain": [
       "'Arun'"
      ]
     },
     "execution_count": 92,
     "metadata": {},
     "output_type": "execute_result"
    }
   ],
   "source": [
    "random.choice(['Arun', 'Patel', 'Sagar', 'Ujjawal'])"
   ]
  },
  {
   "cell_type": "code",
   "execution_count": 96,
   "id": "1bb20844-ae1b-413d-8f01-f35402d84200",
   "metadata": {},
   "outputs": [
    {
     "data": {
      "text/plain": [
       "[48, 15, 44, 24, 49, 40, 30, 21, 33, 31]"
      ]
     },
     "execution_count": 96,
     "metadata": {},
     "output_type": "execute_result"
    }
   ],
   "source": [
    "random.sample(range(12,50), 10)"
   ]
  },
  {
   "cell_type": "code",
   "execution_count": 101,
   "id": "d51a9057-15dd-4e92-86bf-d86d8e394c1b",
   "metadata": {},
   "outputs": [
    {
     "data": {
      "text/plain": [
       "0.01749778580730743"
      ]
     },
     "execution_count": 101,
     "metadata": {},
     "output_type": "execute_result"
    }
   ],
   "source": [
    "random.random()"
   ]
  },
  {
   "cell_type": "code",
   "execution_count": 107,
   "id": "d598a787-bf90-4ad0-bd91-18a115895278",
   "metadata": {},
   "outputs": [
    {
     "data": {
      "text/plain": [
       "1.699536920073289"
      ]
     },
     "execution_count": 107,
     "metadata": {},
     "output_type": "execute_result"
    }
   ],
   "source": [
    "random.uniform(0,2)"
   ]
  },
  {
   "cell_type": "code",
   "execution_count": 124,
   "id": "d7d6f2f5-b50f-41d1-bc9c-b0427670c195",
   "metadata": {},
   "outputs": [
    {
     "data": {
      "text/plain": [
       "8"
      ]
     },
     "execution_count": 124,
     "metadata": {},
     "output_type": "execute_result"
    }
   ],
   "source": [
    "random.randrange(3, 10)"
   ]
  },
  {
   "cell_type": "code",
   "execution_count": 134,
   "id": "232be91c-b68b-4485-8e9b-0aacae99cd43",
   "metadata": {},
   "outputs": [
    {
     "data": {
      "text/plain": [
       "8"
      ]
     },
     "execution_count": 134,
     "metadata": {},
     "output_type": "execute_result"
    }
   ],
   "source": [
    "random.randint(6,20)"
   ]
  },
  {
   "cell_type": "markdown",
   "id": "26ac6519-7640-4168-a5a4-eb6ba06c91f7",
   "metadata": {},
   "source": [
    "#### `DATE TIME`\n",
    "\n",
    "---\n",
    "\n",
    "\n",
    "\n",
    "| **Directive** | **Meaning**                                            |\n",
    "| ---           | ---                                                    |\n",
    "|  **%a**       | Weekday as locale’s abbreviated name.                  |\n",
    "|  **%A**       | Weekday as locale’s full name.                         |  \n",
    "|  **%d**       | Day of the month as a zero-padded decimal number.      |\n",
    "|  **%b**       | Month as locale’s abbreviated name.\t                 |\n",
    "|  **%B**       | Month as locale’s full name.\t                         |\n",
    "|  **%m**       | Month as a zero-padded decimal number.                 |\n",
    "|  **%y**       | Year without century as a zero-padded decimal number.  |\n",
    "|  **%Y**       | Year with century as a decimal number.                 |\n",
    "|  **%H**       | Hour (24-hour clock) as a zero-padded decimal number.  |\n",
    "\n",
    "\n",
    "\n",
    "---\n"
   ]
  },
  {
   "cell_type": "code",
   "execution_count": 135,
   "id": "68c3d212-02d6-43db-ab2c-67196e856286",
   "metadata": {},
   "outputs": [],
   "source": [
    "from datetime import date"
   ]
  },
  {
   "cell_type": "code",
   "execution_count": 136,
   "id": "2e8b9020-f40b-401d-b120-d4d9d76900f7",
   "metadata": {},
   "outputs": [
    {
     "name": "stdout",
     "output_type": "stream",
     "text": [
      "date 2025-02-18\n"
     ]
    }
   ],
   "source": [
    "TODAY=date.today()\n",
    "print(\"date\", TODAY)"
   ]
  },
  {
   "cell_type": "code",
   "execution_count": 139,
   "id": "c6de2bef-975e-42a5-af9d-11e2fe849cf4",
   "metadata": {},
   "outputs": [
    {
     "name": "stdout",
     "output_type": "stream",
     "text": [
      "formated date : 02-18-25.\n"
     ]
    }
   ],
   "source": [
    "print(\"formated date :\", TODAY.strftime(\"%m-%d-%y.\"))"
   ]
  },
  {
   "cell_type": "code",
   "execution_count": 142,
   "id": "5c192958-a09b-4d52-b5e0-af56edd73bc4",
   "metadata": {},
   "outputs": [
    {
     "name": "stdout",
     "output_type": "stream",
     "text": [
      "formated date : 18-Feb-2025\n"
     ]
    }
   ],
   "source": [
    "print(\"formated date :\", TODAY.strftime(\"%d-%b-%Y\"))"
   ]
  },
  {
   "cell_type": "code",
   "execution_count": 143,
   "id": "c6033a8b-71df-47a1-a658-4c567ddba141",
   "metadata": {},
   "outputs": [
    {
     "name": "stdout",
     "output_type": "stream",
     "text": [
      "formated date : Tuesday on the 18 day of February.\n"
     ]
    }
   ],
   "source": [
    "print(\"formated date :\", TODAY.strftime(\"%A on the %d day of %B.\"))"
   ]
  },
  {
   "cell_type": "code",
   "execution_count": 146,
   "id": "03f6bc47-bb45-4203-b8ad-3a1687bb70f9",
   "metadata": {},
   "outputs": [
    {
     "name": "stdout",
     "output_type": "stream",
     "text": [
      "Agen in days : 22117\n"
     ]
    }
   ],
   "source": [
    "birthday =date(1964, 7, 31)\n",
    "age=TODAY-birthday\n",
    "print(\"Agen in days :\", age.days)"
   ]
  },
  {
   "cell_type": "markdown",
   "id": "d5aba921-b6bc-4dde-8336-09f0552c6b52",
   "metadata": {},
   "source": [
    "---\n",
    "\n",
    "#### `OS`  - OPERATING SYSTEM\n",
    "\n",
    "- The os module provides dozens of functions for interacting with the operating system"
   ]
  },
  {
   "cell_type": "code",
   "execution_count": 147,
   "id": "f2ec349e-7a2b-4934-b6d0-4a15a873d7c8",
   "metadata": {},
   "outputs": [],
   "source": [
    "import os"
   ]
  },
  {
   "cell_type": "code",
   "execution_count": 149,
   "id": "870377b1-66f7-41c9-801a-c04300947df4",
   "metadata": {},
   "outputs": [
    {
     "name": "stdout",
     "output_type": "stream",
     "text": [
      "Get current working dictionary : C:\\Users\\HP\n"
     ]
    }
   ],
   "source": [
    "print(\"Get current working directory :\", os.getcwd())"
   ]
  },
  {
   "cell_type": "code",
   "execution_count": 150,
   "id": "d53d5aee-50b5-49a8-9001-8ceb9dbebfb4",
   "metadata": {},
   "outputs": [
    {
     "name": "stdout",
     "output_type": "stream",
     "text": [
      "listing existing directory:\n"
     ]
    },
    {
     "data": {
      "text/plain": [
       "<function nt.listdir(path=None)>"
      ]
     },
     "execution_count": 150,
     "metadata": {},
     "output_type": "execute_result"
    }
   ],
   "source": [
    "print(\"listing existing directory:\")\n",
    "os.listdir"
   ]
  },
  {
   "cell_type": "code",
   "execution_count": 151,
   "id": "b8811394-2ee4-4488-9f7e-5e61731262f9",
   "metadata": {},
   "outputs": [
    {
     "name": "stdout",
     "output_type": "stream",
     "text": [
      "make new directory\n"
     ]
    },
    {
     "data": {
      "text/plain": [
       "0"
      ]
     },
     "execution_count": 151,
     "metadata": {},
     "output_type": "execute_result"
    }
   ],
   "source": [
    "print(\"make new directory\")\n",
    "os.system('mkdir today')"
   ]
  },
  {
   "cell_type": "code",
   "execution_count": 152,
   "id": "6862abfc-9478-4eba-9cda-220b22df419c",
   "metadata": {},
   "outputs": [
    {
     "name": "stdout",
     "output_type": "stream",
     "text": [
      "listing existing directory :\n"
     ]
    },
    {
     "data": {
      "text/plain": [
       "<function nt.listdir(path=None)>"
      ]
     },
     "execution_count": 152,
     "metadata": {},
     "output_type": "execute_result"
    }
   ],
   "source": [
    "print(\"listing existing directory :\")\n",
    "os.listdir"
   ]
  },
  {
   "cell_type": "code",
   "execution_count": 153,
   "id": "ee0ef0cb-de7a-4111-95eb-26c7d2492487",
   "metadata": {},
   "outputs": [],
   "source": [
    "os.chdir('today')"
   ]
  },
  {
   "cell_type": "code",
   "execution_count": 154,
   "id": "6ced13c1-d127-4b67-8746-facacb2f67fa",
   "metadata": {},
   "outputs": [
    {
     "name": "stdout",
     "output_type": "stream",
     "text": [
      "get current working directory : C:\\Users\\HP\\today\n"
     ]
    }
   ],
   "source": [
    "print(\"get current working directory :\", os.getcwd())"
   ]
  },
  {
   "cell_type": "code",
   "execution_count": 157,
   "id": "bb385807-b9e0-479d-b207-4868133e15cb",
   "metadata": {},
   "outputs": [
    {
     "name": "stdout",
     "output_type": "stream",
     "text": [
      "change current directory to sample_data\n",
      "make new directory\n",
      "mkdir sample_data\n"
     ]
    }
   ],
   "source": [
    "print(\"change current directory to sample_data\")\n",
    "print('make new directory')\n",
    "print('mkdir sample_data')"
   ]
  },
  {
   "cell_type": "code",
   "execution_count": 158,
   "id": "9d32928d-32e8-406b-8c34-113af63a9485",
   "metadata": {},
   "outputs": [
    {
     "name": "stdout",
     "output_type": "stream",
     "text": [
      "listing existing directory :\n"
     ]
    },
    {
     "data": {
      "text/plain": [
       "1"
      ]
     },
     "execution_count": 158,
     "metadata": {},
     "output_type": "execute_result"
    }
   ],
   "source": [
    "print(\"listing existing directory :\")\n",
    "os.system('is')"
   ]
  },
  {
   "cell_type": "code",
   "execution_count": 2,
   "id": "2e0399e8-54e6-42f3-9897-c1a1263bc9a5",
   "metadata": {},
   "outputs": [],
   "source": [
    "def addation(a,b):\n",
    "    return a+b\n",
    "def subtraction(a,b):\n",
    "    return a-b\n",
    "def multiplication(a,b):\n",
    "    return a*b\n",
    "def division(a,b):\n",
    "    return a/b"
   ]
  },
  {
   "cell_type": "code",
   "execution_count": 5,
   "id": "e1ce1ba9-9480-40e9-b691-0a7c35a33e92",
   "metadata": {},
   "outputs": [],
   "source": [
    "from Operator import Arithmetic"
   ]
  },
  {
   "cell_type": "code",
   "execution_count": 6,
   "id": "4afea918-c77a-4e38-bb3a-1076e2a451e9",
   "metadata": {},
   "outputs": [
    {
     "data": {
      "text/plain": [
       "['__builtins__',\n",
       " '__cached__',\n",
       " '__doc__',\n",
       " '__file__',\n",
       " '__loader__',\n",
       " '__name__',\n",
       " '__package__',\n",
       " '__spec__',\n",
       " 'addation',\n",
       " 'division',\n",
       " 'multiplication',\n",
       " 'subtraction']"
      ]
     },
     "execution_count": 6,
     "metadata": {},
     "output_type": "execute_result"
    }
   ],
   "source": [
    "dir(Arithmetic)"
   ]
  },
  {
   "cell_type": "code",
   "execution_count": 1,
   "id": "ac967b3b-51b5-4db2-b60e-1504be7be412",
   "metadata": {},
   "outputs": [],
   "source": [
    "import os"
   ]
  },
  {
   "cell_type": "code",
   "execution_count": 4,
   "id": "cbad6337-3488-4ab9-944e-5307c68f1db9",
   "metadata": {},
   "outputs": [
    {
     "name": "stdout",
     "output_type": "stream",
     "text": [
      "C:\\Users\\HP\n"
     ]
    }
   ],
   "source": [
    "print(os.getcwd())"
   ]
  },
  {
   "cell_type": "code",
   "execution_count": null,
   "id": "79048c5b-059a-423b-bfdb-a117012511c6",
   "metadata": {},
   "outputs": [],
   "source": []
  }
 ],
 "metadata": {
  "kernelspec": {
   "display_name": "Python 3 (ipykernel)",
   "language": "python",
   "name": "python3"
  },
  "language_info": {
   "codemirror_mode": {
    "name": "ipython",
    "version": 3
   },
   "file_extension": ".py",
   "mimetype": "text/x-python",
   "name": "python",
   "nbconvert_exporter": "python",
   "pygments_lexer": "ipython3",
   "version": "3.12.7"
  }
 },
 "nbformat": 4,
 "nbformat_minor": 5
}
